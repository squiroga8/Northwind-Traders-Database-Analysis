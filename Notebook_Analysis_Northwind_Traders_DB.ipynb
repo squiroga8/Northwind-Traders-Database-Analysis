{
 "cells": [
  {
   "cell_type": "markdown",
   "metadata": {},
   "source": [
    "# Module 3 Final Project"
   ]
  },
  {
   "cell_type": "markdown",
   "metadata": {},
   "source": [
    "- **Name**: Serena Quiroga\n",
    "- **Date Submitted**: November 8, 2019\n",
    "- **Course**: Flatiron Online Data Science Self-Paced\n",
    "- **Instructor**: Eli Thomas\n",
    "- **Blog Post**: http://squiroga8.github.io/an_intro_to_hypothesis_testing"
   ]
  },
  {
   "cell_type": "markdown",
   "metadata": {},
   "source": [
    "# Overview of Requirements & Approach\n",
    "\n",
    "For this project, I am working with the Northwind database--a free, open-source dataset created by Microsoft containing data from a fictional company."
   ]
  },
  {
   "cell_type": "markdown",
   "metadata": {},
   "source": [
    "## DB Schema"
   ]
  },
  {
   "cell_type": "markdown",
   "metadata": {},
   "source": [
    "<img src='https://raw.githubusercontent.com/learn-co-curriculum/dsc-mod-3-project/master/Northwind_ERD_updated.png'>"
   ]
  },
  {
   "cell_type": "markdown",
   "metadata": {
    "heading_collapsed": true
   },
   "source": [
    "## Project Goal:\n",
    "*The goal of this project is to query the database to get the data needed to perform a statistical analysis, including hypothesis testing, to answer the following questions:*\n",
    "- Q1: **Does discount amount have a statistically significant effect on the quantity of a product in an order? If so, at what level(s) of discount?**\n",
    "- Q2: **Is there a difference in performance between US and UK employees?** (Using number of orders)\n",
    "- Q3: **Is there a difference in order processing time (from OrderDate to ShipDate) across the 3 different Shipping companies?**\n",
    "- Q4: **Is there any interaction between Category and Customer Region in terms of total revenue per category?**"
   ]
  },
  {
   "cell_type": "markdown",
   "metadata": {},
   "source": [
    "## Project Requirements:"
   ]
  },
  {
   "cell_type": "markdown",
   "metadata": {},
   "source": [
    "Within this notebook, I will provide the following analyses:\n",
    "- [x] Answer original hypothesis test (see above)\n",
    "- [x] Test 3 additional Hypotheses\n",
    "    - [x] For each hypothesis, specify both the null hypothesis and the alternative hypothesis for each question. \n",
    "    - [x] Also specify if this is one-tail or a two-tail test.\n",
    "- [x] This notebook shows how I arrived at my results for each hypothesis test, including how I calculated my p-values.\n",
    "- [x] This notebook also includes any other statistics that I find relevant to my analysis, such as effect size.\n",
    "    \n",
    "In addition to this notebook, this final project also includes the following:\n",
    "- a Blog Post\n",
    "- an Executive Summary/Non-Technical Presentation that explains the hypothesis tests I ran, my findings, and their relevance to company stakeholders (saved as a pdf in this repository)."
   ]
  },
  {
   "cell_type": "markdown",
   "metadata": {},
   "source": [
    "# Data Retrieval"
   ]
  },
  {
   "cell_type": "markdown",
   "metadata": {},
   "source": [
    "## Importing the libraries needed"
   ]
  },
  {
   "cell_type": "code",
   "execution_count": 272,
   "metadata": {
    "ExecuteTime": {
     "end_time": "2019-11-06T12:09:07.144438Z",
     "start_time": "2019-11-06T12:09:07.086005Z"
    }
   },
   "outputs": [],
   "source": [
    "import pandas as pd\n",
    "import sqlite3\n",
    "import numpy as np\n",
    "import matplotlib.pyplot as plt\n",
    "%matplotlib inline\n",
    "import seaborn as sns\n",
    "sns.set_style('darkgrid')\n",
    "import scipy.stats as stats\n",
    "import welchs_ttest_ddof_pvalue as welch\n",
    "import statsmodels.api as sm\n",
    "from statsmodels.formula.api import ols\n",
    "from statsmodels.stats.multicomp import pairwise_tukeyhsd\n",
    "from statsmodels.stats.multicomp import MultiComparison"
   ]
  },
  {
   "cell_type": "markdown",
   "metadata": {},
   "source": [
    "## Connecting to the Sqlite Database"
   ]
  },
  {
   "cell_type": "code",
   "execution_count": 273,
   "metadata": {
    "ExecuteTime": {
     "end_time": "2019-11-06T12:09:12.615488Z",
     "start_time": "2019-11-06T12:09:12.554204Z"
    }
   },
   "outputs": [],
   "source": [
    "conn = sqlite3.Connection('Northwind_small.sqlite', detect_types=sqlite3.PARSE_COLNAMES)\n",
    "c = conn.cursor()"
   ]
  },
  {
   "cell_type": "code",
   "execution_count": 78,
   "metadata": {
    "ExecuteTime": {
     "end_time": "2019-11-05T06:28:43.160427Z",
     "start_time": "2019-11-05T06:28:43.123553Z"
    }
   },
   "outputs": [
    {
     "data": {
      "text/html": [
       "<div>\n",
       "<style scoped>\n",
       "    .dataframe tbody tr th:only-of-type {\n",
       "        vertical-align: middle;\n",
       "    }\n",
       "\n",
       "    .dataframe tbody tr th {\n",
       "        vertical-align: top;\n",
       "    }\n",
       "\n",
       "    .dataframe thead th {\n",
       "        text-align: right;\n",
       "    }\n",
       "</style>\n",
       "<table border=\"1\" class=\"dataframe\">\n",
       "  <thead>\n",
       "    <tr style=\"text-align: right;\">\n",
       "      <th></th>\n",
       "      <th>type</th>\n",
       "      <th>name</th>\n",
       "      <th>tbl_name</th>\n",
       "      <th>rootpage</th>\n",
       "      <th>sql</th>\n",
       "    </tr>\n",
       "  </thead>\n",
       "  <tbody>\n",
       "    <tr>\n",
       "      <td>0</td>\n",
       "      <td>table</td>\n",
       "      <td>Employee</td>\n",
       "      <td>Employee</td>\n",
       "      <td>2</td>\n",
       "      <td>CREATE TABLE \"Employee\" \\n(\\n  \"Id\" INTEGER PR...</td>\n",
       "    </tr>\n",
       "    <tr>\n",
       "      <td>1</td>\n",
       "      <td>table</td>\n",
       "      <td>Category</td>\n",
       "      <td>Category</td>\n",
       "      <td>3</td>\n",
       "      <td>CREATE TABLE \"Category\" \\n(\\n  \"Id\" INTEGER PR...</td>\n",
       "    </tr>\n",
       "    <tr>\n",
       "      <td>2</td>\n",
       "      <td>table</td>\n",
       "      <td>Customer</td>\n",
       "      <td>Customer</td>\n",
       "      <td>4</td>\n",
       "      <td>CREATE TABLE \"Customer\" \\n(\\n  \"Id\" VARCHAR(80...</td>\n",
       "    </tr>\n",
       "    <tr>\n",
       "      <td>3</td>\n",
       "      <td>table</td>\n",
       "      <td>Shipper</td>\n",
       "      <td>Shipper</td>\n",
       "      <td>8</td>\n",
       "      <td>CREATE TABLE \"Shipper\" \\n(\\n  \"Id\" INTEGER PRI...</td>\n",
       "    </tr>\n",
       "    <tr>\n",
       "      <td>4</td>\n",
       "      <td>table</td>\n",
       "      <td>Supplier</td>\n",
       "      <td>Supplier</td>\n",
       "      <td>9</td>\n",
       "      <td>CREATE TABLE \"Supplier\" \\n(\\n  \"Id\" INTEGER PR...</td>\n",
       "    </tr>\n",
       "    <tr>\n",
       "      <td>5</td>\n",
       "      <td>table</td>\n",
       "      <td>Order</td>\n",
       "      <td>Order</td>\n",
       "      <td>11</td>\n",
       "      <td>CREATE TABLE \"Order\" \\n(\\n  \"Id\" INTEGER PRIMA...</td>\n",
       "    </tr>\n",
       "    <tr>\n",
       "      <td>6</td>\n",
       "      <td>table</td>\n",
       "      <td>Product</td>\n",
       "      <td>Product</td>\n",
       "      <td>12</td>\n",
       "      <td>CREATE TABLE \"Product\" \\n(\\n  \"Id\" INTEGER PRI...</td>\n",
       "    </tr>\n",
       "    <tr>\n",
       "      <td>7</td>\n",
       "      <td>table</td>\n",
       "      <td>OrderDetail</td>\n",
       "      <td>OrderDetail</td>\n",
       "      <td>14</td>\n",
       "      <td>CREATE TABLE \"OrderDetail\" \\n(\\n  \"Id\" VARCHAR...</td>\n",
       "    </tr>\n",
       "    <tr>\n",
       "      <td>8</td>\n",
       "      <td>table</td>\n",
       "      <td>CustomerCustomerDemo</td>\n",
       "      <td>CustomerCustomerDemo</td>\n",
       "      <td>16</td>\n",
       "      <td>CREATE TABLE \"CustomerCustomerDemo\" \\n(\\n  \"Id...</td>\n",
       "    </tr>\n",
       "    <tr>\n",
       "      <td>9</td>\n",
       "      <td>table</td>\n",
       "      <td>CustomerDemographic</td>\n",
       "      <td>CustomerDemographic</td>\n",
       "      <td>18</td>\n",
       "      <td>CREATE TABLE \"CustomerDemographic\" \\n(\\n  \"Id\"...</td>\n",
       "    </tr>\n",
       "    <tr>\n",
       "      <td>10</td>\n",
       "      <td>table</td>\n",
       "      <td>Region</td>\n",
       "      <td>Region</td>\n",
       "      <td>21</td>\n",
       "      <td>CREATE TABLE \"Region\" \\n(\\n  \"Id\" INTEGER PRIM...</td>\n",
       "    </tr>\n",
       "    <tr>\n",
       "      <td>11</td>\n",
       "      <td>table</td>\n",
       "      <td>Territory</td>\n",
       "      <td>Territory</td>\n",
       "      <td>22</td>\n",
       "      <td>CREATE TABLE \"Territory\" \\n(\\n  \"Id\" VARCHAR(8...</td>\n",
       "    </tr>\n",
       "    <tr>\n",
       "      <td>12</td>\n",
       "      <td>table</td>\n",
       "      <td>EmployeeTerritory</td>\n",
       "      <td>EmployeeTerritory</td>\n",
       "      <td>24</td>\n",
       "      <td>CREATE TABLE \"EmployeeTerritory\" \\n(\\n  \"Id\" V...</td>\n",
       "    </tr>\n",
       "  </tbody>\n",
       "</table>\n",
       "</div>"
      ],
      "text/plain": [
       "     type                  name              tbl_name  rootpage  \\\n",
       "0   table              Employee              Employee         2   \n",
       "1   table              Category              Category         3   \n",
       "2   table              Customer              Customer         4   \n",
       "3   table               Shipper               Shipper         8   \n",
       "4   table              Supplier              Supplier         9   \n",
       "5   table                 Order                 Order        11   \n",
       "6   table               Product               Product        12   \n",
       "7   table           OrderDetail           OrderDetail        14   \n",
       "8   table  CustomerCustomerDemo  CustomerCustomerDemo        16   \n",
       "9   table   CustomerDemographic   CustomerDemographic        18   \n",
       "10  table                Region                Region        21   \n",
       "11  table             Territory             Territory        22   \n",
       "12  table     EmployeeTerritory     EmployeeTerritory        24   \n",
       "\n",
       "                                                  sql  \n",
       "0   CREATE TABLE \"Employee\" \\n(\\n  \"Id\" INTEGER PR...  \n",
       "1   CREATE TABLE \"Category\" \\n(\\n  \"Id\" INTEGER PR...  \n",
       "2   CREATE TABLE \"Customer\" \\n(\\n  \"Id\" VARCHAR(80...  \n",
       "3   CREATE TABLE \"Shipper\" \\n(\\n  \"Id\" INTEGER PRI...  \n",
       "4   CREATE TABLE \"Supplier\" \\n(\\n  \"Id\" INTEGER PR...  \n",
       "5   CREATE TABLE \"Order\" \\n(\\n  \"Id\" INTEGER PRIMA...  \n",
       "6   CREATE TABLE \"Product\" \\n(\\n  \"Id\" INTEGER PRI...  \n",
       "7   CREATE TABLE \"OrderDetail\" \\n(\\n  \"Id\" VARCHAR...  \n",
       "8   CREATE TABLE \"CustomerCustomerDemo\" \\n(\\n  \"Id...  \n",
       "9   CREATE TABLE \"CustomerDemographic\" \\n(\\n  \"Id\"...  \n",
       "10  CREATE TABLE \"Region\" \\n(\\n  \"Id\" INTEGER PRIM...  \n",
       "11  CREATE TABLE \"Territory\" \\n(\\n  \"Id\" VARCHAR(8...  \n",
       "12  CREATE TABLE \"EmployeeTerritory\" \\n(\\n  \"Id\" V...  "
      ]
     },
     "execution_count": 78,
     "metadata": {},
     "output_type": "execute_result"
    }
   ],
   "source": [
    "# high-level overview of what tables are provided in this database\n",
    "c.execute(\"\"\"SELECT *FROM sqlite_master WHERE type = 'table';\"\"\")\n",
    "df = pd.DataFrame(c.fetchall())\n",
    "df.columns = [x[0] for x in c.description]\n",
    "df"
   ]
  },
  {
   "cell_type": "markdown",
   "metadata": {},
   "source": [
    "# EDA"
   ]
  },
  {
   "cell_type": "markdown",
   "metadata": {},
   "source": [
    "## Overview of all tables:"
   ]
  },
  {
   "cell_type": "markdown",
   "metadata": {},
   "source": [
    "While we currently have one hypothesis provided for testing, in order to generate 3 additional hypotheses to test we should begin by getting to know the other tables/data provided. I'll record my first impressions and initial curiosities, as I tend to find these original questions to be the least over-complicated. We will end this section with some formulated questions, so that in the next sections we can proceed to running the appropriate hypothesis tests."
   ]
  },
  {
   "cell_type": "code",
   "execution_count": 79,
   "metadata": {
    "ExecuteTime": {
     "end_time": "2019-11-05T06:50:48.275698Z",
     "start_time": "2019-11-05T06:50:48.263774Z"
    }
   },
   "outputs": [],
   "source": [
    "# creating a list of tables in our database\n",
    "tables = c.execute(\"SELECT name FROM sqlite_master WHERE type='table';\").fetchall()\n",
    "tables = [i[0] for i in tables]"
   ]
  },
  {
   "cell_type": "code",
   "execution_count": 81,
   "metadata": {
    "ExecuteTime": {
     "end_time": "2019-11-05T06:55:28.923409Z",
     "start_time": "2019-11-05T06:55:28.822877Z"
    }
   },
   "outputs": [],
   "source": [
    "# Loop to put all tables into pandas dataframes, \n",
    "# credit: [https://github.com/arseniyturin/dsc-2-final-project-online-ds-sp-000/blob/master/Project%202%20Student.ipynb]\n",
    "dfs = []\n",
    "for i in tables:\n",
    "    table = c.execute('SELECT * FROM \"'+i+'\" ' ).fetchall()\n",
    "    columns = c.execute('PRAGMA table_info(\"'+i+'\")').fetchall()\n",
    "    df = pd.DataFrame(table, columns=[i[1] for i in columns])\n",
    "    foo = i+\"_df\" # to make a string into a variable name\n",
    "    exec(foo + \" = df\") # to make TableName_df\n",
    "    dfs.append(foo)"
   ]
  },
  {
   "cell_type": "code",
   "execution_count": 83,
   "metadata": {
    "ExecuteTime": {
     "end_time": "2019-11-05T06:58:00.074745Z",
     "start_time": "2019-11-05T06:58:00.068665Z"
    },
    "scrolled": true
   },
   "outputs": [
    {
     "data": {
      "text/plain": [
       "['Employee_df',\n",
       " 'Category_df',\n",
       " 'Customer_df',\n",
       " 'Shipper_df',\n",
       " 'Supplier_df',\n",
       " 'Order_df',\n",
       " 'Product_df',\n",
       " 'OrderDetail_df',\n",
       " 'CustomerCustomerDemo_df',\n",
       " 'CustomerDemographic_df',\n",
       " 'Region_df',\n",
       " 'Territory_df',\n",
       " 'EmployeeTerritory_df']"
      ]
     },
     "execution_count": 83,
     "metadata": {},
     "output_type": "execute_result"
    }
   ],
   "source": [
    "dfs"
   ]
  },
  {
   "cell_type": "code",
   "execution_count": 163,
   "metadata": {
    "ExecuteTime": {
     "end_time": "2019-11-05T14:49:46.478250Z",
     "start_time": "2019-11-05T14:49:46.474817Z"
    }
   },
   "outputs": [],
   "source": [
    "dfs_names = [Employee_df,\n",
    " Category_df,\n",
    " Customer_df,\n",
    " Shipper_df,\n",
    " Supplier_df,\n",
    " Order_df,\n",
    " Product_df,\n",
    " OrderDetail_df,\n",
    " CustomerCustomerDemo_df,\n",
    " CustomerDemographic_df,\n",
    " Region_df,\n",
    " Territory_df,\n",
    " EmployeeTerritory_df]"
   ]
  },
  {
   "cell_type": "code",
   "execution_count": 164,
   "metadata": {
    "ExecuteTime": {
     "end_time": "2019-11-05T14:49:49.101751Z",
     "start_time": "2019-11-05T14:49:49.001582Z"
    },
    "scrolled": true
   },
   "outputs": [
    {
     "data": {
      "text/html": [
       "<div>\n",
       "<style scoped>\n",
       "    .dataframe tbody tr th:only-of-type {\n",
       "        vertical-align: middle;\n",
       "    }\n",
       "\n",
       "    .dataframe tbody tr th {\n",
       "        vertical-align: top;\n",
       "    }\n",
       "\n",
       "    .dataframe thead th {\n",
       "        text-align: right;\n",
       "    }\n",
       "</style>\n",
       "<table border=\"1\" class=\"dataframe\">\n",
       "  <thead>\n",
       "    <tr style=\"text-align: right;\">\n",
       "      <th></th>\n",
       "      <th>Id</th>\n",
       "      <th>LastName</th>\n",
       "      <th>FirstName</th>\n",
       "      <th>Title</th>\n",
       "      <th>TitleOfCourtesy</th>\n",
       "      <th>BirthDate</th>\n",
       "      <th>HireDate</th>\n",
       "      <th>Address</th>\n",
       "      <th>City</th>\n",
       "      <th>Region</th>\n",
       "      <th>PostalCode</th>\n",
       "      <th>Country</th>\n",
       "      <th>HomePhone</th>\n",
       "      <th>Extension</th>\n",
       "      <th>Photo</th>\n",
       "      <th>Notes</th>\n",
       "      <th>ReportsTo</th>\n",
       "      <th>PhotoPath</th>\n",
       "    </tr>\n",
       "  </thead>\n",
       "  <tbody>\n",
       "    <tr>\n",
       "      <td>0</td>\n",
       "      <td>1</td>\n",
       "      <td>Davolio</td>\n",
       "      <td>Nancy</td>\n",
       "      <td>Sales Representative</td>\n",
       "      <td>Ms.</td>\n",
       "      <td>1980-12-08</td>\n",
       "      <td>2024-05-01</td>\n",
       "      <td>507 - 20th Ave. E. Apt. 2A</td>\n",
       "      <td>Seattle</td>\n",
       "      <td>North America</td>\n",
       "      <td>98122</td>\n",
       "      <td>USA</td>\n",
       "      <td>(206) 555-9857</td>\n",
       "      <td>5467</td>\n",
       "      <td>None</td>\n",
       "      <td>Education includes a BA in psychology from Col...</td>\n",
       "      <td>2.0</td>\n",
       "      <td>http://accweb/emmployees/davolio.bmp</td>\n",
       "    </tr>\n",
       "    <tr>\n",
       "      <td>1</td>\n",
       "      <td>2</td>\n",
       "      <td>Fuller</td>\n",
       "      <td>Andrew</td>\n",
       "      <td>Vice President, Sales</td>\n",
       "      <td>Dr.</td>\n",
       "      <td>1984-02-19</td>\n",
       "      <td>2024-08-14</td>\n",
       "      <td>908 W. Capital Way</td>\n",
       "      <td>Tacoma</td>\n",
       "      <td>North America</td>\n",
       "      <td>98401</td>\n",
       "      <td>USA</td>\n",
       "      <td>(206) 555-9482</td>\n",
       "      <td>3457</td>\n",
       "      <td>None</td>\n",
       "      <td>Andrew received his BTS commercial in 1974 and...</td>\n",
       "      <td>NaN</td>\n",
       "      <td>http://accweb/emmployees/fuller.bmp</td>\n",
       "    </tr>\n",
       "    <tr>\n",
       "      <td>2</td>\n",
       "      <td>3</td>\n",
       "      <td>Leverling</td>\n",
       "      <td>Janet</td>\n",
       "      <td>Sales Representative</td>\n",
       "      <td>Ms.</td>\n",
       "      <td>1995-08-30</td>\n",
       "      <td>2024-04-01</td>\n",
       "      <td>722 Moss Bay Blvd.</td>\n",
       "      <td>Kirkland</td>\n",
       "      <td>North America</td>\n",
       "      <td>98033</td>\n",
       "      <td>USA</td>\n",
       "      <td>(206) 555-3412</td>\n",
       "      <td>3355</td>\n",
       "      <td>None</td>\n",
       "      <td>Janet has a BS degree in chemistry from Boston...</td>\n",
       "      <td>2.0</td>\n",
       "      <td>http://accweb/emmployees/leverling.bmp</td>\n",
       "    </tr>\n",
       "    <tr>\n",
       "      <td>3</td>\n",
       "      <td>4</td>\n",
       "      <td>Peacock</td>\n",
       "      <td>Margaret</td>\n",
       "      <td>Sales Representative</td>\n",
       "      <td>Mrs.</td>\n",
       "      <td>1969-09-19</td>\n",
       "      <td>2025-05-03</td>\n",
       "      <td>4110 Old Redmond Rd.</td>\n",
       "      <td>Redmond</td>\n",
       "      <td>North America</td>\n",
       "      <td>98052</td>\n",
       "      <td>USA</td>\n",
       "      <td>(206) 555-8122</td>\n",
       "      <td>5176</td>\n",
       "      <td>None</td>\n",
       "      <td>Margaret holds a BA in English literature from...</td>\n",
       "      <td>2.0</td>\n",
       "      <td>http://accweb/emmployees/peacock.bmp</td>\n",
       "    </tr>\n",
       "    <tr>\n",
       "      <td>4</td>\n",
       "      <td>5</td>\n",
       "      <td>Buchanan</td>\n",
       "      <td>Steven</td>\n",
       "      <td>Sales Manager</td>\n",
       "      <td>Mr.</td>\n",
       "      <td>1987-03-04</td>\n",
       "      <td>2025-10-17</td>\n",
       "      <td>14 Garrett Hill</td>\n",
       "      <td>London</td>\n",
       "      <td>British Isles</td>\n",
       "      <td>SW1 8JR</td>\n",
       "      <td>UK</td>\n",
       "      <td>(71) 555-4848</td>\n",
       "      <td>3453</td>\n",
       "      <td>None</td>\n",
       "      <td>Steven Buchanan graduated from St. Andrews Uni...</td>\n",
       "      <td>2.0</td>\n",
       "      <td>http://accweb/emmployees/buchanan.bmp</td>\n",
       "    </tr>\n",
       "  </tbody>\n",
       "</table>\n",
       "</div>"
      ],
      "text/plain": [
       "   Id   LastName FirstName                  Title TitleOfCourtesy   BirthDate  \\\n",
       "0   1    Davolio     Nancy   Sales Representative             Ms.  1980-12-08   \n",
       "1   2     Fuller    Andrew  Vice President, Sales             Dr.  1984-02-19   \n",
       "2   3  Leverling     Janet   Sales Representative             Ms.  1995-08-30   \n",
       "3   4    Peacock  Margaret   Sales Representative            Mrs.  1969-09-19   \n",
       "4   5   Buchanan    Steven          Sales Manager             Mr.  1987-03-04   \n",
       "\n",
       "     HireDate                     Address      City         Region PostalCode  \\\n",
       "0  2024-05-01  507 - 20th Ave. E. Apt. 2A   Seattle  North America      98122   \n",
       "1  2024-08-14          908 W. Capital Way    Tacoma  North America      98401   \n",
       "2  2024-04-01          722 Moss Bay Blvd.  Kirkland  North America      98033   \n",
       "3  2025-05-03        4110 Old Redmond Rd.   Redmond  North America      98052   \n",
       "4  2025-10-17             14 Garrett Hill    London  British Isles    SW1 8JR   \n",
       "\n",
       "  Country       HomePhone Extension Photo  \\\n",
       "0     USA  (206) 555-9857      5467  None   \n",
       "1     USA  (206) 555-9482      3457  None   \n",
       "2     USA  (206) 555-3412      3355  None   \n",
       "3     USA  (206) 555-8122      5176  None   \n",
       "4      UK   (71) 555-4848      3453  None   \n",
       "\n",
       "                                               Notes  ReportsTo  \\\n",
       "0  Education includes a BA in psychology from Col...        2.0   \n",
       "1  Andrew received his BTS commercial in 1974 and...        NaN   \n",
       "2  Janet has a BS degree in chemistry from Boston...        2.0   \n",
       "3  Margaret holds a BA in English literature from...        2.0   \n",
       "4  Steven Buchanan graduated from St. Andrews Uni...        2.0   \n",
       "\n",
       "                                PhotoPath  \n",
       "0    http://accweb/emmployees/davolio.bmp  \n",
       "1     http://accweb/emmployees/fuller.bmp  \n",
       "2  http://accweb/emmployees/leverling.bmp  \n",
       "3    http://accweb/emmployees/peacock.bmp  \n",
       "4   http://accweb/emmployees/buchanan.bmp  "
      ]
     },
     "metadata": {},
     "output_type": "display_data"
    },
    {
     "data": {
      "text/html": [
       "<div>\n",
       "<style scoped>\n",
       "    .dataframe tbody tr th:only-of-type {\n",
       "        vertical-align: middle;\n",
       "    }\n",
       "\n",
       "    .dataframe tbody tr th {\n",
       "        vertical-align: top;\n",
       "    }\n",
       "\n",
       "    .dataframe thead th {\n",
       "        text-align: right;\n",
       "    }\n",
       "</style>\n",
       "<table border=\"1\" class=\"dataframe\">\n",
       "  <thead>\n",
       "    <tr style=\"text-align: right;\">\n",
       "      <th></th>\n",
       "      <th>Id</th>\n",
       "      <th>CategoryName</th>\n",
       "      <th>Description</th>\n",
       "    </tr>\n",
       "  </thead>\n",
       "  <tbody>\n",
       "    <tr>\n",
       "      <td>0</td>\n",
       "      <td>1</td>\n",
       "      <td>Beverages</td>\n",
       "      <td>Soft drinks, coffees, teas, beers, and ales</td>\n",
       "    </tr>\n",
       "    <tr>\n",
       "      <td>1</td>\n",
       "      <td>2</td>\n",
       "      <td>Condiments</td>\n",
       "      <td>Sweet and savory sauces, relishes, spreads, an...</td>\n",
       "    </tr>\n",
       "    <tr>\n",
       "      <td>2</td>\n",
       "      <td>3</td>\n",
       "      <td>Confections</td>\n",
       "      <td>Desserts, candies, and sweet breads</td>\n",
       "    </tr>\n",
       "    <tr>\n",
       "      <td>3</td>\n",
       "      <td>4</td>\n",
       "      <td>Dairy Products</td>\n",
       "      <td>Cheeses</td>\n",
       "    </tr>\n",
       "    <tr>\n",
       "      <td>4</td>\n",
       "      <td>5</td>\n",
       "      <td>Grains/Cereals</td>\n",
       "      <td>Breads, crackers, pasta, and cereal</td>\n",
       "    </tr>\n",
       "  </tbody>\n",
       "</table>\n",
       "</div>"
      ],
      "text/plain": [
       "   Id    CategoryName                                        Description\n",
       "0   1       Beverages        Soft drinks, coffees, teas, beers, and ales\n",
       "1   2      Condiments  Sweet and savory sauces, relishes, spreads, an...\n",
       "2   3     Confections                Desserts, candies, and sweet breads\n",
       "3   4  Dairy Products                                            Cheeses\n",
       "4   5  Grains/Cereals                Breads, crackers, pasta, and cereal"
      ]
     },
     "metadata": {},
     "output_type": "display_data"
    },
    {
     "data": {
      "text/html": [
       "<div>\n",
       "<style scoped>\n",
       "    .dataframe tbody tr th:only-of-type {\n",
       "        vertical-align: middle;\n",
       "    }\n",
       "\n",
       "    .dataframe tbody tr th {\n",
       "        vertical-align: top;\n",
       "    }\n",
       "\n",
       "    .dataframe thead th {\n",
       "        text-align: right;\n",
       "    }\n",
       "</style>\n",
       "<table border=\"1\" class=\"dataframe\">\n",
       "  <thead>\n",
       "    <tr style=\"text-align: right;\">\n",
       "      <th></th>\n",
       "      <th>Id</th>\n",
       "      <th>CompanyName</th>\n",
       "      <th>ContactName</th>\n",
       "      <th>ContactTitle</th>\n",
       "      <th>Address</th>\n",
       "      <th>City</th>\n",
       "      <th>Region</th>\n",
       "      <th>PostalCode</th>\n",
       "      <th>Country</th>\n",
       "      <th>Phone</th>\n",
       "      <th>Fax</th>\n",
       "    </tr>\n",
       "  </thead>\n",
       "  <tbody>\n",
       "    <tr>\n",
       "      <td>0</td>\n",
       "      <td>ALFKI</td>\n",
       "      <td>Alfreds Futterkiste</td>\n",
       "      <td>Maria Anders</td>\n",
       "      <td>Sales Representative</td>\n",
       "      <td>Obere Str. 57</td>\n",
       "      <td>Berlin</td>\n",
       "      <td>Western Europe</td>\n",
       "      <td>12209</td>\n",
       "      <td>Germany</td>\n",
       "      <td>030-0074321</td>\n",
       "      <td>030-0076545</td>\n",
       "    </tr>\n",
       "    <tr>\n",
       "      <td>1</td>\n",
       "      <td>ANATR</td>\n",
       "      <td>Ana Trujillo Emparedados y helados</td>\n",
       "      <td>Ana Trujillo</td>\n",
       "      <td>Owner</td>\n",
       "      <td>Avda. de la Constitución 2222</td>\n",
       "      <td>México D.F.</td>\n",
       "      <td>Central America</td>\n",
       "      <td>05021</td>\n",
       "      <td>Mexico</td>\n",
       "      <td>(5) 555-4729</td>\n",
       "      <td>(5) 555-3745</td>\n",
       "    </tr>\n",
       "    <tr>\n",
       "      <td>2</td>\n",
       "      <td>ANTON</td>\n",
       "      <td>Antonio Moreno Taquería</td>\n",
       "      <td>Antonio Moreno</td>\n",
       "      <td>Owner</td>\n",
       "      <td>Mataderos  2312</td>\n",
       "      <td>México D.F.</td>\n",
       "      <td>Central America</td>\n",
       "      <td>05023</td>\n",
       "      <td>Mexico</td>\n",
       "      <td>(5) 555-3932</td>\n",
       "      <td>None</td>\n",
       "    </tr>\n",
       "    <tr>\n",
       "      <td>3</td>\n",
       "      <td>AROUT</td>\n",
       "      <td>Around the Horn</td>\n",
       "      <td>Thomas Hardy</td>\n",
       "      <td>Sales Representative</td>\n",
       "      <td>120 Hanover Sq.</td>\n",
       "      <td>London</td>\n",
       "      <td>British Isles</td>\n",
       "      <td>WA1 1DP</td>\n",
       "      <td>UK</td>\n",
       "      <td>(171) 555-7788</td>\n",
       "      <td>(171) 555-6750</td>\n",
       "    </tr>\n",
       "    <tr>\n",
       "      <td>4</td>\n",
       "      <td>BERGS</td>\n",
       "      <td>Berglunds snabbköp</td>\n",
       "      <td>Christina Berglund</td>\n",
       "      <td>Order Administrator</td>\n",
       "      <td>Berguvsvägen  8</td>\n",
       "      <td>Luleå</td>\n",
       "      <td>Northern Europe</td>\n",
       "      <td>S-958 22</td>\n",
       "      <td>Sweden</td>\n",
       "      <td>0921-12 34 65</td>\n",
       "      <td>0921-12 34 67</td>\n",
       "    </tr>\n",
       "  </tbody>\n",
       "</table>\n",
       "</div>"
      ],
      "text/plain": [
       "      Id                         CompanyName         ContactName  \\\n",
       "0  ALFKI                 Alfreds Futterkiste        Maria Anders   \n",
       "1  ANATR  Ana Trujillo Emparedados y helados        Ana Trujillo   \n",
       "2  ANTON             Antonio Moreno Taquería      Antonio Moreno   \n",
       "3  AROUT                     Around the Horn        Thomas Hardy   \n",
       "4  BERGS                  Berglunds snabbköp  Christina Berglund   \n",
       "\n",
       "           ContactTitle                        Address         City  \\\n",
       "0  Sales Representative                  Obere Str. 57       Berlin   \n",
       "1                 Owner  Avda. de la Constitución 2222  México D.F.   \n",
       "2                 Owner                Mataderos  2312  México D.F.   \n",
       "3  Sales Representative                120 Hanover Sq.       London   \n",
       "4   Order Administrator                Berguvsvägen  8        Luleå   \n",
       "\n",
       "            Region PostalCode  Country           Phone             Fax  \n",
       "0   Western Europe      12209  Germany     030-0074321     030-0076545  \n",
       "1  Central America      05021   Mexico    (5) 555-4729    (5) 555-3745  \n",
       "2  Central America      05023   Mexico    (5) 555-3932            None  \n",
       "3    British Isles    WA1 1DP       UK  (171) 555-7788  (171) 555-6750  \n",
       "4  Northern Europe   S-958 22   Sweden   0921-12 34 65   0921-12 34 67  "
      ]
     },
     "metadata": {},
     "output_type": "display_data"
    },
    {
     "data": {
      "text/html": [
       "<div>\n",
       "<style scoped>\n",
       "    .dataframe tbody tr th:only-of-type {\n",
       "        vertical-align: middle;\n",
       "    }\n",
       "\n",
       "    .dataframe tbody tr th {\n",
       "        vertical-align: top;\n",
       "    }\n",
       "\n",
       "    .dataframe thead th {\n",
       "        text-align: right;\n",
       "    }\n",
       "</style>\n",
       "<table border=\"1\" class=\"dataframe\">\n",
       "  <thead>\n",
       "    <tr style=\"text-align: right;\">\n",
       "      <th></th>\n",
       "      <th>Id</th>\n",
       "      <th>CompanyName</th>\n",
       "      <th>Phone</th>\n",
       "    </tr>\n",
       "  </thead>\n",
       "  <tbody>\n",
       "    <tr>\n",
       "      <td>0</td>\n",
       "      <td>1</td>\n",
       "      <td>Speedy Express</td>\n",
       "      <td>(503) 555-9831</td>\n",
       "    </tr>\n",
       "    <tr>\n",
       "      <td>1</td>\n",
       "      <td>2</td>\n",
       "      <td>United Package</td>\n",
       "      <td>(503) 555-3199</td>\n",
       "    </tr>\n",
       "    <tr>\n",
       "      <td>2</td>\n",
       "      <td>3</td>\n",
       "      <td>Federal Shipping</td>\n",
       "      <td>(503) 555-9931</td>\n",
       "    </tr>\n",
       "  </tbody>\n",
       "</table>\n",
       "</div>"
      ],
      "text/plain": [
       "   Id       CompanyName           Phone\n",
       "0   1    Speedy Express  (503) 555-9831\n",
       "1   2    United Package  (503) 555-3199\n",
       "2   3  Federal Shipping  (503) 555-9931"
      ]
     },
     "metadata": {},
     "output_type": "display_data"
    },
    {
     "data": {
      "text/html": [
       "<div>\n",
       "<style scoped>\n",
       "    .dataframe tbody tr th:only-of-type {\n",
       "        vertical-align: middle;\n",
       "    }\n",
       "\n",
       "    .dataframe tbody tr th {\n",
       "        vertical-align: top;\n",
       "    }\n",
       "\n",
       "    .dataframe thead th {\n",
       "        text-align: right;\n",
       "    }\n",
       "</style>\n",
       "<table border=\"1\" class=\"dataframe\">\n",
       "  <thead>\n",
       "    <tr style=\"text-align: right;\">\n",
       "      <th></th>\n",
       "      <th>Id</th>\n",
       "      <th>CompanyName</th>\n",
       "      <th>ContactName</th>\n",
       "      <th>ContactTitle</th>\n",
       "      <th>Address</th>\n",
       "      <th>City</th>\n",
       "      <th>Region</th>\n",
       "      <th>PostalCode</th>\n",
       "      <th>Country</th>\n",
       "      <th>Phone</th>\n",
       "      <th>Fax</th>\n",
       "      <th>HomePage</th>\n",
       "    </tr>\n",
       "  </thead>\n",
       "  <tbody>\n",
       "    <tr>\n",
       "      <td>0</td>\n",
       "      <td>1</td>\n",
       "      <td>Exotic Liquids</td>\n",
       "      <td>Charlotte Cooper</td>\n",
       "      <td>Purchasing Manager</td>\n",
       "      <td>49 Gilbert St.</td>\n",
       "      <td>London</td>\n",
       "      <td>British Isles</td>\n",
       "      <td>EC1 4SD</td>\n",
       "      <td>UK</td>\n",
       "      <td>(171) 555-2222</td>\n",
       "      <td>None</td>\n",
       "      <td>None</td>\n",
       "    </tr>\n",
       "    <tr>\n",
       "      <td>1</td>\n",
       "      <td>2</td>\n",
       "      <td>New Orleans Cajun Delights</td>\n",
       "      <td>Shelley Burke</td>\n",
       "      <td>Order Administrator</td>\n",
       "      <td>P.O. Box 78934</td>\n",
       "      <td>New Orleans</td>\n",
       "      <td>North America</td>\n",
       "      <td>70117</td>\n",
       "      <td>USA</td>\n",
       "      <td>(100) 555-4822</td>\n",
       "      <td>None</td>\n",
       "      <td>#CAJUN.HTM#</td>\n",
       "    </tr>\n",
       "    <tr>\n",
       "      <td>2</td>\n",
       "      <td>3</td>\n",
       "      <td>Grandma Kelly's Homestead</td>\n",
       "      <td>Regina Murphy</td>\n",
       "      <td>Sales Representative</td>\n",
       "      <td>707 Oxford Rd.</td>\n",
       "      <td>Ann Arbor</td>\n",
       "      <td>North America</td>\n",
       "      <td>48104</td>\n",
       "      <td>USA</td>\n",
       "      <td>(313) 555-5735</td>\n",
       "      <td>(313) 555-3349</td>\n",
       "      <td>None</td>\n",
       "    </tr>\n",
       "    <tr>\n",
       "      <td>3</td>\n",
       "      <td>4</td>\n",
       "      <td>Tokyo Traders</td>\n",
       "      <td>Yoshi Nagase</td>\n",
       "      <td>Marketing Manager</td>\n",
       "      <td>9-8 Sekimai Musashino-shi</td>\n",
       "      <td>Tokyo</td>\n",
       "      <td>Eastern Asia</td>\n",
       "      <td>100</td>\n",
       "      <td>Japan</td>\n",
       "      <td>(03) 3555-5011</td>\n",
       "      <td>None</td>\n",
       "      <td>None</td>\n",
       "    </tr>\n",
       "    <tr>\n",
       "      <td>4</td>\n",
       "      <td>5</td>\n",
       "      <td>Cooperativa de Quesos 'Las Cabras'</td>\n",
       "      <td>Antonio del Valle Saavedra</td>\n",
       "      <td>Export Administrator</td>\n",
       "      <td>Calle del Rosal 4</td>\n",
       "      <td>Oviedo</td>\n",
       "      <td>Southern Europe</td>\n",
       "      <td>33007</td>\n",
       "      <td>Spain</td>\n",
       "      <td>(98) 598 76 54</td>\n",
       "      <td>None</td>\n",
       "      <td>None</td>\n",
       "    </tr>\n",
       "  </tbody>\n",
       "</table>\n",
       "</div>"
      ],
      "text/plain": [
       "   Id                         CompanyName                 ContactName  \\\n",
       "0   1                      Exotic Liquids            Charlotte Cooper   \n",
       "1   2          New Orleans Cajun Delights               Shelley Burke   \n",
       "2   3           Grandma Kelly's Homestead               Regina Murphy   \n",
       "3   4                       Tokyo Traders                Yoshi Nagase   \n",
       "4   5  Cooperativa de Quesos 'Las Cabras'  Antonio del Valle Saavedra   \n",
       "\n",
       "           ContactTitle                    Address         City  \\\n",
       "0    Purchasing Manager             49 Gilbert St.       London   \n",
       "1   Order Administrator             P.O. Box 78934  New Orleans   \n",
       "2  Sales Representative             707 Oxford Rd.    Ann Arbor   \n",
       "3     Marketing Manager  9-8 Sekimai Musashino-shi        Tokyo   \n",
       "4  Export Administrator          Calle del Rosal 4       Oviedo   \n",
       "\n",
       "            Region PostalCode Country           Phone             Fax  \\\n",
       "0    British Isles    EC1 4SD      UK  (171) 555-2222            None   \n",
       "1    North America      70117     USA  (100) 555-4822            None   \n",
       "2    North America      48104     USA  (313) 555-5735  (313) 555-3349   \n",
       "3     Eastern Asia        100   Japan  (03) 3555-5011            None   \n",
       "4  Southern Europe      33007   Spain  (98) 598 76 54            None   \n",
       "\n",
       "      HomePage  \n",
       "0         None  \n",
       "1  #CAJUN.HTM#  \n",
       "2         None  \n",
       "3         None  \n",
       "4         None  "
      ]
     },
     "metadata": {},
     "output_type": "display_data"
    },
    {
     "data": {
      "text/html": [
       "<div>\n",
       "<style scoped>\n",
       "    .dataframe tbody tr th:only-of-type {\n",
       "        vertical-align: middle;\n",
       "    }\n",
       "\n",
       "    .dataframe tbody tr th {\n",
       "        vertical-align: top;\n",
       "    }\n",
       "\n",
       "    .dataframe thead th {\n",
       "        text-align: right;\n",
       "    }\n",
       "</style>\n",
       "<table border=\"1\" class=\"dataframe\">\n",
       "  <thead>\n",
       "    <tr style=\"text-align: right;\">\n",
       "      <th></th>\n",
       "      <th>Id</th>\n",
       "      <th>CustomerId</th>\n",
       "      <th>EmployeeId</th>\n",
       "      <th>OrderDate</th>\n",
       "      <th>RequiredDate</th>\n",
       "      <th>ShippedDate</th>\n",
       "      <th>ShipVia</th>\n",
       "      <th>Freight</th>\n",
       "      <th>ShipName</th>\n",
       "      <th>ShipAddress</th>\n",
       "      <th>ShipCity</th>\n",
       "      <th>ShipRegion</th>\n",
       "      <th>ShipPostalCode</th>\n",
       "      <th>ShipCountry</th>\n",
       "    </tr>\n",
       "  </thead>\n",
       "  <tbody>\n",
       "    <tr>\n",
       "      <td>0</td>\n",
       "      <td>10248</td>\n",
       "      <td>VINET</td>\n",
       "      <td>5</td>\n",
       "      <td>2012-07-04</td>\n",
       "      <td>2012-08-01</td>\n",
       "      <td>2012-07-16</td>\n",
       "      <td>3</td>\n",
       "      <td>32.38</td>\n",
       "      <td>Vins et alcools Chevalier</td>\n",
       "      <td>59 rue de l'Abbaye</td>\n",
       "      <td>Reims</td>\n",
       "      <td>Western Europe</td>\n",
       "      <td>51100</td>\n",
       "      <td>France</td>\n",
       "    </tr>\n",
       "    <tr>\n",
       "      <td>1</td>\n",
       "      <td>10249</td>\n",
       "      <td>TOMSP</td>\n",
       "      <td>6</td>\n",
       "      <td>2012-07-05</td>\n",
       "      <td>2012-08-16</td>\n",
       "      <td>2012-07-10</td>\n",
       "      <td>1</td>\n",
       "      <td>11.61</td>\n",
       "      <td>Toms Spezialitäten</td>\n",
       "      <td>Luisenstr. 48</td>\n",
       "      <td>Münster</td>\n",
       "      <td>Western Europe</td>\n",
       "      <td>44087</td>\n",
       "      <td>Germany</td>\n",
       "    </tr>\n",
       "    <tr>\n",
       "      <td>2</td>\n",
       "      <td>10250</td>\n",
       "      <td>HANAR</td>\n",
       "      <td>4</td>\n",
       "      <td>2012-07-08</td>\n",
       "      <td>2012-08-05</td>\n",
       "      <td>2012-07-12</td>\n",
       "      <td>2</td>\n",
       "      <td>65.83</td>\n",
       "      <td>Hanari Carnes</td>\n",
       "      <td>Rua do Paço, 67</td>\n",
       "      <td>Rio de Janeiro</td>\n",
       "      <td>South America</td>\n",
       "      <td>05454-876</td>\n",
       "      <td>Brazil</td>\n",
       "    </tr>\n",
       "    <tr>\n",
       "      <td>3</td>\n",
       "      <td>10251</td>\n",
       "      <td>VICTE</td>\n",
       "      <td>3</td>\n",
       "      <td>2012-07-08</td>\n",
       "      <td>2012-08-05</td>\n",
       "      <td>2012-07-15</td>\n",
       "      <td>1</td>\n",
       "      <td>41.34</td>\n",
       "      <td>Victuailles en stock</td>\n",
       "      <td>2, rue du Commerce</td>\n",
       "      <td>Lyon</td>\n",
       "      <td>Western Europe</td>\n",
       "      <td>69004</td>\n",
       "      <td>France</td>\n",
       "    </tr>\n",
       "    <tr>\n",
       "      <td>4</td>\n",
       "      <td>10252</td>\n",
       "      <td>SUPRD</td>\n",
       "      <td>4</td>\n",
       "      <td>2012-07-09</td>\n",
       "      <td>2012-08-06</td>\n",
       "      <td>2012-07-11</td>\n",
       "      <td>2</td>\n",
       "      <td>51.30</td>\n",
       "      <td>Suprêmes délices</td>\n",
       "      <td>Boulevard Tirou, 255</td>\n",
       "      <td>Charleroi</td>\n",
       "      <td>Western Europe</td>\n",
       "      <td>B-6000</td>\n",
       "      <td>Belgium</td>\n",
       "    </tr>\n",
       "  </tbody>\n",
       "</table>\n",
       "</div>"
      ],
      "text/plain": [
       "      Id CustomerId  EmployeeId   OrderDate RequiredDate ShippedDate  ShipVia  \\\n",
       "0  10248      VINET           5  2012-07-04   2012-08-01  2012-07-16        3   \n",
       "1  10249      TOMSP           6  2012-07-05   2012-08-16  2012-07-10        1   \n",
       "2  10250      HANAR           4  2012-07-08   2012-08-05  2012-07-12        2   \n",
       "3  10251      VICTE           3  2012-07-08   2012-08-05  2012-07-15        1   \n",
       "4  10252      SUPRD           4  2012-07-09   2012-08-06  2012-07-11        2   \n",
       "\n",
       "   Freight                   ShipName           ShipAddress        ShipCity  \\\n",
       "0    32.38  Vins et alcools Chevalier    59 rue de l'Abbaye           Reims   \n",
       "1    11.61         Toms Spezialitäten         Luisenstr. 48         Münster   \n",
       "2    65.83              Hanari Carnes       Rua do Paço, 67  Rio de Janeiro   \n",
       "3    41.34       Victuailles en stock    2, rue du Commerce            Lyon   \n",
       "4    51.30           Suprêmes délices  Boulevard Tirou, 255       Charleroi   \n",
       "\n",
       "       ShipRegion ShipPostalCode ShipCountry  \n",
       "0  Western Europe          51100      France  \n",
       "1  Western Europe          44087     Germany  \n",
       "2   South America      05454-876      Brazil  \n",
       "3  Western Europe          69004      France  \n",
       "4  Western Europe         B-6000     Belgium  "
      ]
     },
     "metadata": {},
     "output_type": "display_data"
    },
    {
     "data": {
      "text/html": [
       "<div>\n",
       "<style scoped>\n",
       "    .dataframe tbody tr th:only-of-type {\n",
       "        vertical-align: middle;\n",
       "    }\n",
       "\n",
       "    .dataframe tbody tr th {\n",
       "        vertical-align: top;\n",
       "    }\n",
       "\n",
       "    .dataframe thead th {\n",
       "        text-align: right;\n",
       "    }\n",
       "</style>\n",
       "<table border=\"1\" class=\"dataframe\">\n",
       "  <thead>\n",
       "    <tr style=\"text-align: right;\">\n",
       "      <th></th>\n",
       "      <th>Id</th>\n",
       "      <th>ProductName</th>\n",
       "      <th>SupplierId</th>\n",
       "      <th>CategoryId</th>\n",
       "      <th>QuantityPerUnit</th>\n",
       "      <th>UnitPrice</th>\n",
       "      <th>UnitsInStock</th>\n",
       "      <th>UnitsOnOrder</th>\n",
       "      <th>ReorderLevel</th>\n",
       "      <th>Discontinued</th>\n",
       "    </tr>\n",
       "  </thead>\n",
       "  <tbody>\n",
       "    <tr>\n",
       "      <td>0</td>\n",
       "      <td>1</td>\n",
       "      <td>Chai</td>\n",
       "      <td>1</td>\n",
       "      <td>1</td>\n",
       "      <td>10 boxes x 20 bags</td>\n",
       "      <td>18.00</td>\n",
       "      <td>39</td>\n",
       "      <td>0</td>\n",
       "      <td>10</td>\n",
       "      <td>0</td>\n",
       "    </tr>\n",
       "    <tr>\n",
       "      <td>1</td>\n",
       "      <td>2</td>\n",
       "      <td>Chang</td>\n",
       "      <td>1</td>\n",
       "      <td>1</td>\n",
       "      <td>24 - 12 oz bottles</td>\n",
       "      <td>19.00</td>\n",
       "      <td>17</td>\n",
       "      <td>40</td>\n",
       "      <td>25</td>\n",
       "      <td>0</td>\n",
       "    </tr>\n",
       "    <tr>\n",
       "      <td>2</td>\n",
       "      <td>3</td>\n",
       "      <td>Aniseed Syrup</td>\n",
       "      <td>1</td>\n",
       "      <td>2</td>\n",
       "      <td>12 - 550 ml bottles</td>\n",
       "      <td>10.00</td>\n",
       "      <td>13</td>\n",
       "      <td>70</td>\n",
       "      <td>25</td>\n",
       "      <td>0</td>\n",
       "    </tr>\n",
       "    <tr>\n",
       "      <td>3</td>\n",
       "      <td>4</td>\n",
       "      <td>Chef Anton's Cajun Seasoning</td>\n",
       "      <td>2</td>\n",
       "      <td>2</td>\n",
       "      <td>48 - 6 oz jars</td>\n",
       "      <td>22.00</td>\n",
       "      <td>53</td>\n",
       "      <td>0</td>\n",
       "      <td>0</td>\n",
       "      <td>0</td>\n",
       "    </tr>\n",
       "    <tr>\n",
       "      <td>4</td>\n",
       "      <td>5</td>\n",
       "      <td>Chef Anton's Gumbo Mix</td>\n",
       "      <td>2</td>\n",
       "      <td>2</td>\n",
       "      <td>36 boxes</td>\n",
       "      <td>21.35</td>\n",
       "      <td>0</td>\n",
       "      <td>0</td>\n",
       "      <td>0</td>\n",
       "      <td>1</td>\n",
       "    </tr>\n",
       "  </tbody>\n",
       "</table>\n",
       "</div>"
      ],
      "text/plain": [
       "   Id                   ProductName  SupplierId  CategoryId  \\\n",
       "0   1                          Chai           1           1   \n",
       "1   2                         Chang           1           1   \n",
       "2   3                 Aniseed Syrup           1           2   \n",
       "3   4  Chef Anton's Cajun Seasoning           2           2   \n",
       "4   5        Chef Anton's Gumbo Mix           2           2   \n",
       "\n",
       "       QuantityPerUnit  UnitPrice  UnitsInStock  UnitsOnOrder  ReorderLevel  \\\n",
       "0   10 boxes x 20 bags      18.00            39             0            10   \n",
       "1   24 - 12 oz bottles      19.00            17            40            25   \n",
       "2  12 - 550 ml bottles      10.00            13            70            25   \n",
       "3       48 - 6 oz jars      22.00            53             0             0   \n",
       "4             36 boxes      21.35             0             0             0   \n",
       "\n",
       "   Discontinued  \n",
       "0             0  \n",
       "1             0  \n",
       "2             0  \n",
       "3             0  \n",
       "4             1  "
      ]
     },
     "metadata": {},
     "output_type": "display_data"
    },
    {
     "data": {
      "text/html": [
       "<div>\n",
       "<style scoped>\n",
       "    .dataframe tbody tr th:only-of-type {\n",
       "        vertical-align: middle;\n",
       "    }\n",
       "\n",
       "    .dataframe tbody tr th {\n",
       "        vertical-align: top;\n",
       "    }\n",
       "\n",
       "    .dataframe thead th {\n",
       "        text-align: right;\n",
       "    }\n",
       "</style>\n",
       "<table border=\"1\" class=\"dataframe\">\n",
       "  <thead>\n",
       "    <tr style=\"text-align: right;\">\n",
       "      <th></th>\n",
       "      <th>Id</th>\n",
       "      <th>OrderId</th>\n",
       "      <th>ProductId</th>\n",
       "      <th>UnitPrice</th>\n",
       "      <th>Quantity</th>\n",
       "      <th>Discount</th>\n",
       "    </tr>\n",
       "  </thead>\n",
       "  <tbody>\n",
       "    <tr>\n",
       "      <td>0</td>\n",
       "      <td>10248/11</td>\n",
       "      <td>10248</td>\n",
       "      <td>11</td>\n",
       "      <td>14.0</td>\n",
       "      <td>12</td>\n",
       "      <td>0.0</td>\n",
       "    </tr>\n",
       "    <tr>\n",
       "      <td>1</td>\n",
       "      <td>10248/42</td>\n",
       "      <td>10248</td>\n",
       "      <td>42</td>\n",
       "      <td>9.8</td>\n",
       "      <td>10</td>\n",
       "      <td>0.0</td>\n",
       "    </tr>\n",
       "    <tr>\n",
       "      <td>2</td>\n",
       "      <td>10248/72</td>\n",
       "      <td>10248</td>\n",
       "      <td>72</td>\n",
       "      <td>34.8</td>\n",
       "      <td>5</td>\n",
       "      <td>0.0</td>\n",
       "    </tr>\n",
       "    <tr>\n",
       "      <td>3</td>\n",
       "      <td>10249/14</td>\n",
       "      <td>10249</td>\n",
       "      <td>14</td>\n",
       "      <td>18.6</td>\n",
       "      <td>9</td>\n",
       "      <td>0.0</td>\n",
       "    </tr>\n",
       "    <tr>\n",
       "      <td>4</td>\n",
       "      <td>10249/51</td>\n",
       "      <td>10249</td>\n",
       "      <td>51</td>\n",
       "      <td>42.4</td>\n",
       "      <td>40</td>\n",
       "      <td>0.0</td>\n",
       "    </tr>\n",
       "  </tbody>\n",
       "</table>\n",
       "</div>"
      ],
      "text/plain": [
       "         Id  OrderId  ProductId  UnitPrice  Quantity  Discount\n",
       "0  10248/11    10248         11       14.0        12       0.0\n",
       "1  10248/42    10248         42        9.8        10       0.0\n",
       "2  10248/72    10248         72       34.8         5       0.0\n",
       "3  10249/14    10249         14       18.6         9       0.0\n",
       "4  10249/51    10249         51       42.4        40       0.0"
      ]
     },
     "metadata": {},
     "output_type": "display_data"
    },
    {
     "data": {
      "text/html": [
       "<div>\n",
       "<style scoped>\n",
       "    .dataframe tbody tr th:only-of-type {\n",
       "        vertical-align: middle;\n",
       "    }\n",
       "\n",
       "    .dataframe tbody tr th {\n",
       "        vertical-align: top;\n",
       "    }\n",
       "\n",
       "    .dataframe thead th {\n",
       "        text-align: right;\n",
       "    }\n",
       "</style>\n",
       "<table border=\"1\" class=\"dataframe\">\n",
       "  <thead>\n",
       "    <tr style=\"text-align: right;\">\n",
       "      <th></th>\n",
       "      <th>Id</th>\n",
       "      <th>CustomerTypeId</th>\n",
       "    </tr>\n",
       "  </thead>\n",
       "  <tbody>\n",
       "  </tbody>\n",
       "</table>\n",
       "</div>"
      ],
      "text/plain": [
       "Empty DataFrame\n",
       "Columns: [Id, CustomerTypeId]\n",
       "Index: []"
      ]
     },
     "metadata": {},
     "output_type": "display_data"
    },
    {
     "data": {
      "text/html": [
       "<div>\n",
       "<style scoped>\n",
       "    .dataframe tbody tr th:only-of-type {\n",
       "        vertical-align: middle;\n",
       "    }\n",
       "\n",
       "    .dataframe tbody tr th {\n",
       "        vertical-align: top;\n",
       "    }\n",
       "\n",
       "    .dataframe thead th {\n",
       "        text-align: right;\n",
       "    }\n",
       "</style>\n",
       "<table border=\"1\" class=\"dataframe\">\n",
       "  <thead>\n",
       "    <tr style=\"text-align: right;\">\n",
       "      <th></th>\n",
       "      <th>Id</th>\n",
       "      <th>CustomerDesc</th>\n",
       "    </tr>\n",
       "  </thead>\n",
       "  <tbody>\n",
       "  </tbody>\n",
       "</table>\n",
       "</div>"
      ],
      "text/plain": [
       "Empty DataFrame\n",
       "Columns: [Id, CustomerDesc]\n",
       "Index: []"
      ]
     },
     "metadata": {},
     "output_type": "display_data"
    },
    {
     "data": {
      "text/html": [
       "<div>\n",
       "<style scoped>\n",
       "    .dataframe tbody tr th:only-of-type {\n",
       "        vertical-align: middle;\n",
       "    }\n",
       "\n",
       "    .dataframe tbody tr th {\n",
       "        vertical-align: top;\n",
       "    }\n",
       "\n",
       "    .dataframe thead th {\n",
       "        text-align: right;\n",
       "    }\n",
       "</style>\n",
       "<table border=\"1\" class=\"dataframe\">\n",
       "  <thead>\n",
       "    <tr style=\"text-align: right;\">\n",
       "      <th></th>\n",
       "      <th>Id</th>\n",
       "      <th>RegionDescription</th>\n",
       "    </tr>\n",
       "  </thead>\n",
       "  <tbody>\n",
       "    <tr>\n",
       "      <td>0</td>\n",
       "      <td>1</td>\n",
       "      <td>Eastern</td>\n",
       "    </tr>\n",
       "    <tr>\n",
       "      <td>1</td>\n",
       "      <td>2</td>\n",
       "      <td>Western</td>\n",
       "    </tr>\n",
       "    <tr>\n",
       "      <td>2</td>\n",
       "      <td>3</td>\n",
       "      <td>Northern</td>\n",
       "    </tr>\n",
       "    <tr>\n",
       "      <td>3</td>\n",
       "      <td>4</td>\n",
       "      <td>Southern</td>\n",
       "    </tr>\n",
       "  </tbody>\n",
       "</table>\n",
       "</div>"
      ],
      "text/plain": [
       "   Id RegionDescription\n",
       "0   1           Eastern\n",
       "1   2           Western\n",
       "2   3          Northern\n",
       "3   4          Southern"
      ]
     },
     "metadata": {},
     "output_type": "display_data"
    },
    {
     "data": {
      "text/html": [
       "<div>\n",
       "<style scoped>\n",
       "    .dataframe tbody tr th:only-of-type {\n",
       "        vertical-align: middle;\n",
       "    }\n",
       "\n",
       "    .dataframe tbody tr th {\n",
       "        vertical-align: top;\n",
       "    }\n",
       "\n",
       "    .dataframe thead th {\n",
       "        text-align: right;\n",
       "    }\n",
       "</style>\n",
       "<table border=\"1\" class=\"dataframe\">\n",
       "  <thead>\n",
       "    <tr style=\"text-align: right;\">\n",
       "      <th></th>\n",
       "      <th>Id</th>\n",
       "      <th>TerritoryDescription</th>\n",
       "      <th>RegionId</th>\n",
       "    </tr>\n",
       "  </thead>\n",
       "  <tbody>\n",
       "    <tr>\n",
       "      <td>0</td>\n",
       "      <td>01581</td>\n",
       "      <td>Westboro</td>\n",
       "      <td>1</td>\n",
       "    </tr>\n",
       "    <tr>\n",
       "      <td>1</td>\n",
       "      <td>01730</td>\n",
       "      <td>Bedford</td>\n",
       "      <td>1</td>\n",
       "    </tr>\n",
       "    <tr>\n",
       "      <td>2</td>\n",
       "      <td>01833</td>\n",
       "      <td>Georgetow</td>\n",
       "      <td>1</td>\n",
       "    </tr>\n",
       "    <tr>\n",
       "      <td>3</td>\n",
       "      <td>02116</td>\n",
       "      <td>Boston</td>\n",
       "      <td>1</td>\n",
       "    </tr>\n",
       "    <tr>\n",
       "      <td>4</td>\n",
       "      <td>02139</td>\n",
       "      <td>Cambridge</td>\n",
       "      <td>1</td>\n",
       "    </tr>\n",
       "  </tbody>\n",
       "</table>\n",
       "</div>"
      ],
      "text/plain": [
       "      Id TerritoryDescription  RegionId\n",
       "0  01581             Westboro         1\n",
       "1  01730              Bedford         1\n",
       "2  01833            Georgetow         1\n",
       "3  02116               Boston         1\n",
       "4  02139            Cambridge         1"
      ]
     },
     "metadata": {},
     "output_type": "display_data"
    },
    {
     "data": {
      "text/html": [
       "<div>\n",
       "<style scoped>\n",
       "    .dataframe tbody tr th:only-of-type {\n",
       "        vertical-align: middle;\n",
       "    }\n",
       "\n",
       "    .dataframe tbody tr th {\n",
       "        vertical-align: top;\n",
       "    }\n",
       "\n",
       "    .dataframe thead th {\n",
       "        text-align: right;\n",
       "    }\n",
       "</style>\n",
       "<table border=\"1\" class=\"dataframe\">\n",
       "  <thead>\n",
       "    <tr style=\"text-align: right;\">\n",
       "      <th></th>\n",
       "      <th>Id</th>\n",
       "      <th>EmployeeId</th>\n",
       "      <th>TerritoryId</th>\n",
       "    </tr>\n",
       "  </thead>\n",
       "  <tbody>\n",
       "    <tr>\n",
       "      <td>0</td>\n",
       "      <td>1/06897</td>\n",
       "      <td>1</td>\n",
       "      <td>06897</td>\n",
       "    </tr>\n",
       "    <tr>\n",
       "      <td>1</td>\n",
       "      <td>1/19713</td>\n",
       "      <td>1</td>\n",
       "      <td>19713</td>\n",
       "    </tr>\n",
       "    <tr>\n",
       "      <td>2</td>\n",
       "      <td>2/01581</td>\n",
       "      <td>2</td>\n",
       "      <td>01581</td>\n",
       "    </tr>\n",
       "    <tr>\n",
       "      <td>3</td>\n",
       "      <td>2/01730</td>\n",
       "      <td>2</td>\n",
       "      <td>01730</td>\n",
       "    </tr>\n",
       "    <tr>\n",
       "      <td>4</td>\n",
       "      <td>2/01833</td>\n",
       "      <td>2</td>\n",
       "      <td>01833</td>\n",
       "    </tr>\n",
       "  </tbody>\n",
       "</table>\n",
       "</div>"
      ],
      "text/plain": [
       "        Id  EmployeeId TerritoryId\n",
       "0  1/06897           1       06897\n",
       "1  1/19713           1       19713\n",
       "2  2/01581           2       01581\n",
       "3  2/01730           2       01730\n",
       "4  2/01833           2       01833"
      ]
     },
     "metadata": {},
     "output_type": "display_data"
    }
   ],
   "source": [
    "for item in dfs_names:\n",
    "    display(item.head())"
   ]
  },
  {
   "cell_type": "markdown",
   "metadata": {},
   "source": [
    "Let's quickly go through each table individually and extract a few observations which might play a role in our hypotheses formulations."
   ]
  },
  {
   "cell_type": "markdown",
   "metadata": {},
   "source": [
    "### Employee_df"
   ]
  },
  {
   "cell_type": "code",
   "execution_count": 103,
   "metadata": {
    "ExecuteTime": {
     "end_time": "2019-11-05T07:41:56.870200Z",
     "start_time": "2019-11-05T07:41:56.850664Z"
    },
    "scrolled": false
   },
   "outputs": [
    {
     "data": {
      "text/html": [
       "<div>\n",
       "<style scoped>\n",
       "    .dataframe tbody tr th:only-of-type {\n",
       "        vertical-align: middle;\n",
       "    }\n",
       "\n",
       "    .dataframe tbody tr th {\n",
       "        vertical-align: top;\n",
       "    }\n",
       "\n",
       "    .dataframe thead th {\n",
       "        text-align: right;\n",
       "    }\n",
       "</style>\n",
       "<table border=\"1\" class=\"dataframe\">\n",
       "  <thead>\n",
       "    <tr style=\"text-align: right;\">\n",
       "      <th></th>\n",
       "      <th>Id</th>\n",
       "      <th>LastName</th>\n",
       "      <th>FirstName</th>\n",
       "      <th>Title</th>\n",
       "      <th>TitleOfCourtesy</th>\n",
       "      <th>BirthDate</th>\n",
       "      <th>HireDate</th>\n",
       "      <th>Address</th>\n",
       "      <th>City</th>\n",
       "      <th>Region</th>\n",
       "      <th>PostalCode</th>\n",
       "      <th>Country</th>\n",
       "      <th>HomePhone</th>\n",
       "      <th>Extension</th>\n",
       "      <th>Photo</th>\n",
       "      <th>Notes</th>\n",
       "      <th>ReportsTo</th>\n",
       "      <th>PhotoPath</th>\n",
       "    </tr>\n",
       "  </thead>\n",
       "  <tbody>\n",
       "    <tr>\n",
       "      <td>0</td>\n",
       "      <td>1</td>\n",
       "      <td>Davolio</td>\n",
       "      <td>Nancy</td>\n",
       "      <td>Sales Representative</td>\n",
       "      <td>Ms.</td>\n",
       "      <td>1980-12-08</td>\n",
       "      <td>2024-05-01</td>\n",
       "      <td>507 - 20th Ave. E. Apt. 2A</td>\n",
       "      <td>Seattle</td>\n",
       "      <td>North America</td>\n",
       "      <td>98122</td>\n",
       "      <td>USA</td>\n",
       "      <td>(206) 555-9857</td>\n",
       "      <td>5467</td>\n",
       "      <td>None</td>\n",
       "      <td>Education includes a BA in psychology from Col...</td>\n",
       "      <td>2.0</td>\n",
       "      <td>http://accweb/emmployees/davolio.bmp</td>\n",
       "    </tr>\n",
       "    <tr>\n",
       "      <td>1</td>\n",
       "      <td>2</td>\n",
       "      <td>Fuller</td>\n",
       "      <td>Andrew</td>\n",
       "      <td>Vice President, Sales</td>\n",
       "      <td>Dr.</td>\n",
       "      <td>1984-02-19</td>\n",
       "      <td>2024-08-14</td>\n",
       "      <td>908 W. Capital Way</td>\n",
       "      <td>Tacoma</td>\n",
       "      <td>North America</td>\n",
       "      <td>98401</td>\n",
       "      <td>USA</td>\n",
       "      <td>(206) 555-9482</td>\n",
       "      <td>3457</td>\n",
       "      <td>None</td>\n",
       "      <td>Andrew received his BTS commercial in 1974 and...</td>\n",
       "      <td>NaN</td>\n",
       "      <td>http://accweb/emmployees/fuller.bmp</td>\n",
       "    </tr>\n",
       "    <tr>\n",
       "      <td>2</td>\n",
       "      <td>3</td>\n",
       "      <td>Leverling</td>\n",
       "      <td>Janet</td>\n",
       "      <td>Sales Representative</td>\n",
       "      <td>Ms.</td>\n",
       "      <td>1995-08-30</td>\n",
       "      <td>2024-04-01</td>\n",
       "      <td>722 Moss Bay Blvd.</td>\n",
       "      <td>Kirkland</td>\n",
       "      <td>North America</td>\n",
       "      <td>98033</td>\n",
       "      <td>USA</td>\n",
       "      <td>(206) 555-3412</td>\n",
       "      <td>3355</td>\n",
       "      <td>None</td>\n",
       "      <td>Janet has a BS degree in chemistry from Boston...</td>\n",
       "      <td>2.0</td>\n",
       "      <td>http://accweb/emmployees/leverling.bmp</td>\n",
       "    </tr>\n",
       "    <tr>\n",
       "      <td>3</td>\n",
       "      <td>4</td>\n",
       "      <td>Peacock</td>\n",
       "      <td>Margaret</td>\n",
       "      <td>Sales Representative</td>\n",
       "      <td>Mrs.</td>\n",
       "      <td>1969-09-19</td>\n",
       "      <td>2025-05-03</td>\n",
       "      <td>4110 Old Redmond Rd.</td>\n",
       "      <td>Redmond</td>\n",
       "      <td>North America</td>\n",
       "      <td>98052</td>\n",
       "      <td>USA</td>\n",
       "      <td>(206) 555-8122</td>\n",
       "      <td>5176</td>\n",
       "      <td>None</td>\n",
       "      <td>Margaret holds a BA in English literature from...</td>\n",
       "      <td>2.0</td>\n",
       "      <td>http://accweb/emmployees/peacock.bmp</td>\n",
       "    </tr>\n",
       "    <tr>\n",
       "      <td>4</td>\n",
       "      <td>5</td>\n",
       "      <td>Buchanan</td>\n",
       "      <td>Steven</td>\n",
       "      <td>Sales Manager</td>\n",
       "      <td>Mr.</td>\n",
       "      <td>1987-03-04</td>\n",
       "      <td>2025-10-17</td>\n",
       "      <td>14 Garrett Hill</td>\n",
       "      <td>London</td>\n",
       "      <td>British Isles</td>\n",
       "      <td>SW1 8JR</td>\n",
       "      <td>UK</td>\n",
       "      <td>(71) 555-4848</td>\n",
       "      <td>3453</td>\n",
       "      <td>None</td>\n",
       "      <td>Steven Buchanan graduated from St. Andrews Uni...</td>\n",
       "      <td>2.0</td>\n",
       "      <td>http://accweb/emmployees/buchanan.bmp</td>\n",
       "    </tr>\n",
       "  </tbody>\n",
       "</table>\n",
       "</div>"
      ],
      "text/plain": [
       "   Id   LastName FirstName                  Title TitleOfCourtesy   BirthDate  \\\n",
       "0   1    Davolio     Nancy   Sales Representative             Ms.  1980-12-08   \n",
       "1   2     Fuller    Andrew  Vice President, Sales             Dr.  1984-02-19   \n",
       "2   3  Leverling     Janet   Sales Representative             Ms.  1995-08-30   \n",
       "3   4    Peacock  Margaret   Sales Representative            Mrs.  1969-09-19   \n",
       "4   5   Buchanan    Steven          Sales Manager             Mr.  1987-03-04   \n",
       "\n",
       "     HireDate                     Address      City         Region PostalCode  \\\n",
       "0  2024-05-01  507 - 20th Ave. E. Apt. 2A   Seattle  North America      98122   \n",
       "1  2024-08-14          908 W. Capital Way    Tacoma  North America      98401   \n",
       "2  2024-04-01          722 Moss Bay Blvd.  Kirkland  North America      98033   \n",
       "3  2025-05-03        4110 Old Redmond Rd.   Redmond  North America      98052   \n",
       "4  2025-10-17             14 Garrett Hill    London  British Isles    SW1 8JR   \n",
       "\n",
       "  Country       HomePhone Extension Photo  \\\n",
       "0     USA  (206) 555-9857      5467  None   \n",
       "1     USA  (206) 555-9482      3457  None   \n",
       "2     USA  (206) 555-3412      3355  None   \n",
       "3     USA  (206) 555-8122      5176  None   \n",
       "4      UK   (71) 555-4848      3453  None   \n",
       "\n",
       "                                               Notes  ReportsTo  \\\n",
       "0  Education includes a BA in psychology from Col...        2.0   \n",
       "1  Andrew received his BTS commercial in 1974 and...        NaN   \n",
       "2  Janet has a BS degree in chemistry from Boston...        2.0   \n",
       "3  Margaret holds a BA in English literature from...        2.0   \n",
       "4  Steven Buchanan graduated from St. Andrews Uni...        2.0   \n",
       "\n",
       "                                PhotoPath  \n",
       "0    http://accweb/emmployees/davolio.bmp  \n",
       "1     http://accweb/emmployees/fuller.bmp  \n",
       "2  http://accweb/emmployees/leverling.bmp  \n",
       "3    http://accweb/emmployees/peacock.bmp  \n",
       "4   http://accweb/emmployees/buchanan.bmp  "
      ]
     },
     "execution_count": 103,
     "metadata": {},
     "output_type": "execute_result"
    }
   ],
   "source": [
    "Employee_df.head()"
   ]
  },
  {
   "cell_type": "code",
   "execution_count": 145,
   "metadata": {
    "ExecuteTime": {
     "end_time": "2019-11-05T14:40:27.525441Z",
     "start_time": "2019-11-05T14:40:27.513186Z"
    },
    "scrolled": true
   },
   "outputs": [
    {
     "name": "stdout",
     "output_type": "stream",
     "text": [
      "<class 'pandas.core.frame.DataFrame'>\n",
      "RangeIndex: 9 entries, 0 to 8\n",
      "Data columns (total 18 columns):\n",
      "Id                 9 non-null int64\n",
      "LastName           9 non-null object\n",
      "FirstName          9 non-null object\n",
      "Title              9 non-null object\n",
      "TitleOfCourtesy    9 non-null object\n",
      "BirthDate          9 non-null object\n",
      "HireDate           9 non-null object\n",
      "Address            9 non-null object\n",
      "City               9 non-null object\n",
      "Region             9 non-null object\n",
      "PostalCode         9 non-null object\n",
      "Country            9 non-null object\n",
      "HomePhone          9 non-null object\n",
      "Extension          9 non-null object\n",
      "Photo              0 non-null object\n",
      "Notes              9 non-null object\n",
      "ReportsTo          8 non-null float64\n",
      "PhotoPath          9 non-null object\n",
      "dtypes: float64(1), int64(1), object(16)\n",
      "memory usage: 1.4+ KB\n"
     ]
    }
   ],
   "source": [
    "Employee_df.info()"
   ]
  },
  {
   "cell_type": "code",
   "execution_count": 166,
   "metadata": {
    "ExecuteTime": {
     "end_time": "2019-11-05T14:50:46.833295Z",
     "start_time": "2019-11-05T14:50:46.827152Z"
    }
   },
   "outputs": [
    {
     "data": {
      "text/plain": [
       "USA    5\n",
       "UK     4\n",
       "Name: Country, dtype: int64"
      ]
     },
     "execution_count": 166,
     "metadata": {},
     "output_type": "execute_result"
    }
   ],
   "source": [
    "Employee_df.Country.value_counts()"
   ]
  },
  {
   "cell_type": "markdown",
   "metadata": {},
   "source": [
    "There are only 9 employees, spread out across 5 US offices and 4 UK offices. "
   ]
  },
  {
   "cell_type": "markdown",
   "metadata": {},
   "source": [
    "### Category_df"
   ]
  },
  {
   "cell_type": "code",
   "execution_count": 170,
   "metadata": {
    "ExecuteTime": {
     "end_time": "2019-11-05T14:58:09.555667Z",
     "start_time": "2019-11-05T14:58:09.548699Z"
    },
    "scrolled": false
   },
   "outputs": [
    {
     "data": {
      "text/html": [
       "<div>\n",
       "<style scoped>\n",
       "    .dataframe tbody tr th:only-of-type {\n",
       "        vertical-align: middle;\n",
       "    }\n",
       "\n",
       "    .dataframe tbody tr th {\n",
       "        vertical-align: top;\n",
       "    }\n",
       "\n",
       "    .dataframe thead th {\n",
       "        text-align: right;\n",
       "    }\n",
       "</style>\n",
       "<table border=\"1\" class=\"dataframe\">\n",
       "  <thead>\n",
       "    <tr style=\"text-align: right;\">\n",
       "      <th></th>\n",
       "      <th>Id</th>\n",
       "      <th>CategoryName</th>\n",
       "      <th>Description</th>\n",
       "    </tr>\n",
       "  </thead>\n",
       "  <tbody>\n",
       "    <tr>\n",
       "      <td>0</td>\n",
       "      <td>1</td>\n",
       "      <td>Beverages</td>\n",
       "      <td>Soft drinks, coffees, teas, beers, and ales</td>\n",
       "    </tr>\n",
       "    <tr>\n",
       "      <td>1</td>\n",
       "      <td>2</td>\n",
       "      <td>Condiments</td>\n",
       "      <td>Sweet and savory sauces, relishes, spreads, an...</td>\n",
       "    </tr>\n",
       "    <tr>\n",
       "      <td>2</td>\n",
       "      <td>3</td>\n",
       "      <td>Confections</td>\n",
       "      <td>Desserts, candies, and sweet breads</td>\n",
       "    </tr>\n",
       "    <tr>\n",
       "      <td>3</td>\n",
       "      <td>4</td>\n",
       "      <td>Dairy Products</td>\n",
       "      <td>Cheeses</td>\n",
       "    </tr>\n",
       "    <tr>\n",
       "      <td>4</td>\n",
       "      <td>5</td>\n",
       "      <td>Grains/Cereals</td>\n",
       "      <td>Breads, crackers, pasta, and cereal</td>\n",
       "    </tr>\n",
       "    <tr>\n",
       "      <td>5</td>\n",
       "      <td>6</td>\n",
       "      <td>Meat/Poultry</td>\n",
       "      <td>Prepared meats</td>\n",
       "    </tr>\n",
       "    <tr>\n",
       "      <td>6</td>\n",
       "      <td>7</td>\n",
       "      <td>Produce</td>\n",
       "      <td>Dried fruit and bean curd</td>\n",
       "    </tr>\n",
       "    <tr>\n",
       "      <td>7</td>\n",
       "      <td>8</td>\n",
       "      <td>Seafood</td>\n",
       "      <td>Seaweed and fish</td>\n",
       "    </tr>\n",
       "  </tbody>\n",
       "</table>\n",
       "</div>"
      ],
      "text/plain": [
       "   Id    CategoryName                                        Description\n",
       "0   1       Beverages        Soft drinks, coffees, teas, beers, and ales\n",
       "1   2      Condiments  Sweet and savory sauces, relishes, spreads, an...\n",
       "2   3     Confections                Desserts, candies, and sweet breads\n",
       "3   4  Dairy Products                                            Cheeses\n",
       "4   5  Grains/Cereals                Breads, crackers, pasta, and cereal\n",
       "5   6    Meat/Poultry                                     Prepared meats\n",
       "6   7         Produce                          Dried fruit and bean curd\n",
       "7   8         Seafood                                   Seaweed and fish"
      ]
     },
     "execution_count": 170,
     "metadata": {},
     "output_type": "execute_result"
    }
   ],
   "source": [
    "Category_df"
   ]
  },
  {
   "cell_type": "code",
   "execution_count": 167,
   "metadata": {
    "ExecuteTime": {
     "end_time": "2019-11-05T14:56:30.792112Z",
     "start_time": "2019-11-05T14:56:30.785605Z"
    },
    "scrolled": true
   },
   "outputs": [
    {
     "name": "stdout",
     "output_type": "stream",
     "text": [
      "<class 'pandas.core.frame.DataFrame'>\n",
      "RangeIndex: 8 entries, 0 to 7\n",
      "Data columns (total 3 columns):\n",
      "Id              8 non-null int64\n",
      "CategoryName    8 non-null object\n",
      "Description     8 non-null object\n",
      "dtypes: int64(1), object(2)\n",
      "memory usage: 320.0+ bytes\n"
     ]
    }
   ],
   "source": [
    "Category_df.info()"
   ]
  },
  {
   "cell_type": "markdown",
   "metadata": {},
   "source": [
    "There are 8 product categories (all under food and beverage) for this company. "
   ]
  },
  {
   "cell_type": "markdown",
   "metadata": {},
   "source": [
    "### Customer_df"
   ]
  },
  {
   "cell_type": "code",
   "execution_count": 178,
   "metadata": {
    "ExecuteTime": {
     "end_time": "2019-11-05T15:12:06.005120Z",
     "start_time": "2019-11-05T15:12:05.988160Z"
    }
   },
   "outputs": [
    {
     "data": {
      "text/html": [
       "<div>\n",
       "<style scoped>\n",
       "    .dataframe tbody tr th:only-of-type {\n",
       "        vertical-align: middle;\n",
       "    }\n",
       "\n",
       "    .dataframe tbody tr th {\n",
       "        vertical-align: top;\n",
       "    }\n",
       "\n",
       "    .dataframe thead th {\n",
       "        text-align: right;\n",
       "    }\n",
       "</style>\n",
       "<table border=\"1\" class=\"dataframe\">\n",
       "  <thead>\n",
       "    <tr style=\"text-align: right;\">\n",
       "      <th></th>\n",
       "      <th>Id</th>\n",
       "      <th>CompanyName</th>\n",
       "      <th>ContactName</th>\n",
       "      <th>ContactTitle</th>\n",
       "      <th>Address</th>\n",
       "      <th>City</th>\n",
       "      <th>Region</th>\n",
       "      <th>PostalCode</th>\n",
       "      <th>Country</th>\n",
       "      <th>Phone</th>\n",
       "      <th>Fax</th>\n",
       "    </tr>\n",
       "  </thead>\n",
       "  <tbody>\n",
       "    <tr>\n",
       "      <td>0</td>\n",
       "      <td>ALFKI</td>\n",
       "      <td>Alfreds Futterkiste</td>\n",
       "      <td>Maria Anders</td>\n",
       "      <td>Sales Representative</td>\n",
       "      <td>Obere Str. 57</td>\n",
       "      <td>Berlin</td>\n",
       "      <td>Western Europe</td>\n",
       "      <td>12209</td>\n",
       "      <td>Germany</td>\n",
       "      <td>030-0074321</td>\n",
       "      <td>030-0076545</td>\n",
       "    </tr>\n",
       "    <tr>\n",
       "      <td>1</td>\n",
       "      <td>ANATR</td>\n",
       "      <td>Ana Trujillo Emparedados y helados</td>\n",
       "      <td>Ana Trujillo</td>\n",
       "      <td>Owner</td>\n",
       "      <td>Avda. de la Constitución 2222</td>\n",
       "      <td>México D.F.</td>\n",
       "      <td>Central America</td>\n",
       "      <td>05021</td>\n",
       "      <td>Mexico</td>\n",
       "      <td>(5) 555-4729</td>\n",
       "      <td>(5) 555-3745</td>\n",
       "    </tr>\n",
       "    <tr>\n",
       "      <td>2</td>\n",
       "      <td>ANTON</td>\n",
       "      <td>Antonio Moreno Taquería</td>\n",
       "      <td>Antonio Moreno</td>\n",
       "      <td>Owner</td>\n",
       "      <td>Mataderos  2312</td>\n",
       "      <td>México D.F.</td>\n",
       "      <td>Central America</td>\n",
       "      <td>05023</td>\n",
       "      <td>Mexico</td>\n",
       "      <td>(5) 555-3932</td>\n",
       "      <td>None</td>\n",
       "    </tr>\n",
       "    <tr>\n",
       "      <td>3</td>\n",
       "      <td>AROUT</td>\n",
       "      <td>Around the Horn</td>\n",
       "      <td>Thomas Hardy</td>\n",
       "      <td>Sales Representative</td>\n",
       "      <td>120 Hanover Sq.</td>\n",
       "      <td>London</td>\n",
       "      <td>British Isles</td>\n",
       "      <td>WA1 1DP</td>\n",
       "      <td>UK</td>\n",
       "      <td>(171) 555-7788</td>\n",
       "      <td>(171) 555-6750</td>\n",
       "    </tr>\n",
       "    <tr>\n",
       "      <td>4</td>\n",
       "      <td>BERGS</td>\n",
       "      <td>Berglunds snabbköp</td>\n",
       "      <td>Christina Berglund</td>\n",
       "      <td>Order Administrator</td>\n",
       "      <td>Berguvsvägen  8</td>\n",
       "      <td>Luleå</td>\n",
       "      <td>Northern Europe</td>\n",
       "      <td>S-958 22</td>\n",
       "      <td>Sweden</td>\n",
       "      <td>0921-12 34 65</td>\n",
       "      <td>0921-12 34 67</td>\n",
       "    </tr>\n",
       "    <tr>\n",
       "      <td>5</td>\n",
       "      <td>BLAUS</td>\n",
       "      <td>Blauer See Delikatessen</td>\n",
       "      <td>Hanna Moos</td>\n",
       "      <td>Sales Representative</td>\n",
       "      <td>Forsterstr. 57</td>\n",
       "      <td>Mannheim</td>\n",
       "      <td>Western Europe</td>\n",
       "      <td>68306</td>\n",
       "      <td>Germany</td>\n",
       "      <td>0621-08460</td>\n",
       "      <td>0621-08924</td>\n",
       "    </tr>\n",
       "    <tr>\n",
       "      <td>6</td>\n",
       "      <td>BLONP</td>\n",
       "      <td>Blondesddsl père et fils</td>\n",
       "      <td>Frédérique Citeaux</td>\n",
       "      <td>Marketing Manager</td>\n",
       "      <td>24, place Kléber</td>\n",
       "      <td>Strasbourg</td>\n",
       "      <td>Western Europe</td>\n",
       "      <td>67000</td>\n",
       "      <td>France</td>\n",
       "      <td>88.60.15.31</td>\n",
       "      <td>88.60.15.32</td>\n",
       "    </tr>\n",
       "    <tr>\n",
       "      <td>7</td>\n",
       "      <td>BOLID</td>\n",
       "      <td>Bólido Comidas preparadas</td>\n",
       "      <td>Martín Sommer</td>\n",
       "      <td>Owner</td>\n",
       "      <td>C/ Araquil, 67</td>\n",
       "      <td>Madrid</td>\n",
       "      <td>Southern Europe</td>\n",
       "      <td>28023</td>\n",
       "      <td>Spain</td>\n",
       "      <td>(91) 555 22 82</td>\n",
       "      <td>(91) 555 91 99</td>\n",
       "    </tr>\n",
       "    <tr>\n",
       "      <td>8</td>\n",
       "      <td>BONAP</td>\n",
       "      <td>Bon app</td>\n",
       "      <td>Laurence Lebihan</td>\n",
       "      <td>Owner</td>\n",
       "      <td>12, rue des Bouchers</td>\n",
       "      <td>Marseille</td>\n",
       "      <td>Western Europe</td>\n",
       "      <td>13008</td>\n",
       "      <td>France</td>\n",
       "      <td>91.24.45.40</td>\n",
       "      <td>91.24.45.41</td>\n",
       "    </tr>\n",
       "    <tr>\n",
       "      <td>9</td>\n",
       "      <td>BOTTM</td>\n",
       "      <td>Bottom-Dollar Markets</td>\n",
       "      <td>Elizabeth Lincoln</td>\n",
       "      <td>Accounting Manager</td>\n",
       "      <td>23 Tsawassen Blvd.</td>\n",
       "      <td>Tsawassen</td>\n",
       "      <td>North America</td>\n",
       "      <td>T2F 8M4</td>\n",
       "      <td>Canada</td>\n",
       "      <td>(604) 555-4729</td>\n",
       "      <td>(604) 555-3745</td>\n",
       "    </tr>\n",
       "    <tr>\n",
       "      <td>10</td>\n",
       "      <td>BSBEV</td>\n",
       "      <td>B's Beverages</td>\n",
       "      <td>Victoria Ashworth</td>\n",
       "      <td>Sales Representative</td>\n",
       "      <td>Fauntleroy Circus</td>\n",
       "      <td>London</td>\n",
       "      <td>British Isles</td>\n",
       "      <td>EC2 5NT</td>\n",
       "      <td>UK</td>\n",
       "      <td>(171) 555-1212</td>\n",
       "      <td>None</td>\n",
       "    </tr>\n",
       "    <tr>\n",
       "      <td>11</td>\n",
       "      <td>CACTU</td>\n",
       "      <td>Cactus Comidas para llevar</td>\n",
       "      <td>Patricio Simpson</td>\n",
       "      <td>Sales Agent</td>\n",
       "      <td>Cerrito 333</td>\n",
       "      <td>Buenos Aires</td>\n",
       "      <td>South America</td>\n",
       "      <td>1010</td>\n",
       "      <td>Argentina</td>\n",
       "      <td>(1) 135-5555</td>\n",
       "      <td>(1) 135-4892</td>\n",
       "    </tr>\n",
       "    <tr>\n",
       "      <td>12</td>\n",
       "      <td>CENTC</td>\n",
       "      <td>Centro comercial Moctezuma</td>\n",
       "      <td>Francisco Chang</td>\n",
       "      <td>Marketing Manager</td>\n",
       "      <td>Sierras de Granada 9993</td>\n",
       "      <td>México D.F.</td>\n",
       "      <td>Central America</td>\n",
       "      <td>05022</td>\n",
       "      <td>Mexico</td>\n",
       "      <td>(5) 555-3392</td>\n",
       "      <td>(5) 555-7293</td>\n",
       "    </tr>\n",
       "    <tr>\n",
       "      <td>13</td>\n",
       "      <td>CHOPS</td>\n",
       "      <td>Chop-suey Chinese</td>\n",
       "      <td>Yang Wang</td>\n",
       "      <td>Owner</td>\n",
       "      <td>Hauptstr. 29</td>\n",
       "      <td>Bern</td>\n",
       "      <td>Western Europe</td>\n",
       "      <td>3012</td>\n",
       "      <td>Switzerland</td>\n",
       "      <td>0452-076545</td>\n",
       "      <td>None</td>\n",
       "    </tr>\n",
       "    <tr>\n",
       "      <td>14</td>\n",
       "      <td>COMMI</td>\n",
       "      <td>Comércio Mineiro</td>\n",
       "      <td>Pedro Afonso</td>\n",
       "      <td>Sales Associate</td>\n",
       "      <td>Av. dos Lusíadas, 23</td>\n",
       "      <td>Sao Paulo</td>\n",
       "      <td>South America</td>\n",
       "      <td>05432-043</td>\n",
       "      <td>Brazil</td>\n",
       "      <td>(11) 555-7647</td>\n",
       "      <td>None</td>\n",
       "    </tr>\n",
       "  </tbody>\n",
       "</table>\n",
       "</div>"
      ],
      "text/plain": [
       "       Id                         CompanyName         ContactName  \\\n",
       "0   ALFKI                 Alfreds Futterkiste        Maria Anders   \n",
       "1   ANATR  Ana Trujillo Emparedados y helados        Ana Trujillo   \n",
       "2   ANTON             Antonio Moreno Taquería      Antonio Moreno   \n",
       "3   AROUT                     Around the Horn        Thomas Hardy   \n",
       "4   BERGS                  Berglunds snabbköp  Christina Berglund   \n",
       "5   BLAUS             Blauer See Delikatessen          Hanna Moos   \n",
       "6   BLONP            Blondesddsl père et fils  Frédérique Citeaux   \n",
       "7   BOLID           Bólido Comidas preparadas       Martín Sommer   \n",
       "8   BONAP                             Bon app    Laurence Lebihan   \n",
       "9   BOTTM               Bottom-Dollar Markets   Elizabeth Lincoln   \n",
       "10  BSBEV                       B's Beverages   Victoria Ashworth   \n",
       "11  CACTU          Cactus Comidas para llevar    Patricio Simpson   \n",
       "12  CENTC          Centro comercial Moctezuma     Francisco Chang   \n",
       "13  CHOPS                   Chop-suey Chinese           Yang Wang   \n",
       "14  COMMI                    Comércio Mineiro        Pedro Afonso   \n",
       "\n",
       "            ContactTitle                        Address          City  \\\n",
       "0   Sales Representative                  Obere Str. 57        Berlin   \n",
       "1                  Owner  Avda. de la Constitución 2222   México D.F.   \n",
       "2                  Owner                Mataderos  2312   México D.F.   \n",
       "3   Sales Representative                120 Hanover Sq.        London   \n",
       "4    Order Administrator                Berguvsvägen  8         Luleå   \n",
       "5   Sales Representative                 Forsterstr. 57      Mannheim   \n",
       "6      Marketing Manager               24, place Kléber    Strasbourg   \n",
       "7                  Owner                 C/ Araquil, 67        Madrid   \n",
       "8                  Owner           12, rue des Bouchers     Marseille   \n",
       "9     Accounting Manager             23 Tsawassen Blvd.     Tsawassen   \n",
       "10  Sales Representative              Fauntleroy Circus        London   \n",
       "11           Sales Agent                    Cerrito 333  Buenos Aires   \n",
       "12     Marketing Manager        Sierras de Granada 9993   México D.F.   \n",
       "13                 Owner                   Hauptstr. 29          Bern   \n",
       "14       Sales Associate           Av. dos Lusíadas, 23     Sao Paulo   \n",
       "\n",
       "             Region PostalCode      Country           Phone             Fax  \n",
       "0    Western Europe      12209      Germany     030-0074321     030-0076545  \n",
       "1   Central America      05021       Mexico    (5) 555-4729    (5) 555-3745  \n",
       "2   Central America      05023       Mexico    (5) 555-3932            None  \n",
       "3     British Isles    WA1 1DP           UK  (171) 555-7788  (171) 555-6750  \n",
       "4   Northern Europe   S-958 22       Sweden   0921-12 34 65   0921-12 34 67  \n",
       "5    Western Europe      68306      Germany      0621-08460      0621-08924  \n",
       "6    Western Europe      67000       France     88.60.15.31     88.60.15.32  \n",
       "7   Southern Europe      28023        Spain  (91) 555 22 82  (91) 555 91 99  \n",
       "8    Western Europe      13008       France     91.24.45.40     91.24.45.41  \n",
       "9     North America    T2F 8M4       Canada  (604) 555-4729  (604) 555-3745  \n",
       "10    British Isles    EC2 5NT           UK  (171) 555-1212            None  \n",
       "11    South America       1010    Argentina    (1) 135-5555    (1) 135-4892  \n",
       "12  Central America      05022       Mexico    (5) 555-3392    (5) 555-7293  \n",
       "13   Western Europe       3012  Switzerland     0452-076545            None  \n",
       "14    South America  05432-043       Brazil   (11) 555-7647            None  "
      ]
     },
     "execution_count": 178,
     "metadata": {},
     "output_type": "execute_result"
    }
   ],
   "source": [
    "Customer_df.head(15)"
   ]
  },
  {
   "cell_type": "code",
   "execution_count": 172,
   "metadata": {
    "ExecuteTime": {
     "end_time": "2019-11-05T15:04:07.521342Z",
     "start_time": "2019-11-05T15:04:07.514611Z"
    }
   },
   "outputs": [
    {
     "name": "stdout",
     "output_type": "stream",
     "text": [
      "<class 'pandas.core.frame.DataFrame'>\n",
      "RangeIndex: 91 entries, 0 to 90\n",
      "Data columns (total 11 columns):\n",
      "Id              91 non-null object\n",
      "CompanyName     91 non-null object\n",
      "ContactName     91 non-null object\n",
      "ContactTitle    91 non-null object\n",
      "Address         91 non-null object\n",
      "City            91 non-null object\n",
      "Region          91 non-null object\n",
      "PostalCode      90 non-null object\n",
      "Country         91 non-null object\n",
      "Phone           91 non-null object\n",
      "Fax             69 non-null object\n",
      "dtypes: object(11)\n",
      "memory usage: 7.9+ KB\n"
     ]
    }
   ],
   "source": [
    "Customer_df.info()"
   ]
  },
  {
   "cell_type": "code",
   "execution_count": 173,
   "metadata": {
    "ExecuteTime": {
     "end_time": "2019-11-05T15:04:36.209034Z",
     "start_time": "2019-11-05T15:04:36.200181Z"
    },
    "scrolled": true
   },
   "outputs": [
    {
     "data": {
      "text/plain": [
       "91"
      ]
     },
     "execution_count": 173,
     "metadata": {},
     "output_type": "execute_result"
    }
   ],
   "source": [
    "Customer_df.Id.nunique()"
   ]
  },
  {
   "cell_type": "code",
   "execution_count": 174,
   "metadata": {
    "ExecuteTime": {
     "end_time": "2019-11-05T15:04:56.578955Z",
     "start_time": "2019-11-05T15:04:56.574765Z"
    }
   },
   "outputs": [
    {
     "data": {
      "text/plain": [
       "21"
      ]
     },
     "execution_count": 174,
     "metadata": {},
     "output_type": "execute_result"
    }
   ],
   "source": [
    "Customer_df.Country.nunique()"
   ]
  },
  {
   "cell_type": "code",
   "execution_count": 176,
   "metadata": {
    "ExecuteTime": {
     "end_time": "2019-11-05T15:11:37.114994Z",
     "start_time": "2019-11-05T15:11:37.110233Z"
    }
   },
   "outputs": [
    {
     "data": {
      "text/plain": [
       "9"
      ]
     },
     "execution_count": 176,
     "metadata": {},
     "output_type": "execute_result"
    }
   ],
   "source": [
    "Customer_df.Region.nunique()"
   ]
  },
  {
   "cell_type": "code",
   "execution_count": 342,
   "metadata": {
    "ExecuteTime": {
     "end_time": "2019-11-07T09:19:27.903679Z",
     "start_time": "2019-11-07T09:19:27.852822Z"
    }
   },
   "outputs": [
    {
     "data": {
      "text/plain": [
       "Western Europe     28\n",
       "South America      16\n",
       "North America      16\n",
       "Southern Europe    10\n",
       "British Isles       8\n",
       "Central America     5\n",
       "Northern Europe     4\n",
       "Scandinavia         3\n",
       "Eastern Europe      1\n",
       "Name: Region, dtype: int64"
      ]
     },
     "execution_count": 342,
     "metadata": {},
     "output_type": "execute_result"
    }
   ],
   "source": [
    "Customer_df.Region.value_counts()"
   ]
  },
  {
   "cell_type": "markdown",
   "metadata": {},
   "source": [
    "There are 91 customers across 21 countries in this table, each with information on company and title. It appears that most of these companies might be in the food&bev industry. These customers are also categorized by their respective regions, of which there are 9, with Western Europe having largest share of customers, followed by South and North America (separately)."
   ]
  },
  {
   "cell_type": "markdown",
   "metadata": {},
   "source": [
    "### Shipper_df"
   ]
  },
  {
   "cell_type": "code",
   "execution_count": 181,
   "metadata": {
    "ExecuteTime": {
     "end_time": "2019-11-05T15:17:17.850550Z",
     "start_time": "2019-11-05T15:17:17.843011Z"
    }
   },
   "outputs": [
    {
     "data": {
      "text/html": [
       "<div>\n",
       "<style scoped>\n",
       "    .dataframe tbody tr th:only-of-type {\n",
       "        vertical-align: middle;\n",
       "    }\n",
       "\n",
       "    .dataframe tbody tr th {\n",
       "        vertical-align: top;\n",
       "    }\n",
       "\n",
       "    .dataframe thead th {\n",
       "        text-align: right;\n",
       "    }\n",
       "</style>\n",
       "<table border=\"1\" class=\"dataframe\">\n",
       "  <thead>\n",
       "    <tr style=\"text-align: right;\">\n",
       "      <th></th>\n",
       "      <th>Id</th>\n",
       "      <th>CompanyName</th>\n",
       "      <th>Phone</th>\n",
       "    </tr>\n",
       "  </thead>\n",
       "  <tbody>\n",
       "    <tr>\n",
       "      <td>0</td>\n",
       "      <td>1</td>\n",
       "      <td>Speedy Express</td>\n",
       "      <td>(503) 555-9831</td>\n",
       "    </tr>\n",
       "    <tr>\n",
       "      <td>1</td>\n",
       "      <td>2</td>\n",
       "      <td>United Package</td>\n",
       "      <td>(503) 555-3199</td>\n",
       "    </tr>\n",
       "    <tr>\n",
       "      <td>2</td>\n",
       "      <td>3</td>\n",
       "      <td>Federal Shipping</td>\n",
       "      <td>(503) 555-9931</td>\n",
       "    </tr>\n",
       "  </tbody>\n",
       "</table>\n",
       "</div>"
      ],
      "text/plain": [
       "   Id       CompanyName           Phone\n",
       "0   1    Speedy Express  (503) 555-9831\n",
       "1   2    United Package  (503) 555-3199\n",
       "2   3  Federal Shipping  (503) 555-9931"
      ]
     },
     "execution_count": 181,
     "metadata": {},
     "output_type": "execute_result"
    }
   ],
   "source": [
    "Shipper_df"
   ]
  },
  {
   "cell_type": "markdown",
   "metadata": {},
   "source": [
    "There are only 3 shipping companies available in the database with no information on locations."
   ]
  },
  {
   "cell_type": "markdown",
   "metadata": {},
   "source": [
    "### Supplier_df"
   ]
  },
  {
   "cell_type": "code",
   "execution_count": 182,
   "metadata": {
    "ExecuteTime": {
     "end_time": "2019-11-05T15:18:46.667750Z",
     "start_time": "2019-11-05T15:18:46.653457Z"
    }
   },
   "outputs": [
    {
     "data": {
      "text/html": [
       "<div>\n",
       "<style scoped>\n",
       "    .dataframe tbody tr th:only-of-type {\n",
       "        vertical-align: middle;\n",
       "    }\n",
       "\n",
       "    .dataframe tbody tr th {\n",
       "        vertical-align: top;\n",
       "    }\n",
       "\n",
       "    .dataframe thead th {\n",
       "        text-align: right;\n",
       "    }\n",
       "</style>\n",
       "<table border=\"1\" class=\"dataframe\">\n",
       "  <thead>\n",
       "    <tr style=\"text-align: right;\">\n",
       "      <th></th>\n",
       "      <th>Id</th>\n",
       "      <th>CompanyName</th>\n",
       "      <th>ContactName</th>\n",
       "      <th>ContactTitle</th>\n",
       "      <th>Address</th>\n",
       "      <th>City</th>\n",
       "      <th>Region</th>\n",
       "      <th>PostalCode</th>\n",
       "      <th>Country</th>\n",
       "      <th>Phone</th>\n",
       "      <th>Fax</th>\n",
       "      <th>HomePage</th>\n",
       "    </tr>\n",
       "  </thead>\n",
       "  <tbody>\n",
       "    <tr>\n",
       "      <td>0</td>\n",
       "      <td>1</td>\n",
       "      <td>Exotic Liquids</td>\n",
       "      <td>Charlotte Cooper</td>\n",
       "      <td>Purchasing Manager</td>\n",
       "      <td>49 Gilbert St.</td>\n",
       "      <td>London</td>\n",
       "      <td>British Isles</td>\n",
       "      <td>EC1 4SD</td>\n",
       "      <td>UK</td>\n",
       "      <td>(171) 555-2222</td>\n",
       "      <td>None</td>\n",
       "      <td>None</td>\n",
       "    </tr>\n",
       "    <tr>\n",
       "      <td>1</td>\n",
       "      <td>2</td>\n",
       "      <td>New Orleans Cajun Delights</td>\n",
       "      <td>Shelley Burke</td>\n",
       "      <td>Order Administrator</td>\n",
       "      <td>P.O. Box 78934</td>\n",
       "      <td>New Orleans</td>\n",
       "      <td>North America</td>\n",
       "      <td>70117</td>\n",
       "      <td>USA</td>\n",
       "      <td>(100) 555-4822</td>\n",
       "      <td>None</td>\n",
       "      <td>#CAJUN.HTM#</td>\n",
       "    </tr>\n",
       "    <tr>\n",
       "      <td>2</td>\n",
       "      <td>3</td>\n",
       "      <td>Grandma Kelly's Homestead</td>\n",
       "      <td>Regina Murphy</td>\n",
       "      <td>Sales Representative</td>\n",
       "      <td>707 Oxford Rd.</td>\n",
       "      <td>Ann Arbor</td>\n",
       "      <td>North America</td>\n",
       "      <td>48104</td>\n",
       "      <td>USA</td>\n",
       "      <td>(313) 555-5735</td>\n",
       "      <td>(313) 555-3349</td>\n",
       "      <td>None</td>\n",
       "    </tr>\n",
       "    <tr>\n",
       "      <td>3</td>\n",
       "      <td>4</td>\n",
       "      <td>Tokyo Traders</td>\n",
       "      <td>Yoshi Nagase</td>\n",
       "      <td>Marketing Manager</td>\n",
       "      <td>9-8 Sekimai Musashino-shi</td>\n",
       "      <td>Tokyo</td>\n",
       "      <td>Eastern Asia</td>\n",
       "      <td>100</td>\n",
       "      <td>Japan</td>\n",
       "      <td>(03) 3555-5011</td>\n",
       "      <td>None</td>\n",
       "      <td>None</td>\n",
       "    </tr>\n",
       "    <tr>\n",
       "      <td>4</td>\n",
       "      <td>5</td>\n",
       "      <td>Cooperativa de Quesos 'Las Cabras'</td>\n",
       "      <td>Antonio del Valle Saavedra</td>\n",
       "      <td>Export Administrator</td>\n",
       "      <td>Calle del Rosal 4</td>\n",
       "      <td>Oviedo</td>\n",
       "      <td>Southern Europe</td>\n",
       "      <td>33007</td>\n",
       "      <td>Spain</td>\n",
       "      <td>(98) 598 76 54</td>\n",
       "      <td>None</td>\n",
       "      <td>None</td>\n",
       "    </tr>\n",
       "  </tbody>\n",
       "</table>\n",
       "</div>"
      ],
      "text/plain": [
       "   Id                         CompanyName                 ContactName  \\\n",
       "0   1                      Exotic Liquids            Charlotte Cooper   \n",
       "1   2          New Orleans Cajun Delights               Shelley Burke   \n",
       "2   3           Grandma Kelly's Homestead               Regina Murphy   \n",
       "3   4                       Tokyo Traders                Yoshi Nagase   \n",
       "4   5  Cooperativa de Quesos 'Las Cabras'  Antonio del Valle Saavedra   \n",
       "\n",
       "           ContactTitle                    Address         City  \\\n",
       "0    Purchasing Manager             49 Gilbert St.       London   \n",
       "1   Order Administrator             P.O. Box 78934  New Orleans   \n",
       "2  Sales Representative             707 Oxford Rd.    Ann Arbor   \n",
       "3     Marketing Manager  9-8 Sekimai Musashino-shi        Tokyo   \n",
       "4  Export Administrator          Calle del Rosal 4       Oviedo   \n",
       "\n",
       "            Region PostalCode Country           Phone             Fax  \\\n",
       "0    British Isles    EC1 4SD      UK  (171) 555-2222            None   \n",
       "1    North America      70117     USA  (100) 555-4822            None   \n",
       "2    North America      48104     USA  (313) 555-5735  (313) 555-3349   \n",
       "3     Eastern Asia        100   Japan  (03) 3555-5011            None   \n",
       "4  Southern Europe      33007   Spain  (98) 598 76 54            None   \n",
       "\n",
       "      HomePage  \n",
       "0         None  \n",
       "1  #CAJUN.HTM#  \n",
       "2         None  \n",
       "3         None  \n",
       "4         None  "
      ]
     },
     "execution_count": 182,
     "metadata": {},
     "output_type": "execute_result"
    }
   ],
   "source": [
    "Supplier_df.head()"
   ]
  },
  {
   "cell_type": "code",
   "execution_count": 183,
   "metadata": {
    "ExecuteTime": {
     "end_time": "2019-11-05T15:19:00.772723Z",
     "start_time": "2019-11-05T15:19:00.765786Z"
    }
   },
   "outputs": [
    {
     "name": "stdout",
     "output_type": "stream",
     "text": [
      "<class 'pandas.core.frame.DataFrame'>\n",
      "RangeIndex: 29 entries, 0 to 28\n",
      "Data columns (total 12 columns):\n",
      "Id              29 non-null int64\n",
      "CompanyName     29 non-null object\n",
      "ContactName     29 non-null object\n",
      "ContactTitle    29 non-null object\n",
      "Address         29 non-null object\n",
      "City            29 non-null object\n",
      "Region          29 non-null object\n",
      "PostalCode      29 non-null object\n",
      "Country         29 non-null object\n",
      "Phone           29 non-null object\n",
      "Fax             13 non-null object\n",
      "HomePage        5 non-null object\n",
      "dtypes: int64(1), object(11)\n",
      "memory usage: 2.8+ KB\n"
     ]
    }
   ],
   "source": [
    "Supplier_df.info()"
   ]
  },
  {
   "cell_type": "code",
   "execution_count": 184,
   "metadata": {
    "ExecuteTime": {
     "end_time": "2019-11-05T15:19:26.342886Z",
     "start_time": "2019-11-05T15:19:26.338076Z"
    }
   },
   "outputs": [
    {
     "data": {
      "text/plain": [
       "16"
      ]
     },
     "execution_count": 184,
     "metadata": {},
     "output_type": "execute_result"
    }
   ],
   "source": [
    "Supplier_df.Country.nunique()"
   ]
  },
  {
   "cell_type": "markdown",
   "metadata": {},
   "source": [
    "The Supplier table has a total of 29 suppliers listed, across 16 countries, with location and contact info provided for each."
   ]
  },
  {
   "cell_type": "markdown",
   "metadata": {},
   "source": [
    "### Order_df"
   ]
  },
  {
   "cell_type": "code",
   "execution_count": 185,
   "metadata": {
    "ExecuteTime": {
     "end_time": "2019-11-05T15:24:00.553683Z",
     "start_time": "2019-11-05T15:24:00.515007Z"
    }
   },
   "outputs": [
    {
     "data": {
      "text/html": [
       "<div>\n",
       "<style scoped>\n",
       "    .dataframe tbody tr th:only-of-type {\n",
       "        vertical-align: middle;\n",
       "    }\n",
       "\n",
       "    .dataframe tbody tr th {\n",
       "        vertical-align: top;\n",
       "    }\n",
       "\n",
       "    .dataframe thead th {\n",
       "        text-align: right;\n",
       "    }\n",
       "</style>\n",
       "<table border=\"1\" class=\"dataframe\">\n",
       "  <thead>\n",
       "    <tr style=\"text-align: right;\">\n",
       "      <th></th>\n",
       "      <th>Id</th>\n",
       "      <th>CustomerId</th>\n",
       "      <th>EmployeeId</th>\n",
       "      <th>OrderDate</th>\n",
       "      <th>RequiredDate</th>\n",
       "      <th>ShippedDate</th>\n",
       "      <th>ShipVia</th>\n",
       "      <th>Freight</th>\n",
       "      <th>ShipName</th>\n",
       "      <th>ShipAddress</th>\n",
       "      <th>ShipCity</th>\n",
       "      <th>ShipRegion</th>\n",
       "      <th>ShipPostalCode</th>\n",
       "      <th>ShipCountry</th>\n",
       "    </tr>\n",
       "  </thead>\n",
       "  <tbody>\n",
       "    <tr>\n",
       "      <td>0</td>\n",
       "      <td>10248</td>\n",
       "      <td>VINET</td>\n",
       "      <td>5</td>\n",
       "      <td>2012-07-04</td>\n",
       "      <td>2012-08-01</td>\n",
       "      <td>2012-07-16</td>\n",
       "      <td>3</td>\n",
       "      <td>32.38</td>\n",
       "      <td>Vins et alcools Chevalier</td>\n",
       "      <td>59 rue de l'Abbaye</td>\n",
       "      <td>Reims</td>\n",
       "      <td>Western Europe</td>\n",
       "      <td>51100</td>\n",
       "      <td>France</td>\n",
       "    </tr>\n",
       "    <tr>\n",
       "      <td>1</td>\n",
       "      <td>10249</td>\n",
       "      <td>TOMSP</td>\n",
       "      <td>6</td>\n",
       "      <td>2012-07-05</td>\n",
       "      <td>2012-08-16</td>\n",
       "      <td>2012-07-10</td>\n",
       "      <td>1</td>\n",
       "      <td>11.61</td>\n",
       "      <td>Toms Spezialitäten</td>\n",
       "      <td>Luisenstr. 48</td>\n",
       "      <td>Münster</td>\n",
       "      <td>Western Europe</td>\n",
       "      <td>44087</td>\n",
       "      <td>Germany</td>\n",
       "    </tr>\n",
       "    <tr>\n",
       "      <td>2</td>\n",
       "      <td>10250</td>\n",
       "      <td>HANAR</td>\n",
       "      <td>4</td>\n",
       "      <td>2012-07-08</td>\n",
       "      <td>2012-08-05</td>\n",
       "      <td>2012-07-12</td>\n",
       "      <td>2</td>\n",
       "      <td>65.83</td>\n",
       "      <td>Hanari Carnes</td>\n",
       "      <td>Rua do Paço, 67</td>\n",
       "      <td>Rio de Janeiro</td>\n",
       "      <td>South America</td>\n",
       "      <td>05454-876</td>\n",
       "      <td>Brazil</td>\n",
       "    </tr>\n",
       "    <tr>\n",
       "      <td>3</td>\n",
       "      <td>10251</td>\n",
       "      <td>VICTE</td>\n",
       "      <td>3</td>\n",
       "      <td>2012-07-08</td>\n",
       "      <td>2012-08-05</td>\n",
       "      <td>2012-07-15</td>\n",
       "      <td>1</td>\n",
       "      <td>41.34</td>\n",
       "      <td>Victuailles en stock</td>\n",
       "      <td>2, rue du Commerce</td>\n",
       "      <td>Lyon</td>\n",
       "      <td>Western Europe</td>\n",
       "      <td>69004</td>\n",
       "      <td>France</td>\n",
       "    </tr>\n",
       "    <tr>\n",
       "      <td>4</td>\n",
       "      <td>10252</td>\n",
       "      <td>SUPRD</td>\n",
       "      <td>4</td>\n",
       "      <td>2012-07-09</td>\n",
       "      <td>2012-08-06</td>\n",
       "      <td>2012-07-11</td>\n",
       "      <td>2</td>\n",
       "      <td>51.30</td>\n",
       "      <td>Suprêmes délices</td>\n",
       "      <td>Boulevard Tirou, 255</td>\n",
       "      <td>Charleroi</td>\n",
       "      <td>Western Europe</td>\n",
       "      <td>B-6000</td>\n",
       "      <td>Belgium</td>\n",
       "    </tr>\n",
       "  </tbody>\n",
       "</table>\n",
       "</div>"
      ],
      "text/plain": [
       "      Id CustomerId  EmployeeId   OrderDate RequiredDate ShippedDate  ShipVia  \\\n",
       "0  10248      VINET           5  2012-07-04   2012-08-01  2012-07-16        3   \n",
       "1  10249      TOMSP           6  2012-07-05   2012-08-16  2012-07-10        1   \n",
       "2  10250      HANAR           4  2012-07-08   2012-08-05  2012-07-12        2   \n",
       "3  10251      VICTE           3  2012-07-08   2012-08-05  2012-07-15        1   \n",
       "4  10252      SUPRD           4  2012-07-09   2012-08-06  2012-07-11        2   \n",
       "\n",
       "   Freight                   ShipName           ShipAddress        ShipCity  \\\n",
       "0    32.38  Vins et alcools Chevalier    59 rue de l'Abbaye           Reims   \n",
       "1    11.61         Toms Spezialitäten         Luisenstr. 48         Münster   \n",
       "2    65.83              Hanari Carnes       Rua do Paço, 67  Rio de Janeiro   \n",
       "3    41.34       Victuailles en stock    2, rue du Commerce            Lyon   \n",
       "4    51.30           Suprêmes délices  Boulevard Tirou, 255       Charleroi   \n",
       "\n",
       "       ShipRegion ShipPostalCode ShipCountry  \n",
       "0  Western Europe          51100      France  \n",
       "1  Western Europe          44087     Germany  \n",
       "2   South America      05454-876      Brazil  \n",
       "3  Western Europe          69004      France  \n",
       "4  Western Europe         B-6000     Belgium  "
      ]
     },
     "execution_count": 185,
     "metadata": {},
     "output_type": "execute_result"
    }
   ],
   "source": [
    "Order_df.head()"
   ]
  },
  {
   "cell_type": "code",
   "execution_count": 253,
   "metadata": {
    "ExecuteTime": {
     "end_time": "2019-11-06T09:04:08.761315Z",
     "start_time": "2019-11-06T09:04:08.735429Z"
    }
   },
   "outputs": [
    {
     "data": {
      "text/plain": [
       "2    326\n",
       "3    255\n",
       "1    249\n",
       "Name: ShipVia, dtype: int64"
      ]
     },
     "execution_count": 253,
     "metadata": {},
     "output_type": "execute_result"
    }
   ],
   "source": [
    "Order_df.ShipVia.value_counts()"
   ]
  },
  {
   "cell_type": "code",
   "execution_count": 186,
   "metadata": {
    "ExecuteTime": {
     "end_time": "2019-11-05T15:24:13.279591Z",
     "start_time": "2019-11-05T15:24:13.269223Z"
    }
   },
   "outputs": [
    {
     "name": "stdout",
     "output_type": "stream",
     "text": [
      "<class 'pandas.core.frame.DataFrame'>\n",
      "RangeIndex: 830 entries, 0 to 829\n",
      "Data columns (total 14 columns):\n",
      "Id                830 non-null int64\n",
      "CustomerId        830 non-null object\n",
      "EmployeeId        830 non-null int64\n",
      "OrderDate         830 non-null object\n",
      "RequiredDate      830 non-null object\n",
      "ShippedDate       809 non-null object\n",
      "ShipVia           830 non-null int64\n",
      "Freight           830 non-null float64\n",
      "ShipName          830 non-null object\n",
      "ShipAddress       830 non-null object\n",
      "ShipCity          830 non-null object\n",
      "ShipRegion        830 non-null object\n",
      "ShipPostalCode    811 non-null object\n",
      "ShipCountry       830 non-null object\n",
      "dtypes: float64(1), int64(3), object(10)\n",
      "memory usage: 90.9+ KB\n"
     ]
    }
   ],
   "source": [
    "Order_df.info()"
   ]
  },
  {
   "cell_type": "code",
   "execution_count": 252,
   "metadata": {
    "ExecuteTime": {
     "end_time": "2019-11-06T08:37:29.313928Z",
     "start_time": "2019-11-06T08:37:29.308255Z"
    }
   },
   "outputs": [
    {
     "data": {
      "text/plain": [
       "4    156\n",
       "3    127\n",
       "1    123\n",
       "8    104\n",
       "2     96\n",
       "7     72\n",
       "6     67\n",
       "9     43\n",
       "5     42\n",
       "Name: EmployeeId, dtype: int64"
      ]
     },
     "execution_count": 252,
     "metadata": {},
     "output_type": "execute_result"
    }
   ],
   "source": [
    "Order_df.EmployeeId.value_counts()"
   ]
  },
  {
   "cell_type": "code",
   "execution_count": 187,
   "metadata": {
    "ExecuteTime": {
     "end_time": "2019-11-05T15:25:22.620361Z",
     "start_time": "2019-11-05T15:25:22.613196Z"
    },
    "scrolled": true
   },
   "outputs": [
    {
     "data": {
      "text/plain": [
       "Germany        122\n",
       "USA            122\n",
       "Brazil          83\n",
       "France          77\n",
       "UK              56\n",
       "Venezuela       46\n",
       "Austria         40\n",
       "Sweden          37\n",
       "Canada          30\n",
       "Mexico          28\n",
       "Italy           28\n",
       "Spain           23\n",
       "Finland         22\n",
       "Belgium         19\n",
       "Ireland         19\n",
       "Denmark         18\n",
       "Switzerland     18\n",
       "Argentina       16\n",
       "Portugal        13\n",
       "Poland           7\n",
       "Norway           6\n",
       "Name: ShipCountry, dtype: int64"
      ]
     },
     "execution_count": 187,
     "metadata": {},
     "output_type": "execute_result"
    }
   ],
   "source": [
    "Order_df.ShipCountry.value_counts()"
   ]
  },
  {
   "cell_type": "markdown",
   "metadata": {},
   "source": [
    "There are 830 orders recorded, with most having been shipped from Germany and the US (122 shipped orders each)."
   ]
  },
  {
   "cell_type": "markdown",
   "metadata": {},
   "source": [
    "### Product_df"
   ]
  },
  {
   "cell_type": "code",
   "execution_count": 188,
   "metadata": {
    "ExecuteTime": {
     "end_time": "2019-11-05T15:31:36.506242Z",
     "start_time": "2019-11-05T15:31:36.475390Z"
    }
   },
   "outputs": [
    {
     "data": {
      "text/html": [
       "<div>\n",
       "<style scoped>\n",
       "    .dataframe tbody tr th:only-of-type {\n",
       "        vertical-align: middle;\n",
       "    }\n",
       "\n",
       "    .dataframe tbody tr th {\n",
       "        vertical-align: top;\n",
       "    }\n",
       "\n",
       "    .dataframe thead th {\n",
       "        text-align: right;\n",
       "    }\n",
       "</style>\n",
       "<table border=\"1\" class=\"dataframe\">\n",
       "  <thead>\n",
       "    <tr style=\"text-align: right;\">\n",
       "      <th></th>\n",
       "      <th>Id</th>\n",
       "      <th>ProductName</th>\n",
       "      <th>SupplierId</th>\n",
       "      <th>CategoryId</th>\n",
       "      <th>QuantityPerUnit</th>\n",
       "      <th>UnitPrice</th>\n",
       "      <th>UnitsInStock</th>\n",
       "      <th>UnitsOnOrder</th>\n",
       "      <th>ReorderLevel</th>\n",
       "      <th>Discontinued</th>\n",
       "    </tr>\n",
       "  </thead>\n",
       "  <tbody>\n",
       "    <tr>\n",
       "      <td>0</td>\n",
       "      <td>1</td>\n",
       "      <td>Chai</td>\n",
       "      <td>1</td>\n",
       "      <td>1</td>\n",
       "      <td>10 boxes x 20 bags</td>\n",
       "      <td>18.00</td>\n",
       "      <td>39</td>\n",
       "      <td>0</td>\n",
       "      <td>10</td>\n",
       "      <td>0</td>\n",
       "    </tr>\n",
       "    <tr>\n",
       "      <td>1</td>\n",
       "      <td>2</td>\n",
       "      <td>Chang</td>\n",
       "      <td>1</td>\n",
       "      <td>1</td>\n",
       "      <td>24 - 12 oz bottles</td>\n",
       "      <td>19.00</td>\n",
       "      <td>17</td>\n",
       "      <td>40</td>\n",
       "      <td>25</td>\n",
       "      <td>0</td>\n",
       "    </tr>\n",
       "    <tr>\n",
       "      <td>2</td>\n",
       "      <td>3</td>\n",
       "      <td>Aniseed Syrup</td>\n",
       "      <td>1</td>\n",
       "      <td>2</td>\n",
       "      <td>12 - 550 ml bottles</td>\n",
       "      <td>10.00</td>\n",
       "      <td>13</td>\n",
       "      <td>70</td>\n",
       "      <td>25</td>\n",
       "      <td>0</td>\n",
       "    </tr>\n",
       "    <tr>\n",
       "      <td>3</td>\n",
       "      <td>4</td>\n",
       "      <td>Chef Anton's Cajun Seasoning</td>\n",
       "      <td>2</td>\n",
       "      <td>2</td>\n",
       "      <td>48 - 6 oz jars</td>\n",
       "      <td>22.00</td>\n",
       "      <td>53</td>\n",
       "      <td>0</td>\n",
       "      <td>0</td>\n",
       "      <td>0</td>\n",
       "    </tr>\n",
       "    <tr>\n",
       "      <td>4</td>\n",
       "      <td>5</td>\n",
       "      <td>Chef Anton's Gumbo Mix</td>\n",
       "      <td>2</td>\n",
       "      <td>2</td>\n",
       "      <td>36 boxes</td>\n",
       "      <td>21.35</td>\n",
       "      <td>0</td>\n",
       "      <td>0</td>\n",
       "      <td>0</td>\n",
       "      <td>1</td>\n",
       "    </tr>\n",
       "  </tbody>\n",
       "</table>\n",
       "</div>"
      ],
      "text/plain": [
       "   Id                   ProductName  SupplierId  CategoryId  \\\n",
       "0   1                          Chai           1           1   \n",
       "1   2                         Chang           1           1   \n",
       "2   3                 Aniseed Syrup           1           2   \n",
       "3   4  Chef Anton's Cajun Seasoning           2           2   \n",
       "4   5        Chef Anton's Gumbo Mix           2           2   \n",
       "\n",
       "       QuantityPerUnit  UnitPrice  UnitsInStock  UnitsOnOrder  ReorderLevel  \\\n",
       "0   10 boxes x 20 bags      18.00            39             0            10   \n",
       "1   24 - 12 oz bottles      19.00            17            40            25   \n",
       "2  12 - 550 ml bottles      10.00            13            70            25   \n",
       "3       48 - 6 oz jars      22.00            53             0             0   \n",
       "4             36 boxes      21.35             0             0             0   \n",
       "\n",
       "   Discontinued  \n",
       "0             0  \n",
       "1             0  \n",
       "2             0  \n",
       "3             0  \n",
       "4             1  "
      ]
     },
     "execution_count": 188,
     "metadata": {},
     "output_type": "execute_result"
    }
   ],
   "source": [
    "Product_df.head()"
   ]
  },
  {
   "cell_type": "code",
   "execution_count": 189,
   "metadata": {
    "ExecuteTime": {
     "end_time": "2019-11-05T15:31:42.629147Z",
     "start_time": "2019-11-05T15:31:42.621576Z"
    }
   },
   "outputs": [
    {
     "name": "stdout",
     "output_type": "stream",
     "text": [
      "<class 'pandas.core.frame.DataFrame'>\n",
      "RangeIndex: 77 entries, 0 to 76\n",
      "Data columns (total 10 columns):\n",
      "Id                 77 non-null int64\n",
      "ProductName        77 non-null object\n",
      "SupplierId         77 non-null int64\n",
      "CategoryId         77 non-null int64\n",
      "QuantityPerUnit    77 non-null object\n",
      "UnitPrice          77 non-null float64\n",
      "UnitsInStock       77 non-null int64\n",
      "UnitsOnOrder       77 non-null int64\n",
      "ReorderLevel       77 non-null int64\n",
      "Discontinued       77 non-null int64\n",
      "dtypes: float64(1), int64(7), object(2)\n",
      "memory usage: 6.1+ KB\n"
     ]
    }
   ],
   "source": [
    "Product_df.info()"
   ]
  },
  {
   "cell_type": "code",
   "execution_count": 190,
   "metadata": {
    "ExecuteTime": {
     "end_time": "2019-11-06T07:11:44.201671Z",
     "start_time": "2019-11-06T07:11:44.176943Z"
    }
   },
   "outputs": [
    {
     "data": {
      "text/plain": [
       "77"
      ]
     },
     "execution_count": 190,
     "metadata": {},
     "output_type": "execute_result"
    }
   ],
   "source": [
    "#number of unique products\n",
    "Product_df.Id.nunique()"
   ]
  },
  {
   "cell_type": "code",
   "execution_count": 250,
   "metadata": {
    "ExecuteTime": {
     "end_time": "2019-11-06T08:18:03.875048Z",
     "start_time": "2019-11-06T08:18:03.848154Z"
    }
   },
   "outputs": [
    {
     "data": {
      "text/plain": [
       "3    13\n",
       "8    12\n",
       "2    12\n",
       "1    12\n",
       "4    10\n",
       "5     7\n",
       "6     6\n",
       "7     5\n",
       "Name: CategoryId, dtype: int64"
      ]
     },
     "execution_count": 250,
     "metadata": {},
     "output_type": "execute_result"
    }
   ],
   "source": [
    "# look at spread of products across the 8 categories\n",
    "Product_df.CategoryId.value_counts()"
   ]
  },
  {
   "cell_type": "code",
   "execution_count": 193,
   "metadata": {
    "ExecuteTime": {
     "end_time": "2019-11-06T07:13:18.723785Z",
     "start_time": "2019-11-06T07:13:18.710456Z"
    }
   },
   "outputs": [
    {
     "data": {
      "text/html": [
       "<div>\n",
       "<style scoped>\n",
       "    .dataframe tbody tr th:only-of-type {\n",
       "        vertical-align: middle;\n",
       "    }\n",
       "\n",
       "    .dataframe tbody tr th {\n",
       "        vertical-align: top;\n",
       "    }\n",
       "\n",
       "    .dataframe thead th {\n",
       "        text-align: right;\n",
       "    }\n",
       "</style>\n",
       "<table border=\"1\" class=\"dataframe\">\n",
       "  <thead>\n",
       "    <tr style=\"text-align: right;\">\n",
       "      <th></th>\n",
       "      <th>Id</th>\n",
       "      <th>ProductName</th>\n",
       "      <th>SupplierId</th>\n",
       "      <th>CategoryId</th>\n",
       "      <th>QuantityPerUnit</th>\n",
       "      <th>UnitPrice</th>\n",
       "      <th>UnitsInStock</th>\n",
       "      <th>UnitsOnOrder</th>\n",
       "      <th>ReorderLevel</th>\n",
       "      <th>Discontinued</th>\n",
       "    </tr>\n",
       "  </thead>\n",
       "  <tbody>\n",
       "    <tr>\n",
       "      <td>4</td>\n",
       "      <td>5</td>\n",
       "      <td>Chef Anton's Gumbo Mix</td>\n",
       "      <td>2</td>\n",
       "      <td>2</td>\n",
       "      <td>36 boxes</td>\n",
       "      <td>21.35</td>\n",
       "      <td>0</td>\n",
       "      <td>0</td>\n",
       "      <td>0</td>\n",
       "      <td>1</td>\n",
       "    </tr>\n",
       "    <tr>\n",
       "      <td>8</td>\n",
       "      <td>9</td>\n",
       "      <td>Mishi Kobe Niku</td>\n",
       "      <td>4</td>\n",
       "      <td>6</td>\n",
       "      <td>18 - 500 g pkgs.</td>\n",
       "      <td>97.00</td>\n",
       "      <td>29</td>\n",
       "      <td>0</td>\n",
       "      <td>0</td>\n",
       "      <td>1</td>\n",
       "    </tr>\n",
       "    <tr>\n",
       "      <td>16</td>\n",
       "      <td>17</td>\n",
       "      <td>Alice Mutton</td>\n",
       "      <td>7</td>\n",
       "      <td>6</td>\n",
       "      <td>20 - 1 kg tins</td>\n",
       "      <td>39.00</td>\n",
       "      <td>0</td>\n",
       "      <td>0</td>\n",
       "      <td>0</td>\n",
       "      <td>1</td>\n",
       "    </tr>\n",
       "    <tr>\n",
       "      <td>23</td>\n",
       "      <td>24</td>\n",
       "      <td>Guaraná Fantástica</td>\n",
       "      <td>10</td>\n",
       "      <td>1</td>\n",
       "      <td>12 - 355 ml cans</td>\n",
       "      <td>4.50</td>\n",
       "      <td>20</td>\n",
       "      <td>0</td>\n",
       "      <td>0</td>\n",
       "      <td>1</td>\n",
       "    </tr>\n",
       "    <tr>\n",
       "      <td>27</td>\n",
       "      <td>28</td>\n",
       "      <td>Rössle Sauerkraut</td>\n",
       "      <td>12</td>\n",
       "      <td>7</td>\n",
       "      <td>25 - 825 g cans</td>\n",
       "      <td>45.60</td>\n",
       "      <td>26</td>\n",
       "      <td>0</td>\n",
       "      <td>0</td>\n",
       "      <td>1</td>\n",
       "    </tr>\n",
       "    <tr>\n",
       "      <td>28</td>\n",
       "      <td>29</td>\n",
       "      <td>Thüringer Rostbratwurst</td>\n",
       "      <td>12</td>\n",
       "      <td>6</td>\n",
       "      <td>50 bags x 30 sausgs.</td>\n",
       "      <td>123.79</td>\n",
       "      <td>0</td>\n",
       "      <td>0</td>\n",
       "      <td>0</td>\n",
       "      <td>1</td>\n",
       "    </tr>\n",
       "    <tr>\n",
       "      <td>41</td>\n",
       "      <td>42</td>\n",
       "      <td>Singaporean Hokkien Fried Mee</td>\n",
       "      <td>20</td>\n",
       "      <td>5</td>\n",
       "      <td>32 - 1 kg pkgs.</td>\n",
       "      <td>14.00</td>\n",
       "      <td>26</td>\n",
       "      <td>0</td>\n",
       "      <td>0</td>\n",
       "      <td>1</td>\n",
       "    </tr>\n",
       "    <tr>\n",
       "      <td>52</td>\n",
       "      <td>53</td>\n",
       "      <td>Perth Pasties</td>\n",
       "      <td>24</td>\n",
       "      <td>6</td>\n",
       "      <td>48 pieces</td>\n",
       "      <td>32.80</td>\n",
       "      <td>0</td>\n",
       "      <td>0</td>\n",
       "      <td>0</td>\n",
       "      <td>1</td>\n",
       "    </tr>\n",
       "  </tbody>\n",
       "</table>\n",
       "</div>"
      ],
      "text/plain": [
       "    Id                    ProductName  SupplierId  CategoryId  \\\n",
       "4    5         Chef Anton's Gumbo Mix           2           2   \n",
       "8    9                Mishi Kobe Niku           4           6   \n",
       "16  17                   Alice Mutton           7           6   \n",
       "23  24             Guaraná Fantástica          10           1   \n",
       "27  28              Rössle Sauerkraut          12           7   \n",
       "28  29        Thüringer Rostbratwurst          12           6   \n",
       "41  42  Singaporean Hokkien Fried Mee          20           5   \n",
       "52  53                  Perth Pasties          24           6   \n",
       "\n",
       "         QuantityPerUnit  UnitPrice  UnitsInStock  UnitsOnOrder  ReorderLevel  \\\n",
       "4               36 boxes      21.35             0             0             0   \n",
       "8       18 - 500 g pkgs.      97.00            29             0             0   \n",
       "16        20 - 1 kg tins      39.00             0             0             0   \n",
       "23      12 - 355 ml cans       4.50            20             0             0   \n",
       "27       25 - 825 g cans      45.60            26             0             0   \n",
       "28  50 bags x 30 sausgs.     123.79             0             0             0   \n",
       "41       32 - 1 kg pkgs.      14.00            26             0             0   \n",
       "52             48 pieces      32.80             0             0             0   \n",
       "\n",
       "    Discontinued  \n",
       "4              1  \n",
       "8              1  \n",
       "16             1  \n",
       "23             1  \n",
       "27             1  \n",
       "28             1  \n",
       "41             1  \n",
       "52             1  "
      ]
     },
     "execution_count": 193,
     "metadata": {},
     "output_type": "execute_result"
    }
   ],
   "source": [
    "# look at which products have been discontinued (note: 4 of them are form category 6)\n",
    "Product_df.loc[Product_df['Discontinued'] == 1]"
   ]
  },
  {
   "cell_type": "markdown",
   "metadata": {},
   "source": [
    "We have 77 unique products, 8 of which have been discontinued. Half of those discontinued products come from the same category (id 6)."
   ]
  },
  {
   "cell_type": "markdown",
   "metadata": {},
   "source": [
    "### OrderDetail_df"
   ]
  },
  {
   "cell_type": "code",
   "execution_count": 194,
   "metadata": {
    "ExecuteTime": {
     "end_time": "2019-11-06T07:17:04.559258Z",
     "start_time": "2019-11-06T07:17:04.549489Z"
    }
   },
   "outputs": [
    {
     "data": {
      "text/html": [
       "<div>\n",
       "<style scoped>\n",
       "    .dataframe tbody tr th:only-of-type {\n",
       "        vertical-align: middle;\n",
       "    }\n",
       "\n",
       "    .dataframe tbody tr th {\n",
       "        vertical-align: top;\n",
       "    }\n",
       "\n",
       "    .dataframe thead th {\n",
       "        text-align: right;\n",
       "    }\n",
       "</style>\n",
       "<table border=\"1\" class=\"dataframe\">\n",
       "  <thead>\n",
       "    <tr style=\"text-align: right;\">\n",
       "      <th></th>\n",
       "      <th>Id</th>\n",
       "      <th>OrderId</th>\n",
       "      <th>ProductId</th>\n",
       "      <th>UnitPrice</th>\n",
       "      <th>Quantity</th>\n",
       "      <th>Discount</th>\n",
       "    </tr>\n",
       "  </thead>\n",
       "  <tbody>\n",
       "    <tr>\n",
       "      <td>0</td>\n",
       "      <td>10248/11</td>\n",
       "      <td>10248</td>\n",
       "      <td>11</td>\n",
       "      <td>14.0</td>\n",
       "      <td>12</td>\n",
       "      <td>0.0</td>\n",
       "    </tr>\n",
       "    <tr>\n",
       "      <td>1</td>\n",
       "      <td>10248/42</td>\n",
       "      <td>10248</td>\n",
       "      <td>42</td>\n",
       "      <td>9.8</td>\n",
       "      <td>10</td>\n",
       "      <td>0.0</td>\n",
       "    </tr>\n",
       "    <tr>\n",
       "      <td>2</td>\n",
       "      <td>10248/72</td>\n",
       "      <td>10248</td>\n",
       "      <td>72</td>\n",
       "      <td>34.8</td>\n",
       "      <td>5</td>\n",
       "      <td>0.0</td>\n",
       "    </tr>\n",
       "    <tr>\n",
       "      <td>3</td>\n",
       "      <td>10249/14</td>\n",
       "      <td>10249</td>\n",
       "      <td>14</td>\n",
       "      <td>18.6</td>\n",
       "      <td>9</td>\n",
       "      <td>0.0</td>\n",
       "    </tr>\n",
       "    <tr>\n",
       "      <td>4</td>\n",
       "      <td>10249/51</td>\n",
       "      <td>10249</td>\n",
       "      <td>51</td>\n",
       "      <td>42.4</td>\n",
       "      <td>40</td>\n",
       "      <td>0.0</td>\n",
       "    </tr>\n",
       "  </tbody>\n",
       "</table>\n",
       "</div>"
      ],
      "text/plain": [
       "         Id  OrderId  ProductId  UnitPrice  Quantity  Discount\n",
       "0  10248/11    10248         11       14.0        12       0.0\n",
       "1  10248/42    10248         42        9.8        10       0.0\n",
       "2  10248/72    10248         72       34.8         5       0.0\n",
       "3  10249/14    10249         14       18.6         9       0.0\n",
       "4  10249/51    10249         51       42.4        40       0.0"
      ]
     },
     "execution_count": 194,
     "metadata": {},
     "output_type": "execute_result"
    }
   ],
   "source": [
    "OrderDetail_df.head()"
   ]
  },
  {
   "cell_type": "code",
   "execution_count": 195,
   "metadata": {
    "ExecuteTime": {
     "end_time": "2019-11-06T07:17:21.959041Z",
     "start_time": "2019-11-06T07:17:21.951233Z"
    }
   },
   "outputs": [
    {
     "name": "stdout",
     "output_type": "stream",
     "text": [
      "<class 'pandas.core.frame.DataFrame'>\n",
      "RangeIndex: 2155 entries, 0 to 2154\n",
      "Data columns (total 6 columns):\n",
      "Id           2155 non-null object\n",
      "OrderId      2155 non-null int64\n",
      "ProductId    2155 non-null int64\n",
      "UnitPrice    2155 non-null float64\n",
      "Quantity     2155 non-null int64\n",
      "Discount     2155 non-null float64\n",
      "dtypes: float64(2), int64(3), object(1)\n",
      "memory usage: 101.1+ KB\n"
     ]
    }
   ],
   "source": [
    "OrderDetail_df.info()"
   ]
  },
  {
   "cell_type": "code",
   "execution_count": 196,
   "metadata": {
    "ExecuteTime": {
     "end_time": "2019-11-06T07:17:48.280066Z",
     "start_time": "2019-11-06T07:17:48.245380Z"
    },
    "scrolled": true
   },
   "outputs": [
    {
     "data": {
      "text/html": [
       "<div>\n",
       "<style scoped>\n",
       "    .dataframe tbody tr th:only-of-type {\n",
       "        vertical-align: middle;\n",
       "    }\n",
       "\n",
       "    .dataframe tbody tr th {\n",
       "        vertical-align: top;\n",
       "    }\n",
       "\n",
       "    .dataframe thead th {\n",
       "        text-align: right;\n",
       "    }\n",
       "</style>\n",
       "<table border=\"1\" class=\"dataframe\">\n",
       "  <thead>\n",
       "    <tr style=\"text-align: right;\">\n",
       "      <th></th>\n",
       "      <th>UnitPrice</th>\n",
       "      <th>Quantity</th>\n",
       "      <th>Discount</th>\n",
       "    </tr>\n",
       "  </thead>\n",
       "  <tbody>\n",
       "    <tr>\n",
       "      <td>count</td>\n",
       "      <td>2155.000000</td>\n",
       "      <td>2155.000000</td>\n",
       "      <td>2155.000000</td>\n",
       "    </tr>\n",
       "    <tr>\n",
       "      <td>mean</td>\n",
       "      <td>26.218520</td>\n",
       "      <td>23.812993</td>\n",
       "      <td>0.056167</td>\n",
       "    </tr>\n",
       "    <tr>\n",
       "      <td>std</td>\n",
       "      <td>29.827418</td>\n",
       "      <td>19.022047</td>\n",
       "      <td>0.083450</td>\n",
       "    </tr>\n",
       "    <tr>\n",
       "      <td>min</td>\n",
       "      <td>2.000000</td>\n",
       "      <td>1.000000</td>\n",
       "      <td>0.000000</td>\n",
       "    </tr>\n",
       "    <tr>\n",
       "      <td>25%</td>\n",
       "      <td>12.000000</td>\n",
       "      <td>10.000000</td>\n",
       "      <td>0.000000</td>\n",
       "    </tr>\n",
       "    <tr>\n",
       "      <td>50%</td>\n",
       "      <td>18.400000</td>\n",
       "      <td>20.000000</td>\n",
       "      <td>0.000000</td>\n",
       "    </tr>\n",
       "    <tr>\n",
       "      <td>75%</td>\n",
       "      <td>32.000000</td>\n",
       "      <td>30.000000</td>\n",
       "      <td>0.100000</td>\n",
       "    </tr>\n",
       "    <tr>\n",
       "      <td>max</td>\n",
       "      <td>263.500000</td>\n",
       "      <td>130.000000</td>\n",
       "      <td>0.250000</td>\n",
       "    </tr>\n",
       "  </tbody>\n",
       "</table>\n",
       "</div>"
      ],
      "text/plain": [
       "         UnitPrice     Quantity     Discount\n",
       "count  2155.000000  2155.000000  2155.000000\n",
       "mean     26.218520    23.812993     0.056167\n",
       "std      29.827418    19.022047     0.083450\n",
       "min       2.000000     1.000000     0.000000\n",
       "25%      12.000000    10.000000     0.000000\n",
       "50%      18.400000    20.000000     0.000000\n",
       "75%      32.000000    30.000000     0.100000\n",
       "max     263.500000   130.000000     0.250000"
      ]
     },
     "execution_count": 196,
     "metadata": {},
     "output_type": "execute_result"
    }
   ],
   "source": [
    "OrderDetail_df[['UnitPrice', 'Quantity', 'Discount']].describe()"
   ]
  },
  {
   "cell_type": "code",
   "execution_count": 199,
   "metadata": {
    "ExecuteTime": {
     "end_time": "2019-11-06T07:19:24.585171Z",
     "start_time": "2019-11-06T07:19:24.579963Z"
    }
   },
   "outputs": [
    {
     "data": {
      "text/plain": [
       "830"
      ]
     },
     "execution_count": 199,
     "metadata": {},
     "output_type": "execute_result"
    }
   ],
   "source": [
    "OrderDetail_df.OrderId.nunique()"
   ]
  },
  {
   "cell_type": "markdown",
   "metadata": {},
   "source": [
    "This is our main table for testing the first provided hypothesis on discount and quantity ordered. We have 2155 entries, but 830 unique orders. This means that a single order can span across multiple rows, likely because each row pertains to individual products ordered within a single order."
   ]
  },
  {
   "cell_type": "markdown",
   "metadata": {},
   "source": [
    "### CustomerCustomerDemo_df"
   ]
  },
  {
   "cell_type": "code",
   "execution_count": 200,
   "metadata": {
    "ExecuteTime": {
     "end_time": "2019-11-06T07:21:24.403130Z",
     "start_time": "2019-11-06T07:21:24.397133Z"
    }
   },
   "outputs": [
    {
     "data": {
      "text/html": [
       "<div>\n",
       "<style scoped>\n",
       "    .dataframe tbody tr th:only-of-type {\n",
       "        vertical-align: middle;\n",
       "    }\n",
       "\n",
       "    .dataframe tbody tr th {\n",
       "        vertical-align: top;\n",
       "    }\n",
       "\n",
       "    .dataframe thead th {\n",
       "        text-align: right;\n",
       "    }\n",
       "</style>\n",
       "<table border=\"1\" class=\"dataframe\">\n",
       "  <thead>\n",
       "    <tr style=\"text-align: right;\">\n",
       "      <th></th>\n",
       "      <th>Id</th>\n",
       "      <th>CustomerTypeId</th>\n",
       "    </tr>\n",
       "  </thead>\n",
       "  <tbody>\n",
       "  </tbody>\n",
       "</table>\n",
       "</div>"
      ],
      "text/plain": [
       "Empty DataFrame\n",
       "Columns: [Id, CustomerTypeId]\n",
       "Index: []"
      ]
     },
     "execution_count": 200,
     "metadata": {},
     "output_type": "execute_result"
    }
   ],
   "source": [
    "CustomerCustomerDemo_df.head()"
   ]
  },
  {
   "cell_type": "markdown",
   "metadata": {},
   "source": [
    "There is no data available in this table."
   ]
  },
  {
   "cell_type": "markdown",
   "metadata": {},
   "source": [
    "### CustomerDemographic_df"
   ]
  },
  {
   "cell_type": "code",
   "execution_count": 201,
   "metadata": {
    "ExecuteTime": {
     "end_time": "2019-11-06T07:21:47.234717Z",
     "start_time": "2019-11-06T07:21:47.221761Z"
    }
   },
   "outputs": [
    {
     "data": {
      "text/html": [
       "<div>\n",
       "<style scoped>\n",
       "    .dataframe tbody tr th:only-of-type {\n",
       "        vertical-align: middle;\n",
       "    }\n",
       "\n",
       "    .dataframe tbody tr th {\n",
       "        vertical-align: top;\n",
       "    }\n",
       "\n",
       "    .dataframe thead th {\n",
       "        text-align: right;\n",
       "    }\n",
       "</style>\n",
       "<table border=\"1\" class=\"dataframe\">\n",
       "  <thead>\n",
       "    <tr style=\"text-align: right;\">\n",
       "      <th></th>\n",
       "      <th>Id</th>\n",
       "      <th>CustomerDesc</th>\n",
       "    </tr>\n",
       "  </thead>\n",
       "  <tbody>\n",
       "  </tbody>\n",
       "</table>\n",
       "</div>"
      ],
      "text/plain": [
       "Empty DataFrame\n",
       "Columns: [Id, CustomerDesc]\n",
       "Index: []"
      ]
     },
     "execution_count": 201,
     "metadata": {},
     "output_type": "execute_result"
    }
   ],
   "source": [
    "CustomerDemographic_df.head()"
   ]
  },
  {
   "cell_type": "markdown",
   "metadata": {},
   "source": [
    "There is no data available in this table."
   ]
  },
  {
   "cell_type": "markdown",
   "metadata": {},
   "source": [
    "### Region_df"
   ]
  },
  {
   "cell_type": "code",
   "execution_count": 203,
   "metadata": {
    "ExecuteTime": {
     "end_time": "2019-11-06T07:22:54.719759Z",
     "start_time": "2019-11-06T07:22:54.713121Z"
    }
   },
   "outputs": [
    {
     "data": {
      "text/html": [
       "<div>\n",
       "<style scoped>\n",
       "    .dataframe tbody tr th:only-of-type {\n",
       "        vertical-align: middle;\n",
       "    }\n",
       "\n",
       "    .dataframe tbody tr th {\n",
       "        vertical-align: top;\n",
       "    }\n",
       "\n",
       "    .dataframe thead th {\n",
       "        text-align: right;\n",
       "    }\n",
       "</style>\n",
       "<table border=\"1\" class=\"dataframe\">\n",
       "  <thead>\n",
       "    <tr style=\"text-align: right;\">\n",
       "      <th></th>\n",
       "      <th>Id</th>\n",
       "      <th>RegionDescription</th>\n",
       "    </tr>\n",
       "  </thead>\n",
       "  <tbody>\n",
       "    <tr>\n",
       "      <td>0</td>\n",
       "      <td>1</td>\n",
       "      <td>Eastern</td>\n",
       "    </tr>\n",
       "    <tr>\n",
       "      <td>1</td>\n",
       "      <td>2</td>\n",
       "      <td>Western</td>\n",
       "    </tr>\n",
       "    <tr>\n",
       "      <td>2</td>\n",
       "      <td>3</td>\n",
       "      <td>Northern</td>\n",
       "    </tr>\n",
       "    <tr>\n",
       "      <td>3</td>\n",
       "      <td>4</td>\n",
       "      <td>Southern</td>\n",
       "    </tr>\n",
       "  </tbody>\n",
       "</table>\n",
       "</div>"
      ],
      "text/plain": [
       "   Id RegionDescription\n",
       "0   1           Eastern\n",
       "1   2           Western\n",
       "2   3          Northern\n",
       "3   4          Southern"
      ]
     },
     "execution_count": 203,
     "metadata": {},
     "output_type": "execute_result"
    }
   ],
   "source": [
    "Region_df"
   ]
  },
  {
   "cell_type": "markdown",
   "metadata": {},
   "source": [
    "This simple table provides the 4 regions and their corresponding region IDs. The four regions are Eastern, Western, Northern, and Southern."
   ]
  },
  {
   "cell_type": "markdown",
   "metadata": {},
   "source": [
    "### Territory_df"
   ]
  },
  {
   "cell_type": "code",
   "execution_count": 206,
   "metadata": {
    "ExecuteTime": {
     "end_time": "2019-11-06T07:24:16.157839Z",
     "start_time": "2019-11-06T07:24:16.149897Z"
    }
   },
   "outputs": [
    {
     "data": {
      "text/html": [
       "<div>\n",
       "<style scoped>\n",
       "    .dataframe tbody tr th:only-of-type {\n",
       "        vertical-align: middle;\n",
       "    }\n",
       "\n",
       "    .dataframe tbody tr th {\n",
       "        vertical-align: top;\n",
       "    }\n",
       "\n",
       "    .dataframe thead th {\n",
       "        text-align: right;\n",
       "    }\n",
       "</style>\n",
       "<table border=\"1\" class=\"dataframe\">\n",
       "  <thead>\n",
       "    <tr style=\"text-align: right;\">\n",
       "      <th></th>\n",
       "      <th>Id</th>\n",
       "      <th>TerritoryDescription</th>\n",
       "      <th>RegionId</th>\n",
       "    </tr>\n",
       "  </thead>\n",
       "  <tbody>\n",
       "    <tr>\n",
       "      <td>0</td>\n",
       "      <td>01581</td>\n",
       "      <td>Westboro</td>\n",
       "      <td>1</td>\n",
       "    </tr>\n",
       "    <tr>\n",
       "      <td>1</td>\n",
       "      <td>01730</td>\n",
       "      <td>Bedford</td>\n",
       "      <td>1</td>\n",
       "    </tr>\n",
       "    <tr>\n",
       "      <td>2</td>\n",
       "      <td>01833</td>\n",
       "      <td>Georgetow</td>\n",
       "      <td>1</td>\n",
       "    </tr>\n",
       "    <tr>\n",
       "      <td>3</td>\n",
       "      <td>02116</td>\n",
       "      <td>Boston</td>\n",
       "      <td>1</td>\n",
       "    </tr>\n",
       "    <tr>\n",
       "      <td>4</td>\n",
       "      <td>02139</td>\n",
       "      <td>Cambridge</td>\n",
       "      <td>1</td>\n",
       "    </tr>\n",
       "  </tbody>\n",
       "</table>\n",
       "</div>"
      ],
      "text/plain": [
       "      Id TerritoryDescription  RegionId\n",
       "0  01581             Westboro         1\n",
       "1  01730              Bedford         1\n",
       "2  01833            Georgetow         1\n",
       "3  02116               Boston         1\n",
       "4  02139            Cambridge         1"
      ]
     },
     "execution_count": 206,
     "metadata": {},
     "output_type": "execute_result"
    }
   ],
   "source": [
    "Territory_df.head()"
   ]
  },
  {
   "cell_type": "code",
   "execution_count": 207,
   "metadata": {
    "ExecuteTime": {
     "end_time": "2019-11-06T07:24:22.896783Z",
     "start_time": "2019-11-06T07:24:22.890637Z"
    }
   },
   "outputs": [
    {
     "name": "stdout",
     "output_type": "stream",
     "text": [
      "<class 'pandas.core.frame.DataFrame'>\n",
      "RangeIndex: 53 entries, 0 to 52\n",
      "Data columns (total 3 columns):\n",
      "Id                      53 non-null object\n",
      "TerritoryDescription    53 non-null object\n",
      "RegionId                53 non-null int64\n",
      "dtypes: int64(1), object(2)\n",
      "memory usage: 1.4+ KB\n"
     ]
    }
   ],
   "source": [
    "Territory_df.info()"
   ]
  },
  {
   "cell_type": "code",
   "execution_count": 242,
   "metadata": {
    "ExecuteTime": {
     "end_time": "2019-11-06T07:54:56.142752Z",
     "start_time": "2019-11-06T07:54:56.135872Z"
    }
   },
   "outputs": [
    {
     "data": {
      "text/plain": [
       "Id                      0\n",
       "TerritoryDescription    0\n",
       "RegionId                0\n",
       "dtype: int64"
      ]
     },
     "execution_count": 242,
     "metadata": {},
     "output_type": "execute_result"
    }
   ],
   "source": [
    "Territory_df.isnull().sum()"
   ]
  },
  {
   "cell_type": "code",
   "execution_count": 209,
   "metadata": {
    "ExecuteTime": {
     "end_time": "2019-11-06T07:24:56.155444Z",
     "start_time": "2019-11-06T07:24:56.150836Z"
    }
   },
   "outputs": [
    {
     "data": {
      "text/plain": [
       "53"
      ]
     },
     "execution_count": 209,
     "metadata": {},
     "output_type": "execute_result"
    }
   ],
   "source": [
    "Territory_df.Id.nunique()"
   ]
  },
  {
   "cell_type": "code",
   "execution_count": 235,
   "metadata": {
    "ExecuteTime": {
     "end_time": "2019-11-06T07:52:02.863195Z",
     "start_time": "2019-11-06T07:52:02.858947Z"
    },
    "scrolled": false
   },
   "outputs": [],
   "source": [
    "counts = Territory_df.RegionId.value_counts()"
   ]
  },
  {
   "cell_type": "code",
   "execution_count": 236,
   "metadata": {
    "ExecuteTime": {
     "end_time": "2019-11-06T07:52:47.421732Z",
     "start_time": "2019-11-06T07:52:47.235298Z"
    }
   },
   "outputs": [
    {
     "data": {
      "text/plain": [
       "[Text(0, 0, 'Eastern'),\n",
       " Text(0, 0, 'Western'),\n",
       " Text(0, 0, 'Northern'),\n",
       " Text(0, 0, 'Southern')]"
      ]
     },
     "execution_count": 236,
     "metadata": {},
     "output_type": "execute_result"
    },
    {
     "data": {
      "image/png": "[encoded data removed]",
      "text/plain": [
       "<Figure size 432x288 with 1 Axes>"
      ]
     },
     "metadata": {},
     "output_type": "display_data"
    }
   ],
   "source": [
    "region_plot = counts.plot.bar()\n",
    "region_plot.set_ylabel('Number of Territories')\n",
    "region_plot.set_xticklabels(('Eastern', 'Western', 'Northern', 'Southern'))"
   ]
  },
  {
   "cell_type": "markdown",
   "metadata": {},
   "source": [
    "This table, similar to Region_df, acts as an intermediary table for the 53 unique territories belonging to the 4 regions.  Across these 4 regions, we have region 4 (Southern) that has the least territories (8), then region 3 (Northern) with 11 territories, then region 2 (Western) with 15 territories, and finally region 1 (Eastern) with 19 territories."
   ]
  },
  {
   "cell_type": "markdown",
   "metadata": {},
   "source": [
    "### EmployeeTerritory_df"
   ]
  },
  {
   "cell_type": "code",
   "execution_count": 238,
   "metadata": {
    "ExecuteTime": {
     "end_time": "2019-11-06T07:53:11.640595Z",
     "start_time": "2019-11-06T07:53:11.633292Z"
    }
   },
   "outputs": [
    {
     "data": {
      "text/html": [
       "<div>\n",
       "<style scoped>\n",
       "    .dataframe tbody tr th:only-of-type {\n",
       "        vertical-align: middle;\n",
       "    }\n",
       "\n",
       "    .dataframe tbody tr th {\n",
       "        vertical-align: top;\n",
       "    }\n",
       "\n",
       "    .dataframe thead th {\n",
       "        text-align: right;\n",
       "    }\n",
       "</style>\n",
       "<table border=\"1\" class=\"dataframe\">\n",
       "  <thead>\n",
       "    <tr style=\"text-align: right;\">\n",
       "      <th></th>\n",
       "      <th>Id</th>\n",
       "      <th>EmployeeId</th>\n",
       "      <th>TerritoryId</th>\n",
       "    </tr>\n",
       "  </thead>\n",
       "  <tbody>\n",
       "    <tr>\n",
       "      <td>0</td>\n",
       "      <td>1/06897</td>\n",
       "      <td>1</td>\n",
       "      <td>06897</td>\n",
       "    </tr>\n",
       "    <tr>\n",
       "      <td>1</td>\n",
       "      <td>1/19713</td>\n",
       "      <td>1</td>\n",
       "      <td>19713</td>\n",
       "    </tr>\n",
       "    <tr>\n",
       "      <td>2</td>\n",
       "      <td>2/01581</td>\n",
       "      <td>2</td>\n",
       "      <td>01581</td>\n",
       "    </tr>\n",
       "    <tr>\n",
       "      <td>3</td>\n",
       "      <td>2/01730</td>\n",
       "      <td>2</td>\n",
       "      <td>01730</td>\n",
       "    </tr>\n",
       "    <tr>\n",
       "      <td>4</td>\n",
       "      <td>2/01833</td>\n",
       "      <td>2</td>\n",
       "      <td>01833</td>\n",
       "    </tr>\n",
       "  </tbody>\n",
       "</table>\n",
       "</div>"
      ],
      "text/plain": [
       "        Id  EmployeeId TerritoryId\n",
       "0  1/06897           1       06897\n",
       "1  1/19713           1       19713\n",
       "2  2/01581           2       01581\n",
       "3  2/01730           2       01730\n",
       "4  2/01833           2       01833"
      ]
     },
     "execution_count": 238,
     "metadata": {},
     "output_type": "execute_result"
    }
   ],
   "source": [
    "EmployeeTerritory_df.head()"
   ]
  },
  {
   "cell_type": "code",
   "execution_count": 239,
   "metadata": {
    "ExecuteTime": {
     "end_time": "2019-11-06T07:53:22.022366Z",
     "start_time": "2019-11-06T07:53:22.015593Z"
    }
   },
   "outputs": [
    {
     "name": "stdout",
     "output_type": "stream",
     "text": [
      "<class 'pandas.core.frame.DataFrame'>\n",
      "RangeIndex: 49 entries, 0 to 48\n",
      "Data columns (total 3 columns):\n",
      "Id             49 non-null object\n",
      "EmployeeId     49 non-null int64\n",
      "TerritoryId    49 non-null object\n",
      "dtypes: int64(1), object(2)\n",
      "memory usage: 1.3+ KB\n"
     ]
    }
   ],
   "source": [
    "EmployeeTerritory_df.info()"
   ]
  },
  {
   "cell_type": "code",
   "execution_count": 241,
   "metadata": {
    "ExecuteTime": {
     "end_time": "2019-11-06T07:53:58.349632Z",
     "start_time": "2019-11-06T07:53:58.345145Z"
    }
   },
   "outputs": [
    {
     "data": {
      "text/plain": [
       "49"
      ]
     },
     "execution_count": 241,
     "metadata": {},
     "output_type": "execute_result"
    }
   ],
   "source": [
    "EmployeeTerritory_df.TerritoryId.nunique()"
   ]
  },
  {
   "cell_type": "code",
   "execution_count": 243,
   "metadata": {
    "ExecuteTime": {
     "end_time": "2019-11-06T07:55:33.227387Z",
     "start_time": "2019-11-06T07:55:33.221954Z"
    }
   },
   "outputs": [
    {
     "data": {
      "text/plain": [
       "9"
      ]
     },
     "execution_count": 243,
     "metadata": {},
     "output_type": "execute_result"
    }
   ],
   "source": [
    "EmployeeTerritory_df.EmployeeId.nunique()"
   ]
  },
  {
   "cell_type": "markdown",
   "metadata": {},
   "source": [
    "All 9 employees are accounted for in this table, but oddly only 49 out of the 53 unique territories are accounted for in this table. This might indicate that there are 4 territories that are currently not assigned to any employee."
   ]
  },
  {
   "cell_type": "code",
   "execution_count": 246,
   "metadata": {
    "ExecuteTime": {
     "end_time": "2019-11-06T08:07:40.944602Z",
     "start_time": "2019-11-06T08:07:40.938566Z"
    }
   },
   "outputs": [],
   "source": [
    "missing_territories = EmployeeTerritory_df.merge(Territory_df, how=\"right\", left_on='TerritoryId', right_on='Id')"
   ]
  },
  {
   "cell_type": "code",
   "execution_count": 249,
   "metadata": {
    "ExecuteTime": {
     "end_time": "2019-11-06T08:09:03.368603Z",
     "start_time": "2019-11-06T08:09:03.360903Z"
    }
   },
   "outputs": [
    {
     "name": "stdout",
     "output_type": "stream",
     "text": [
      "   Id_x  EmployeeId TerritoryId   Id_y TerritoryDescription  RegionId\n",
      "49  NaN         NaN         NaN  29202             Columbia         4\n",
      "50  NaN         NaN         NaN  72716          Bentonville         4\n",
      "51  NaN         NaN         NaN  75234               Dallas         4\n",
      "52  NaN         NaN         NaN  78759               Austin         4\n"
     ]
    }
   ],
   "source": [
    "print(missing_territories[missing_territories['Id_x'].isnull()])"
   ]
  },
  {
   "cell_type": "markdown",
   "metadata": {},
   "source": [
    "It looks like there are 4 territories within region 4 (Southern) that are not assigned to an employee. These 4 territories are Columbia, Bentonville, Dallas, and Austin."
   ]
  },
  {
   "cell_type": "markdown",
   "metadata": {},
   "source": [
    "## Initial Curiosities & Observations"
   ]
  },
  {
   "cell_type": "markdown",
   "metadata": {},
   "source": [
    "- Some type of performance comparison between employees from US and UK offices (there are only 9 employees total)\n",
    "- 8 Categories of food&bev, perhaps which categories are the least likely to make first-time buyers repeat their purchase... \n",
    "- how do discounts perform (in terms of increased quantity ordered) for different categories... maybe discounts on meat and poultry are higher than discounts on sweets or beverages?\n",
    "- 91 customers with company data, across 21 countries - group by territory and see if orders are consistent across all regions or if some regions prefer certain categories of products\n",
    "- 29 suppliers in 16 countries \n",
    "- orders table: look at ship date versus order date and see if certain countries outperform others in terms of being faster to ship? or look at late orders and see how employee IDs connected to those orders perform in this sense.\n",
    "- Product table: We have 77 unique products, 8 of which have been discontinued. Half of those discontinued products belong to the same category (id 6).\n",
    "- CustomerCustomerDemo and CustomerDemographic have no data available\n",
    "- Region_df: This simple table provides the 4 regions and their corresponding region IDs. The four regions are Eastern, Western, Northern, and Southern.\n",
    "- Territory_df: This table, similar to Region_df, acts as an intermediary table for the 53 unique territories belonging to the 4 regions.  Across these 4 regions, we have region 4 (Southern) that has the least territories (8), then region 3 (Northern) with 11 territories, then region 2 (Western) with 15 territories, and finally region 1 (Eastern) with 19 territories.\n",
    "- All 9 employees are accounted for in this table, but oddly only 49 out of the 53 unique territories are accounted for in this table. This might indicate that there are 4 territories that are currently not assigned to any employee (these 4 unaccounted for territories are all located in Region 4 (Southern))."
   ]
  },
  {
   "cell_type": "markdown",
   "metadata": {},
   "source": [
    "## Discount data - Initial Review\n",
    "Let's begin by taking a look at relevant table for discounts and quantity of product in an order."
   ]
  },
  {
   "cell_type": "code",
   "execution_count": 55,
   "metadata": {
    "ExecuteTime": {
     "end_time": "2019-11-04T16:52:58.772962Z",
     "start_time": "2019-11-04T16:52:58.753150Z"
    }
   },
   "outputs": [
    {
     "data": {
      "text/html": [
       "<div>\n",
       "<style scoped>\n",
       "    .dataframe tbody tr th:only-of-type {\n",
       "        vertical-align: middle;\n",
       "    }\n",
       "\n",
       "    .dataframe tbody tr th {\n",
       "        vertical-align: top;\n",
       "    }\n",
       "\n",
       "    .dataframe thead th {\n",
       "        text-align: right;\n",
       "    }\n",
       "</style>\n",
       "<table border=\"1\" class=\"dataframe\">\n",
       "  <thead>\n",
       "    <tr style=\"text-align: right;\">\n",
       "      <th></th>\n",
       "      <th>OrderId</th>\n",
       "      <th>ProductId</th>\n",
       "      <th>ProductName</th>\n",
       "      <th>Quantity</th>\n",
       "      <th>UnitPrice</th>\n",
       "      <th>Discount</th>\n",
       "    </tr>\n",
       "  </thead>\n",
       "  <tbody>\n",
       "    <tr>\n",
       "      <td>0</td>\n",
       "      <td>10248</td>\n",
       "      <td>11</td>\n",
       "      <td>Queso Cabrales</td>\n",
       "      <td>12</td>\n",
       "      <td>14.0</td>\n",
       "      <td>0.0</td>\n",
       "    </tr>\n",
       "    <tr>\n",
       "      <td>1</td>\n",
       "      <td>10248</td>\n",
       "      <td>42</td>\n",
       "      <td>Singaporean Hokkien Fried Mee</td>\n",
       "      <td>10</td>\n",
       "      <td>9.8</td>\n",
       "      <td>0.0</td>\n",
       "    </tr>\n",
       "    <tr>\n",
       "      <td>2</td>\n",
       "      <td>10248</td>\n",
       "      <td>72</td>\n",
       "      <td>Mozzarella di Giovanni</td>\n",
       "      <td>5</td>\n",
       "      <td>34.8</td>\n",
       "      <td>0.0</td>\n",
       "    </tr>\n",
       "    <tr>\n",
       "      <td>3</td>\n",
       "      <td>10249</td>\n",
       "      <td>14</td>\n",
       "      <td>Tofu</td>\n",
       "      <td>9</td>\n",
       "      <td>18.6</td>\n",
       "      <td>0.0</td>\n",
       "    </tr>\n",
       "    <tr>\n",
       "      <td>4</td>\n",
       "      <td>10249</td>\n",
       "      <td>51</td>\n",
       "      <td>Manjimup Dried Apples</td>\n",
       "      <td>40</td>\n",
       "      <td>42.4</td>\n",
       "      <td>0.0</td>\n",
       "    </tr>\n",
       "  </tbody>\n",
       "</table>\n",
       "</div>"
      ],
      "text/plain": [
       "   OrderId  ProductId                    ProductName  Quantity  UnitPrice  \\\n",
       "0    10248         11                 Queso Cabrales        12       14.0   \n",
       "1    10248         42  Singaporean Hokkien Fried Mee        10        9.8   \n",
       "2    10248         72         Mozzarella di Giovanni         5       34.8   \n",
       "3    10249         14                           Tofu         9       18.6   \n",
       "4    10249         51          Manjimup Dried Apples        40       42.4   \n",
       "\n",
       "   Discount  \n",
       "0       0.0  \n",
       "1       0.0  \n",
       "2       0.0  \n",
       "3       0.0  \n",
       "4       0.0  "
      ]
     },
     "execution_count": 55,
     "metadata": {},
     "output_type": "execute_result"
    }
   ],
   "source": [
    "# While all the data we need is in the orderdetail table, let's add product names to bring the data to life\n",
    "c.execute(\"\"\"SELECT od.orderid, od.productId, p.productname, od.quantity, od.unitprice, od.discount \n",
    "                    FROM orderdetail od JOIN product p ON od.productid = p.id;\"\"\")\n",
    "od_df = pd.DataFrame(c.fetchall())\n",
    "od_df.columns = [x[0] for x in c.description]\n",
    "od_df.head()"
   ]
  },
  {
   "cell_type": "code",
   "execution_count": 56,
   "metadata": {
    "ExecuteTime": {
     "end_time": "2019-11-04T16:53:00.944406Z",
     "start_time": "2019-11-04T16:53:00.937286Z"
    }
   },
   "outputs": [
    {
     "name": "stdout",
     "output_type": "stream",
     "text": [
      "<class 'pandas.core.frame.DataFrame'>\n",
      "RangeIndex: 2155 entries, 0 to 2154\n",
      "Data columns (total 6 columns):\n",
      "OrderId        2155 non-null int64\n",
      "ProductId      2155 non-null int64\n",
      "ProductName    2155 non-null object\n",
      "Quantity       2155 non-null int64\n",
      "UnitPrice      2155 non-null float64\n",
      "Discount       2155 non-null float64\n",
      "dtypes: float64(2), int64(3), object(1)\n",
      "memory usage: 101.1+ KB\n"
     ]
    }
   ],
   "source": [
    "od_df.info()"
   ]
  },
  {
   "cell_type": "code",
   "execution_count": 57,
   "metadata": {
    "ExecuteTime": {
     "end_time": "2019-11-04T16:53:02.742510Z",
     "start_time": "2019-11-04T16:53:02.735878Z"
    }
   },
   "outputs": [
    {
     "data": {
      "text/plain": [
       "OrderId        0\n",
       "ProductId      0\n",
       "ProductName    0\n",
       "Quantity       0\n",
       "UnitPrice      0\n",
       "Discount       0\n",
       "dtype: int64"
      ]
     },
     "execution_count": 57,
     "metadata": {},
     "output_type": "execute_result"
    }
   ],
   "source": [
    "# Check for any null values as part of pre-processing that might be required\n",
    "od_df.isnull().sum()"
   ]
  },
  {
   "cell_type": "code",
   "execution_count": 58,
   "metadata": {
    "ExecuteTime": {
     "end_time": "2019-11-04T16:53:03.787871Z",
     "start_time": "2019-11-04T16:53:03.764951Z"
    }
   },
   "outputs": [
    {
     "data": {
      "text/html": [
       "<div>\n",
       "<style scoped>\n",
       "    .dataframe tbody tr th:only-of-type {\n",
       "        vertical-align: middle;\n",
       "    }\n",
       "\n",
       "    .dataframe tbody tr th {\n",
       "        vertical-align: top;\n",
       "    }\n",
       "\n",
       "    .dataframe thead th {\n",
       "        text-align: right;\n",
       "    }\n",
       "</style>\n",
       "<table border=\"1\" class=\"dataframe\">\n",
       "  <thead>\n",
       "    <tr style=\"text-align: right;\">\n",
       "      <th></th>\n",
       "      <th>UnitPrice</th>\n",
       "      <th>Quantity</th>\n",
       "      <th>Discount</th>\n",
       "    </tr>\n",
       "  </thead>\n",
       "  <tbody>\n",
       "    <tr>\n",
       "      <td>count</td>\n",
       "      <td>2155.000000</td>\n",
       "      <td>2155.000000</td>\n",
       "      <td>2155.000000</td>\n",
       "    </tr>\n",
       "    <tr>\n",
       "      <td>mean</td>\n",
       "      <td>26.218520</td>\n",
       "      <td>23.812993</td>\n",
       "      <td>0.056167</td>\n",
       "    </tr>\n",
       "    <tr>\n",
       "      <td>std</td>\n",
       "      <td>29.827418</td>\n",
       "      <td>19.022047</td>\n",
       "      <td>0.083450</td>\n",
       "    </tr>\n",
       "    <tr>\n",
       "      <td>min</td>\n",
       "      <td>2.000000</td>\n",
       "      <td>1.000000</td>\n",
       "      <td>0.000000</td>\n",
       "    </tr>\n",
       "    <tr>\n",
       "      <td>25%</td>\n",
       "      <td>12.000000</td>\n",
       "      <td>10.000000</td>\n",
       "      <td>0.000000</td>\n",
       "    </tr>\n",
       "    <tr>\n",
       "      <td>50%</td>\n",
       "      <td>18.400000</td>\n",
       "      <td>20.000000</td>\n",
       "      <td>0.000000</td>\n",
       "    </tr>\n",
       "    <tr>\n",
       "      <td>75%</td>\n",
       "      <td>32.000000</td>\n",
       "      <td>30.000000</td>\n",
       "      <td>0.100000</td>\n",
       "    </tr>\n",
       "    <tr>\n",
       "      <td>max</td>\n",
       "      <td>263.500000</td>\n",
       "      <td>130.000000</td>\n",
       "      <td>0.250000</td>\n",
       "    </tr>\n",
       "  </tbody>\n",
       "</table>\n",
       "</div>"
      ],
      "text/plain": [
       "         UnitPrice     Quantity     Discount\n",
       "count  2155.000000  2155.000000  2155.000000\n",
       "mean     26.218520    23.812993     0.056167\n",
       "std      29.827418    19.022047     0.083450\n",
       "min       2.000000     1.000000     0.000000\n",
       "25%      12.000000    10.000000     0.000000\n",
       "50%      18.400000    20.000000     0.000000\n",
       "75%      32.000000    30.000000     0.100000\n",
       "max     263.500000   130.000000     0.250000"
      ]
     },
     "execution_count": 58,
     "metadata": {},
     "output_type": "execute_result"
    }
   ],
   "source": [
    "# Note: OrderId and ProductId are not relevant for showing valid descriptive statistics\n",
    "od_df[['UnitPrice', 'Quantity', 'Discount']].describe()"
   ]
  },
  {
   "cell_type": "code",
   "execution_count": 59,
   "metadata": {
    "ExecuteTime": {
     "end_time": "2019-11-04T16:53:05.227309Z",
     "start_time": "2019-11-04T16:53:05.217919Z"
    }
   },
   "outputs": [
    {
     "data": {
      "text/plain": [
       "0.00    1317\n",
       "0.05     185\n",
       "0.10     173\n",
       "0.20     161\n",
       "0.15     157\n",
       "0.25     154\n",
       "0.03       3\n",
       "0.02       2\n",
       "0.01       1\n",
       "0.04       1\n",
       "0.06       1\n",
       "Name: Discount, dtype: int64"
      ]
     },
     "execution_count": 59,
     "metadata": {},
     "output_type": "execute_result"
    }
   ],
   "source": [
    "od_df.Discount.value_counts()"
   ]
  },
  {
   "cell_type": "code",
   "execution_count": 60,
   "metadata": {
    "ExecuteTime": {
     "end_time": "2019-11-04T16:53:12.036582Z",
     "start_time": "2019-11-04T16:53:12.032209Z"
    }
   },
   "outputs": [
    {
     "data": {
      "text/plain": [
       "0.6111368909512761"
      ]
     },
     "execution_count": 60,
     "metadata": {},
     "output_type": "execute_result"
    }
   ],
   "source": [
    "1317 / len(od_df.Discount)"
   ]
  },
  {
   "cell_type": "markdown",
   "metadata": {},
   "source": [
    "In the OrderDetail table, we should take note of the following:\n",
    "- the Order ID does repeat, likely because each OrderID can have multiple ProductID's, represented across multiple rows\n",
    "    - Therefore, quantity is attributable to the quantity of the product within that order.\n",
    "- Discount appears to be a percentage discount ranging from 0% to 25%\n",
    "    - roughly 61% of the data in this table has no discount at all\n",
    "- for Quantity Ordered - the min is 1 and the max is 130"
   ]
  },
  {
   "cell_type": "markdown",
   "metadata": {},
   "source": [
    "### Discount Data Visualizations"
   ]
  },
  {
   "cell_type": "markdown",
   "metadata": {},
   "source": [
    "Let's explore a few quick visualizations of quantity ordered followed by quantity ordered split across discounted and non-discounted products"
   ]
  },
  {
   "cell_type": "code",
   "execution_count": 61,
   "metadata": {
    "ExecuteTime": {
     "end_time": "2019-11-04T16:53:18.890700Z",
     "start_time": "2019-11-04T16:53:18.597653Z"
    }
   },
   "outputs": [
    {
     "data": {
      "image/png": "[encoded data removed]",
      "text/plain": [
       "<Figure size 864x576 with 1 Axes>"
      ]
     },
     "metadata": {},
     "output_type": "display_data"
    }
   ],
   "source": [
    "plt.figure(figsize=(12,8))\n",
    "sns.distplot(od_df['Quantity'])\n",
    "plt.title('Distribution of Quantity Ordered')\n",
    "plt.xlabel('Quantity of Product Ordered per single Order')\n",
    "plt.show()"
   ]
  },
  {
   "cell_type": "markdown",
   "metadata": {},
   "source": [
    "We can see that Quantity is right-skewed and non-normal. "
   ]
  },
  {
   "cell_type": "code",
   "execution_count": 73,
   "metadata": {
    "ExecuteTime": {
     "end_time": "2019-11-04T17:18:48.599683Z",
     "start_time": "2019-11-04T17:18:48.543613Z"
    }
   },
   "outputs": [
    {
     "data": {
      "text/html": [
       "<div>\n",
       "<style scoped>\n",
       "    .dataframe tbody tr th:only-of-type {\n",
       "        vertical-align: middle;\n",
       "    }\n",
       "\n",
       "    .dataframe tbody tr th {\n",
       "        vertical-align: top;\n",
       "    }\n",
       "\n",
       "    .dataframe thead th {\n",
       "        text-align: right;\n",
       "    }\n",
       "</style>\n",
       "<table border=\"1\" class=\"dataframe\">\n",
       "  <thead>\n",
       "    <tr style=\"text-align: right;\">\n",
       "      <th></th>\n",
       "      <th>OrderId</th>\n",
       "      <th>ProductId</th>\n",
       "      <th>Quantity</th>\n",
       "      <th>UnitPrice</th>\n",
       "      <th>Discount</th>\n",
       "    </tr>\n",
       "  </thead>\n",
       "  <tbody>\n",
       "    <tr>\n",
       "      <td>count</td>\n",
       "      <td>1317.000000</td>\n",
       "      <td>1317.000000</td>\n",
       "      <td>1317.000000</td>\n",
       "      <td>1317.000000</td>\n",
       "      <td>1317.0</td>\n",
       "    </tr>\n",
       "    <tr>\n",
       "      <td>mean</td>\n",
       "      <td>10662.791951</td>\n",
       "      <td>41.396355</td>\n",
       "      <td>21.715262</td>\n",
       "      <td>26.171534</td>\n",
       "      <td>0.0</td>\n",
       "    </tr>\n",
       "    <tr>\n",
       "      <td>std</td>\n",
       "      <td>244.835366</td>\n",
       "      <td>22.217410</td>\n",
       "      <td>17.507493</td>\n",
       "      <td>29.717354</td>\n",
       "      <td>0.0</td>\n",
       "    </tr>\n",
       "    <tr>\n",
       "      <td>min</td>\n",
       "      <td>10248.000000</td>\n",
       "      <td>1.000000</td>\n",
       "      <td>1.000000</td>\n",
       "      <td>2.000000</td>\n",
       "      <td>0.0</td>\n",
       "    </tr>\n",
       "    <tr>\n",
       "      <td>25%</td>\n",
       "      <td>10448.000000</td>\n",
       "      <td>23.000000</td>\n",
       "      <td>10.000000</td>\n",
       "      <td>12.000000</td>\n",
       "      <td>0.0</td>\n",
       "    </tr>\n",
       "    <tr>\n",
       "      <td>50%</td>\n",
       "      <td>10671.000000</td>\n",
       "      <td>41.000000</td>\n",
       "      <td>18.000000</td>\n",
       "      <td>18.400000</td>\n",
       "      <td>0.0</td>\n",
       "    </tr>\n",
       "    <tr>\n",
       "      <td>75%</td>\n",
       "      <td>10879.000000</td>\n",
       "      <td>60.000000</td>\n",
       "      <td>30.000000</td>\n",
       "      <td>32.800000</td>\n",
       "      <td>0.0</td>\n",
       "    </tr>\n",
       "    <tr>\n",
       "      <td>max</td>\n",
       "      <td>11077.000000</td>\n",
       "      <td>77.000000</td>\n",
       "      <td>130.000000</td>\n",
       "      <td>263.500000</td>\n",
       "      <td>0.0</td>\n",
       "    </tr>\n",
       "  </tbody>\n",
       "</table>\n",
       "</div>"
      ],
      "text/plain": [
       "            OrderId    ProductId     Quantity    UnitPrice  Discount\n",
       "count   1317.000000  1317.000000  1317.000000  1317.000000    1317.0\n",
       "mean   10662.791951    41.396355    21.715262    26.171534       0.0\n",
       "std      244.835366    22.217410    17.507493    29.717354       0.0\n",
       "min    10248.000000     1.000000     1.000000     2.000000       0.0\n",
       "25%    10448.000000    23.000000    10.000000    12.000000       0.0\n",
       "50%    10671.000000    41.000000    18.000000    18.400000       0.0\n",
       "75%    10879.000000    60.000000    30.000000    32.800000       0.0\n",
       "max    11077.000000    77.000000   130.000000   263.500000       0.0"
      ]
     },
     "execution_count": 73,
     "metadata": {},
     "output_type": "execute_result"
    }
   ],
   "source": [
    "# we're splitting the OrderDetail data in two, by non-discounted and discounted orders\n",
    "od_NOdiscount = od_df.loc[od_df['Discount'] == 0].copy()\n",
    "od_NOdiscount.describe()"
   ]
  },
  {
   "cell_type": "code",
   "execution_count": 74,
   "metadata": {
    "ExecuteTime": {
     "end_time": "2019-11-04T17:18:49.466748Z",
     "start_time": "2019-11-04T17:18:49.435318Z"
    },
    "scrolled": true
   },
   "outputs": [
    {
     "data": {
      "text/html": [
       "<div>\n",
       "<style scoped>\n",
       "    .dataframe tbody tr th:only-of-type {\n",
       "        vertical-align: middle;\n",
       "    }\n",
       "\n",
       "    .dataframe tbody tr th {\n",
       "        vertical-align: top;\n",
       "    }\n",
       "\n",
       "    .dataframe thead th {\n",
       "        text-align: right;\n",
       "    }\n",
       "</style>\n",
       "<table border=\"1\" class=\"dataframe\">\n",
       "  <thead>\n",
       "    <tr style=\"text-align: right;\">\n",
       "      <th></th>\n",
       "      <th>OrderId</th>\n",
       "      <th>ProductId</th>\n",
       "      <th>Quantity</th>\n",
       "      <th>UnitPrice</th>\n",
       "      <th>Discount</th>\n",
       "    </tr>\n",
       "  </thead>\n",
       "  <tbody>\n",
       "    <tr>\n",
       "      <td>count</td>\n",
       "      <td>838.000000</td>\n",
       "      <td>838.000000</td>\n",
       "      <td>838.000000</td>\n",
       "      <td>838.000000</td>\n",
       "      <td>838.000000</td>\n",
       "    </tr>\n",
       "    <tr>\n",
       "      <td>mean</td>\n",
       "      <td>10654.007160</td>\n",
       "      <td>39.844869</td>\n",
       "      <td>27.109785</td>\n",
       "      <td>26.292363</td>\n",
       "      <td>0.144439</td>\n",
       "    </tr>\n",
       "    <tr>\n",
       "      <td>std</td>\n",
       "      <td>235.887125</td>\n",
       "      <td>22.046812</td>\n",
       "      <td>20.771439</td>\n",
       "      <td>30.017214</td>\n",
       "      <td>0.071808</td>\n",
       "    </tr>\n",
       "    <tr>\n",
       "      <td>min</td>\n",
       "      <td>10250.000000</td>\n",
       "      <td>1.000000</td>\n",
       "      <td>1.000000</td>\n",
       "      <td>2.000000</td>\n",
       "      <td>0.010000</td>\n",
       "    </tr>\n",
       "    <tr>\n",
       "      <td>25%</td>\n",
       "      <td>10452.250000</td>\n",
       "      <td>21.000000</td>\n",
       "      <td>12.000000</td>\n",
       "      <td>12.500000</td>\n",
       "      <td>0.100000</td>\n",
       "    </tr>\n",
       "    <tr>\n",
       "      <td>50%</td>\n",
       "      <td>10645.000000</td>\n",
       "      <td>40.000000</td>\n",
       "      <td>20.000000</td>\n",
       "      <td>18.000000</td>\n",
       "      <td>0.150000</td>\n",
       "    </tr>\n",
       "    <tr>\n",
       "      <td>75%</td>\n",
       "      <td>10847.000000</td>\n",
       "      <td>59.000000</td>\n",
       "      <td>36.000000</td>\n",
       "      <td>31.230000</td>\n",
       "      <td>0.200000</td>\n",
       "    </tr>\n",
       "    <tr>\n",
       "      <td>max</td>\n",
       "      <td>11077.000000</td>\n",
       "      <td>77.000000</td>\n",
       "      <td>130.000000</td>\n",
       "      <td>263.500000</td>\n",
       "      <td>0.250000</td>\n",
       "    </tr>\n",
       "  </tbody>\n",
       "</table>\n",
       "</div>"
      ],
      "text/plain": [
       "            OrderId   ProductId    Quantity   UnitPrice    Discount\n",
       "count    838.000000  838.000000  838.000000  838.000000  838.000000\n",
       "mean   10654.007160   39.844869   27.109785   26.292363    0.144439\n",
       "std      235.887125   22.046812   20.771439   30.017214    0.071808\n",
       "min    10250.000000    1.000000    1.000000    2.000000    0.010000\n",
       "25%    10452.250000   21.000000   12.000000   12.500000    0.100000\n",
       "50%    10645.000000   40.000000   20.000000   18.000000    0.150000\n",
       "75%    10847.000000   59.000000   36.000000   31.230000    0.200000\n",
       "max    11077.000000   77.000000  130.000000  263.500000    0.250000"
      ]
     },
     "execution_count": 74,
     "metadata": {},
     "output_type": "execute_result"
    }
   ],
   "source": [
    "od_discount = od_df.loc[od_df['Discount'] > 0].copy()\n",
    "od_discount.describe()"
   ]
  },
  {
   "cell_type": "markdown",
   "metadata": {},
   "source": [
    "Now let's look at how quantity ordered compares between discounted and non-discounted products."
   ]
  },
  {
   "cell_type": "code",
   "execution_count": 46,
   "metadata": {
    "ExecuteTime": {
     "end_time": "2019-11-04T16:45:58.319342Z",
     "start_time": "2019-11-04T16:45:57.995575Z"
    }
   },
   "outputs": [
    {
     "data": {
      "image/png": "[encoded data removed]",
      "text/plain": [
       "<Figure size 864x576 with 1 Axes>"
      ]
     },
     "metadata": {},
     "output_type": "display_data"
    }
   ],
   "source": [
    "plt.figure(figsize=(12,8))\n",
    "od_discount.Quantity.plot.kde(label=\"Discounted\")\n",
    "od_NOdiscount.Quantity.plot.kde(label=\"Non-Discount\")\n",
    "plt.title(\"PDFs for Discounted vs. Non-Discounted Product Quantities Ordered\")\n",
    "plt.xlabel('Quantity of unique product per order')\n",
    "plt.legend()\n",
    "plt.axvline(od_discount.Quantity.mean(), color='blue', linestyle='dashed', linewidth=1)\n",
    "plt.axvline(od_NOdiscount.Quantity.mean(), color=\"orange\", linestyle=\"dashed\", linewidth=1)\n",
    "plt.show()"
   ]
  },
  {
   "cell_type": "markdown",
   "metadata": {},
   "source": [
    "In the above, we can see that quantities ordered for discounted versus non-discounted products shows a slightly higher average for discounted products. Both distributions are skewed right."
   ]
  },
  {
   "cell_type": "markdown",
   "metadata": {},
   "source": [
    "### The Products"
   ]
  },
  {
   "cell_type": "code",
   "execution_count": 72,
   "metadata": {
    "ExecuteTime": {
     "end_time": "2019-11-04T17:06:14.300539Z",
     "start_time": "2019-11-04T17:06:14.255778Z"
    }
   },
   "outputs": [
    {
     "name": "stdout",
     "output_type": "stream",
     "text": [
      "Total number of unique products: 77\n",
      "Number of unique products in Discounted Data: 77\n",
      "Number of unique products in Non-Discounted Data: 77\n"
     ]
    }
   ],
   "source": [
    "#look at unique products overall and how these vary across the discounted vs. non-discounted data\n",
    "print(\"Total number of unique products: {}\".format(od_df.ProductId.nunique()))\n",
    "print(\"Number of unique products in Discounted Data: {}\".format(od_discount.ProductId.nunique()))\n",
    "print(\"Number of unique products in Non-Discounted Data: {}\".format(od_NOdiscount.ProductId.nunique()))"
   ]
  },
  {
   "cell_type": "markdown",
   "metadata": {},
   "source": [
    "Great! It appears that all products have at one point received discounts and at other points received no discounts. "
   ]
  },
  {
   "cell_type": "markdown",
   "metadata": {},
   "source": [
    "# Hypothesis Testing:"
   ]
  },
  {
   "cell_type": "markdown",
   "metadata": {},
   "source": [
    "**p-value**: \n",
    "\n",
    "    The probability of observing a test statistic at least as large as the one observed, by random chance, assuming that the null hypothesis is true. If you calculate a p-value and it comes out to 0.03, you can interpret this as saying \"There is a 3% chance of obtaining the results I'm seeing when the null hypothesis is true.\"\n",
    "\n",
    "\n",
    "**alpha level**:  $\\alpha$\n",
    "    \n",
    "    The alpha level is the marginal threshold at which you're okay with rejecting the null hypothesis. If you set an alpha value of 𝛼=0.05, you're essentially saying \"I'm okay with accepting my alternative hypothesis as true if there is less than a 5% chance that the results that I'm seeing are actually due to randomness.\"\n"
   ]
  },
  {
   "cell_type": "markdown",
   "metadata": {},
   "source": [
    "## Tests and Functions"
   ]
  },
  {
   "cell_type": "markdown",
   "metadata": {},
   "source": [
    "**Student's T-Test**: 𝑡-tests are a useful method for determining whether the mean of two small samples indicate different underlying population parameters. The reasoning behind this begins with the use of Z-tests to calculate the likelihood of sampling a particular value from a normal distribution. Furthermore, by the central limit theorem, the mean of a sample is a normally distributed variable centered around the actual underlying population mean. That said, 𝑡-tests are more appropriate for small samples (n_observations < 30), due to disproportionate tails. Finally, recall that the t-distribution actually converges to a normal distribution as the degrees of freedom continues to increase."
   ]
  },
  {
   "cell_type": "markdown",
   "metadata": {},
   "source": [
    "**Welch's T-Test**: Traditional t-tests assume that sample sizes and sample variances between the two groups are equal. When these assumptions are not met, Welch's T-test is generally a more reliable test.\n",
    "\n",
    "*Functions for welch's ttest, ddof, and p-value are provided in welch txt file.* "
   ]
  },
  {
   "cell_type": "markdown",
   "metadata": {},
   "source": [
    "**Cohen's d** - this is a measure that expresses the size of an effect in terms of the number of standard deviations, similar to a 𝑧-score in statistics.\n",
    "\n",
    " - d=0.2 be considered a 'small' effect size\n",
    " - d=0.5 represents a 'medium' effect size\n",
    " - d=0.8 a 'large' effect size."
   ]
  },
  {
   "cell_type": "code",
   "execution_count": 124,
   "metadata": {
    "ExecuteTime": {
     "end_time": "2019-11-05T10:40:25.646043Z",
     "start_time": "2019-11-05T10:40:25.641625Z"
    }
   },
   "outputs": [],
   "source": [
    "# to calculate effect size\n",
    "def Cohen_d(a, b):\n",
    "    diff_mu_a_b = a.mean() - b.mean()\n",
    "    n_a, n_b = len(a), len(b)\n",
    "    var_a = a.var()\n",
    "    var_b = b.var()\n",
    "    \n",
    "    pooled_var = (n_a*var_a + n_b*var_b) / (n_a + n_b)\n",
    "    \n",
    "    d = diff_mu_a_b / np.sqrt(pooled_var)\n",
    "    return abs(d)"
   ]
  },
  {
   "cell_type": "code",
   "execution_count": 129,
   "metadata": {
    "ExecuteTime": {
     "end_time": "2019-11-05T11:59:39.720912Z",
     "start_time": "2019-11-05T11:59:39.715397Z"
    }
   },
   "outputs": [],
   "source": [
    "#visualization function for when there are two samples to compare\n",
    "def visualization(control, experimental):\n",
    "    plt.figure(figsize=(12,8))\n",
    "    sns.distplot(experimental, bins=50, label=\"Experimental\")\n",
    "    sns.distplot(control, bins=50, label=\"Control\")\n",
    "    # add lines for sample means - adjust if different parameter is being tested\n",
    "    plt.axvline(x=control.mean(), color='k', linestyle='--')\n",
    "    plt.axvline(x=experimental.mean(), color='k', linestyle='--')\n",
    "    \n",
    "    plt.title(\"Control vs. Experimental Sample Distributions\", fontsize=14)\n",
    "    plt.xlabel('Distributions')\n",
    "    plt.ylabel('Frequency')\n",
    "    plt.legend()\n",
    "    plt.show()"
   ]
  },
  {
   "cell_type": "markdown",
   "metadata": {},
   "source": [
    "## Q1a: Does discount amount have a statistically significant effect on the quantity of a product in an order? (Q1b) If so, at what level(s) of discount?"
   ]
  },
  {
   "cell_type": "markdown",
   "metadata": {},
   "source": [
    "### Formulated Hypotheses & Parameters:\n",
    "- $H_0: \\mu_a = \\mu_b$ *There is no difference in quantity ordered of a product per order between discounted and non-discounted products.*\n",
    "\n",
    "- $H_1: \\mu_a > \\mu_b$ *Quantity ordered of a product per order for discounted products is higher than quantity ordered of a product per order without discounts.*\n",
    "\n",
    "- $\\alpha$: 0.05\n",
    "\n",
    "- I will use a **One-Tail Test** because I want to know if a parameter from the treatment group (discounted) is higher than the corresponding parameter from the control group (non-discounted).\n",
    "\n",
    "- I will use the Welch's T-Test because the normality assumption between our two subsets of data is not met."
   ]
  },
  {
   "cell_type": "markdown",
   "metadata": {},
   "source": [
    "### Welch's T-Test"
   ]
  },
  {
   "cell_type": "code",
   "execution_count": 115,
   "metadata": {
    "ExecuteTime": {
     "end_time": "2019-11-05T09:42:32.891128Z",
     "start_time": "2019-11-05T09:42:32.886438Z"
    }
   },
   "outputs": [],
   "source": [
    "#welch's ttest stat\n",
    "q1a_welch_t = welch_t(od_discount.Quantity, od_NOdiscount.Quantity)"
   ]
  },
  {
   "cell_type": "code",
   "execution_count": 116,
   "metadata": {
    "ExecuteTime": {
     "end_time": "2019-11-05T09:42:40.505819Z",
     "start_time": "2019-11-05T09:42:40.500600Z"
    }
   },
   "outputs": [],
   "source": [
    "#calculate the ddof for welch's ttest\n",
    "q1a_ddof = welch.welch_df(od_discount.Quantity, od_NOdiscount.Quantity)"
   ]
  },
  {
   "cell_type": "code",
   "execution_count": 120,
   "metadata": {
    "ExecuteTime": {
     "end_time": "2019-11-05T09:47:46.321178Z",
     "start_time": "2019-11-05T09:47:46.316691Z"
    }
   },
   "outputs": [],
   "source": [
    "# set two_sided parameter to false\n",
    "q1a_pval = welch.p_value_welch_ttest(od_discount.Quantity, od_NOdiscount.Quantity, two_sided=False)"
   ]
  },
  {
   "cell_type": "code",
   "execution_count": 121,
   "metadata": {
    "ExecuteTime": {
     "end_time": "2019-11-05T09:47:47.541279Z",
     "start_time": "2019-11-05T09:47:47.538078Z"
    }
   },
   "outputs": [
    {
     "name": "stdout",
     "output_type": "stream",
     "text": [
      "2.8282065578366655e-10\n"
     ]
    }
   ],
   "source": [
    "print(q1a_pval)"
   ]
  },
  {
   "cell_type": "markdown",
   "metadata": {},
   "source": [
    "Our p-value is well below the alpha level set, meaning we can reject the Null Hypothesis and state that there is a statistically significant difference between quantity ordered for discounted products versus quantity ordered when there is no discount provided. Now let's take a look at effect size to understand this difference in greater detail."
   ]
  },
  {
   "cell_type": "markdown",
   "metadata": {},
   "source": [
    "### Effect Size"
   ]
  },
  {
   "cell_type": "markdown",
   "metadata": {},
   "source": [
    "We will calculate Cohen's D to assess whether the difference in the sample parameters is considered a small, medium, or large effect"
   ]
  },
  {
   "cell_type": "code",
   "execution_count": 125,
   "metadata": {
    "ExecuteTime": {
     "end_time": "2019-11-05T10:40:36.693809Z",
     "start_time": "2019-11-05T10:40:36.688761Z"
    }
   },
   "outputs": [
    {
     "name": "stdout",
     "output_type": "stream",
     "text": [
      "Cohen's d: 0.2862724481729282\n"
     ]
    }
   ],
   "source": [
    "print(\"Cohen's d: {}\".format (Cohen_d(od_discount.Quantity, od_NOdiscount.Quantity)))"
   ]
  },
  {
   "cell_type": "markdown",
   "metadata": {},
   "source": [
    "### Interpretation of Results"
   ]
  },
  {
   "cell_type": "code",
   "execution_count": 130,
   "metadata": {
    "ExecuteTime": {
     "end_time": "2019-11-05T11:59:44.097230Z",
     "start_time": "2019-11-05T11:59:43.605612Z"
    }
   },
   "outputs": [
    {
     "data": {
      "image/png": "[encoded data removed]",
      "text/plain": [
       "<Figure size 864x576 with 1 Axes>"
      ]
     },
     "metadata": {},
     "output_type": "display_data"
    }
   ],
   "source": [
    "visualization(od_NOdiscount.Quantity, od_discount.Quantity)"
   ]
  },
  {
   "cell_type": "code",
   "execution_count": 119,
   "metadata": {
    "ExecuteTime": {
     "end_time": "2019-11-05T09:45:04.927827Z",
     "start_time": "2019-11-05T09:45:04.922687Z"
    }
   },
   "outputs": [
    {
     "name": "stdout",
     "output_type": "stream",
     "text": [
      "Hypothesis Testin Results for Q1a\n",
      "Welch's t-stat: 6.239069142123973 \tP-Value: 5.656413115673331e-10\n",
      "Cohen's d (effect size): 0.2862724481729282\n"
     ]
    }
   ],
   "source": [
    "print(\"Hypothesis Testing Results for Q1a\")\n",
    "print(\"Welch's t-stat: {} \\tP-Value: {}\".format(q1a_welch_t, q1a_pval))\n",
    "print(\"Cohen's d (effect size): {}\".format(Cohen_d(od_discount.Quantity, od_NOdiscount.Quantity)))"
   ]
  },
  {
   "cell_type": "code",
   "execution_count": 131,
   "metadata": {
    "ExecuteTime": {
     "end_time": "2019-11-05T12:02:01.212511Z",
     "start_time": "2019-11-05T12:02:01.205671Z"
    }
   },
   "outputs": [
    {
     "name": "stdout",
     "output_type": "stream",
     "text": [
      "Avg quantity ordered with discount: 27.10978520286396 \n",
      "Avg quantity ordered withOUT discount: 21.715261958997722\n"
     ]
    }
   ],
   "source": [
    "mean_discounted, mean_nondiscounted = od_discount.Quantity.mean(), od_NOdiscount.Quantity.mean()\n",
    "print(\"Avg quantity ordered with discount: {} \\nAvg quantity ordered withOUT discount: {}\".format(mean_discounted, mean_nondiscounted))"
   ]
  },
  {
   "cell_type": "markdown",
   "metadata": {},
   "source": [
    "Given the low p-value produced from the Welch's T-Test, we are able to Reject the Null Hypothesis in favor of the Alternate Hypothesis, meaning that the average quantity ordered when a discount is available is higher than occasions where no discount is provided. Specifically, the average quantity ordered of a product is 27 under a discount, compared to ~22 on average for no discounts; this difference is statistically significant. That being said, our effect size (reflected in the standardized score provided by the Cohen's d measure) shows that the effect size is considered small at 0.286."
   ]
  },
  {
   "cell_type": "markdown",
   "metadata": {},
   "source": [
    "### Q1b: If so, at what level(s) of discount?"
   ]
  },
  {
   "cell_type": "markdown",
   "metadata": {},
   "source": [
    "In order to determine at which level(s) of discount we can see a statistically significant difference in quantity ordered, we need to perform a one-way ANOVA test using discount levels as a categorical variable. "
   ]
  },
  {
   "cell_type": "code",
   "execution_count": 133,
   "metadata": {
    "ExecuteTime": {
     "end_time": "2019-11-05T12:25:58.703699Z",
     "start_time": "2019-11-05T12:25:58.660180Z"
    }
   },
   "outputs": [
    {
     "data": {
      "text/html": [
       "<div>\n",
       "<style scoped>\n",
       "    .dataframe tbody tr th:only-of-type {\n",
       "        vertical-align: middle;\n",
       "    }\n",
       "\n",
       "    .dataframe tbody tr th {\n",
       "        vertical-align: top;\n",
       "    }\n",
       "\n",
       "    .dataframe thead th {\n",
       "        text-align: right;\n",
       "    }\n",
       "</style>\n",
       "<table border=\"1\" class=\"dataframe\">\n",
       "  <thead>\n",
       "    <tr style=\"text-align: right;\">\n",
       "      <th></th>\n",
       "      <th>count</th>\n",
       "      <th>mean</th>\n",
       "      <th>std</th>\n",
       "      <th>min</th>\n",
       "      <th>25%</th>\n",
       "      <th>50%</th>\n",
       "      <th>75%</th>\n",
       "      <th>max</th>\n",
       "    </tr>\n",
       "    <tr>\n",
       "      <th>Discount</th>\n",
       "      <th></th>\n",
       "      <th></th>\n",
       "      <th></th>\n",
       "      <th></th>\n",
       "      <th></th>\n",
       "      <th></th>\n",
       "      <th></th>\n",
       "      <th></th>\n",
       "    </tr>\n",
       "  </thead>\n",
       "  <tbody>\n",
       "    <tr>\n",
       "      <td>0.01</td>\n",
       "      <td>1.0</td>\n",
       "      <td>2.000000</td>\n",
       "      <td>NaN</td>\n",
       "      <td>2.0</td>\n",
       "      <td>2.0</td>\n",
       "      <td>2.0</td>\n",
       "      <td>2.0</td>\n",
       "      <td>2.0</td>\n",
       "    </tr>\n",
       "    <tr>\n",
       "      <td>0.02</td>\n",
       "      <td>2.0</td>\n",
       "      <td>2.000000</td>\n",
       "      <td>1.414214</td>\n",
       "      <td>1.0</td>\n",
       "      <td>1.5</td>\n",
       "      <td>2.0</td>\n",
       "      <td>2.5</td>\n",
       "      <td>3.0</td>\n",
       "    </tr>\n",
       "    <tr>\n",
       "      <td>0.03</td>\n",
       "      <td>3.0</td>\n",
       "      <td>1.666667</td>\n",
       "      <td>0.577350</td>\n",
       "      <td>1.0</td>\n",
       "      <td>1.5</td>\n",
       "      <td>2.0</td>\n",
       "      <td>2.0</td>\n",
       "      <td>2.0</td>\n",
       "    </tr>\n",
       "    <tr>\n",
       "      <td>0.04</td>\n",
       "      <td>1.0</td>\n",
       "      <td>1.000000</td>\n",
       "      <td>NaN</td>\n",
       "      <td>1.0</td>\n",
       "      <td>1.0</td>\n",
       "      <td>1.0</td>\n",
       "      <td>1.0</td>\n",
       "      <td>1.0</td>\n",
       "    </tr>\n",
       "    <tr>\n",
       "      <td>0.05</td>\n",
       "      <td>185.0</td>\n",
       "      <td>28.010811</td>\n",
       "      <td>22.187685</td>\n",
       "      <td>1.0</td>\n",
       "      <td>14.0</td>\n",
       "      <td>20.0</td>\n",
       "      <td>40.0</td>\n",
       "      <td>120.0</td>\n",
       "    </tr>\n",
       "    <tr>\n",
       "      <td>0.06</td>\n",
       "      <td>1.0</td>\n",
       "      <td>2.000000</td>\n",
       "      <td>NaN</td>\n",
       "      <td>2.0</td>\n",
       "      <td>2.0</td>\n",
       "      <td>2.0</td>\n",
       "      <td>2.0</td>\n",
       "      <td>2.0</td>\n",
       "    </tr>\n",
       "    <tr>\n",
       "      <td>0.10</td>\n",
       "      <td>173.0</td>\n",
       "      <td>25.236994</td>\n",
       "      <td>21.186503</td>\n",
       "      <td>2.0</td>\n",
       "      <td>10.0</td>\n",
       "      <td>20.0</td>\n",
       "      <td>30.0</td>\n",
       "      <td>130.0</td>\n",
       "    </tr>\n",
       "    <tr>\n",
       "      <td>0.15</td>\n",
       "      <td>157.0</td>\n",
       "      <td>28.382166</td>\n",
       "      <td>20.923099</td>\n",
       "      <td>2.0</td>\n",
       "      <td>15.0</td>\n",
       "      <td>21.0</td>\n",
       "      <td>40.0</td>\n",
       "      <td>100.0</td>\n",
       "    </tr>\n",
       "    <tr>\n",
       "      <td>0.20</td>\n",
       "      <td>161.0</td>\n",
       "      <td>27.024845</td>\n",
       "      <td>18.832801</td>\n",
       "      <td>2.0</td>\n",
       "      <td>12.0</td>\n",
       "      <td>21.0</td>\n",
       "      <td>40.0</td>\n",
       "      <td>100.0</td>\n",
       "    </tr>\n",
       "    <tr>\n",
       "      <td>0.25</td>\n",
       "      <td>154.0</td>\n",
       "      <td>28.240260</td>\n",
       "      <td>20.120570</td>\n",
       "      <td>2.0</td>\n",
       "      <td>15.0</td>\n",
       "      <td>25.0</td>\n",
       "      <td>36.0</td>\n",
       "      <td>120.0</td>\n",
       "    </tr>\n",
       "  </tbody>\n",
       "</table>\n",
       "</div>"
      ],
      "text/plain": [
       "          count       mean        std  min   25%   50%   75%    max\n",
       "Discount                                                           \n",
       "0.01        1.0   2.000000        NaN  2.0   2.0   2.0   2.0    2.0\n",
       "0.02        2.0   2.000000   1.414214  1.0   1.5   2.0   2.5    3.0\n",
       "0.03        3.0   1.666667   0.577350  1.0   1.5   2.0   2.0    2.0\n",
       "0.04        1.0   1.000000        NaN  1.0   1.0   1.0   1.0    1.0\n",
       "0.05      185.0  28.010811  22.187685  1.0  14.0  20.0  40.0  120.0\n",
       "0.06        1.0   2.000000        NaN  2.0   2.0   2.0   2.0    2.0\n",
       "0.10      173.0  25.236994  21.186503  2.0  10.0  20.0  30.0  130.0\n",
       "0.15      157.0  28.382166  20.923099  2.0  15.0  21.0  40.0  100.0\n",
       "0.20      161.0  27.024845  18.832801  2.0  12.0  21.0  40.0  100.0\n",
       "0.25      154.0  28.240260  20.120570  2.0  15.0  25.0  36.0  120.0"
      ]
     },
     "execution_count": 133,
     "metadata": {},
     "output_type": "execute_result"
    }
   ],
   "source": [
    "# showing descriptive stats for Quantity ordered at each discount level provided\n",
    "od_discount['Quantity'].groupby(od_df['Discount']).describe()"
   ]
  },
  {
   "cell_type": "markdown",
   "metadata": {},
   "source": [
    "ANOVA has the following assumptions:\n",
    "\n",
    "- The response variable (discount level) should have a normal distribution - *this is not the case*\n",
    "- The population variances are equal\n",
    "- The response variables are independent\n",
    "\n",
    "While the first two assumptions are not met, given the large enough sample size we can consider our sampling distribution to be robust, and we will proceed with ANOVA."
   ]
  },
  {
   "cell_type": "markdown",
   "metadata": {},
   "source": [
    "We can see that at the 1%, 4% and 6% discount levels, we only have a quantity of 1, and at 2% and 3% we have a quantity of 2 for each.  We may consider binning these into the 5% discount level that way we have sufficient sample in each discount level."
   ]
  },
  {
   "cell_type": "code",
   "execution_count": 136,
   "metadata": {
    "ExecuteTime": {
     "end_time": "2019-11-05T12:34:10.977059Z",
     "start_time": "2019-11-05T12:34:10.968225Z"
    }
   },
   "outputs": [
    {
     "data": {
      "text/plain": [
       "0.05    193\n",
       "0.10    173\n",
       "0.20    161\n",
       "0.15    157\n",
       "0.25    154\n",
       "Name: Discount, dtype: int64"
      ]
     },
     "execution_count": 136,
     "metadata": {},
     "output_type": "execute_result"
    }
   ],
   "source": [
    "# convert 1-6% discount levels into the 5% discount level\n",
    "q1b_data = od_discount.copy()\n",
    "q1b_data['Discount'] = q1b_data['Discount'].apply(lambda x: 0.05 if (x > 0) & (x < 0.10) else x)\n",
    "q1b_data['Discount'].value_counts()"
   ]
  },
  {
   "cell_type": "code",
   "execution_count": 138,
   "metadata": {
    "ExecuteTime": {
     "end_time": "2019-11-05T12:38:24.973328Z",
     "start_time": "2019-11-05T12:38:24.888928Z"
    }
   },
   "outputs": [],
   "source": [
    "# wrap 'Discount' with 'C()' to indicate this is a categorical variable\n",
    "q1b_results = ols('Quantity ~ C(Discount)', data=q1b_data).fit()"
   ]
  },
  {
   "cell_type": "code",
   "execution_count": 139,
   "metadata": {
    "ExecuteTime": {
     "end_time": "2019-11-05T12:39:14.151982Z",
     "start_time": "2019-11-05T12:39:14.131712Z"
    }
   },
   "outputs": [
    {
     "name": "stdout",
     "output_type": "stream",
     "text": [
      "                    sum_sq     df         F    PR(>F)\n",
      "C(Discount)    1065.701253    4.0  0.616376  0.650947\n",
      "Residual     360060.198508  833.0       NaN       NaN\n"
     ]
    }
   ],
   "source": [
    "q1b_anova_table = sm.stats.anova_lm(q1b_results, typ=2)\n",
    "print(q1b_anova_table)"
   ]
  },
  {
   "cell_type": "markdown",
   "metadata": {},
   "source": [
    "In the right column, we can see that our p-value is quite high, meaning we fail to reject the null hypothesis, meaning that the null is true (there is no difference in quantity ordered at various levels of discounts)."
   ]
  },
  {
   "cell_type": "markdown",
   "metadata": {},
   "source": [
    "## Q2: Is there a difference in performance between US and UK employees?\n"
   ]
  },
  {
   "cell_type": "markdown",
   "metadata": {},
   "source": [
    "There are several ways that we could think about performance metrics for employees, including number of orders processed per employees from these two countries, processing time for orders, total price of orders, customer/client repeats, etc.  Let's start with looking at number of orders processed."
   ]
  },
  {
   "cell_type": "markdown",
   "metadata": {},
   "source": [
    "### Formulated Hypotheses:"
   ]
  },
  {
   "cell_type": "markdown",
   "metadata": {},
   "source": [
    "- **$H_0: \\mu_a = \\mu_b$** - *Avg number of orders processed by employees in the US and the UK are the same.*\n",
    "    \n",
    "- **$H_1: \\mu_a \\neq \\mu_b$** - *Avg number of orders processed by employees in the US and the UK are different.*\n",
    "\n",
    "- **$\\alpha$: 0.025:** - *We will set our alpha level as 0.025, thereby reducing the risk of a Type I error while slightly increasing the risk of Type II errors*\n",
    "\n",
    "- We will run a Two-Sample T-Test, and compare with ANOVA analysis as well."
   ]
  },
  {
   "cell_type": "markdown",
   "metadata": {},
   "source": [
    "### Test"
   ]
  },
  {
   "cell_type": "code",
   "execution_count": 254,
   "metadata": {
    "ExecuteTime": {
     "end_time": "2019-11-06T11:52:29.518694Z",
     "start_time": "2019-11-06T11:52:29.489317Z"
    }
   },
   "outputs": [
    {
     "data": {
      "text/plain": [
       "Index(['Id', 'LastName', 'FirstName', 'Title', 'TitleOfCourtesy', 'BirthDate',\n",
       "       'HireDate', 'Address', 'City', 'Region', 'PostalCode', 'Country',\n",
       "       'HomePhone', 'Extension', 'Photo', 'Notes', 'ReportsTo', 'PhotoPath'],\n",
       "      dtype='object')"
      ]
     },
     "execution_count": 254,
     "metadata": {},
     "output_type": "execute_result"
    }
   ],
   "source": [
    "Employee_df.columns"
   ]
  },
  {
   "cell_type": "code",
   "execution_count": 255,
   "metadata": {
    "ExecuteTime": {
     "end_time": "2019-11-06T11:52:37.980378Z",
     "start_time": "2019-11-06T11:52:37.974913Z"
    }
   },
   "outputs": [
    {
     "data": {
      "text/plain": [
       "Index(['Id', 'CustomerId', 'EmployeeId', 'OrderDate', 'RequiredDate',\n",
       "       'ShippedDate', 'ShipVia', 'Freight', 'ShipName', 'ShipAddress',\n",
       "       'ShipCity', 'ShipRegion', 'ShipPostalCode', 'ShipCountry'],\n",
       "      dtype='object')"
      ]
     },
     "execution_count": 255,
     "metadata": {},
     "output_type": "execute_result"
    }
   ],
   "source": [
    "Order_df.columns"
   ]
  },
  {
   "cell_type": "code",
   "execution_count": 289,
   "metadata": {
    "ExecuteTime": {
     "end_time": "2019-11-06T12:26:49.085409Z",
     "start_time": "2019-11-06T12:26:49.069356Z"
    },
    "scrolled": true
   },
   "outputs": [
    {
     "data": {
      "text/html": [
       "<div>\n",
       "<style scoped>\n",
       "    .dataframe tbody tr th:only-of-type {\n",
       "        vertical-align: middle;\n",
       "    }\n",
       "\n",
       "    .dataframe tbody tr th {\n",
       "        vertical-align: top;\n",
       "    }\n",
       "\n",
       "    .dataframe thead th {\n",
       "        text-align: right;\n",
       "    }\n",
       "</style>\n",
       "<table border=\"1\" class=\"dataframe\">\n",
       "  <thead>\n",
       "    <tr style=\"text-align: right;\">\n",
       "      <th></th>\n",
       "      <th>EmployeeId</th>\n",
       "      <th>LastName</th>\n",
       "      <th>FirstName</th>\n",
       "      <th>Title</th>\n",
       "      <th>HireDate</th>\n",
       "      <th>Country</th>\n",
       "      <th>TotalOrders</th>\n",
       "    </tr>\n",
       "  </thead>\n",
       "  <tbody>\n",
       "    <tr>\n",
       "      <td>0</td>\n",
       "      <td>1</td>\n",
       "      <td>Davolio</td>\n",
       "      <td>Nancy</td>\n",
       "      <td>Sales Representative</td>\n",
       "      <td>2024-05-01</td>\n",
       "      <td>USA</td>\n",
       "      <td>123</td>\n",
       "    </tr>\n",
       "    <tr>\n",
       "      <td>1</td>\n",
       "      <td>2</td>\n",
       "      <td>Fuller</td>\n",
       "      <td>Andrew</td>\n",
       "      <td>Vice President, Sales</td>\n",
       "      <td>2024-08-14</td>\n",
       "      <td>USA</td>\n",
       "      <td>96</td>\n",
       "    </tr>\n",
       "    <tr>\n",
       "      <td>2</td>\n",
       "      <td>3</td>\n",
       "      <td>Leverling</td>\n",
       "      <td>Janet</td>\n",
       "      <td>Sales Representative</td>\n",
       "      <td>2024-04-01</td>\n",
       "      <td>USA</td>\n",
       "      <td>127</td>\n",
       "    </tr>\n",
       "    <tr>\n",
       "      <td>3</td>\n",
       "      <td>4</td>\n",
       "      <td>Peacock</td>\n",
       "      <td>Margaret</td>\n",
       "      <td>Sales Representative</td>\n",
       "      <td>2025-05-03</td>\n",
       "      <td>USA</td>\n",
       "      <td>156</td>\n",
       "    </tr>\n",
       "    <tr>\n",
       "      <td>4</td>\n",
       "      <td>5</td>\n",
       "      <td>Buchanan</td>\n",
       "      <td>Steven</td>\n",
       "      <td>Sales Manager</td>\n",
       "      <td>2025-10-17</td>\n",
       "      <td>UK</td>\n",
       "      <td>42</td>\n",
       "    </tr>\n",
       "    <tr>\n",
       "      <td>5</td>\n",
       "      <td>6</td>\n",
       "      <td>Suyama</td>\n",
       "      <td>Michael</td>\n",
       "      <td>Sales Representative</td>\n",
       "      <td>2025-10-17</td>\n",
       "      <td>UK</td>\n",
       "      <td>67</td>\n",
       "    </tr>\n",
       "    <tr>\n",
       "      <td>6</td>\n",
       "      <td>7</td>\n",
       "      <td>King</td>\n",
       "      <td>Robert</td>\n",
       "      <td>Sales Representative</td>\n",
       "      <td>2026-01-02</td>\n",
       "      <td>UK</td>\n",
       "      <td>72</td>\n",
       "    </tr>\n",
       "    <tr>\n",
       "      <td>7</td>\n",
       "      <td>8</td>\n",
       "      <td>Callahan</td>\n",
       "      <td>Laura</td>\n",
       "      <td>Inside Sales Coordinator</td>\n",
       "      <td>2026-03-05</td>\n",
       "      <td>USA</td>\n",
       "      <td>104</td>\n",
       "    </tr>\n",
       "    <tr>\n",
       "      <td>8</td>\n",
       "      <td>9</td>\n",
       "      <td>Dodsworth</td>\n",
       "      <td>Anne</td>\n",
       "      <td>Sales Representative</td>\n",
       "      <td>2026-11-15</td>\n",
       "      <td>UK</td>\n",
       "      <td>43</td>\n",
       "    </tr>\n",
       "  </tbody>\n",
       "</table>\n",
       "</div>"
      ],
      "text/plain": [
       "   EmployeeId   LastName FirstName                     Title    HireDate  \\\n",
       "0           1    Davolio     Nancy      Sales Representative  2024-05-01   \n",
       "1           2     Fuller    Andrew     Vice President, Sales  2024-08-14   \n",
       "2           3  Leverling     Janet      Sales Representative  2024-04-01   \n",
       "3           4    Peacock  Margaret      Sales Representative  2025-05-03   \n",
       "4           5   Buchanan    Steven             Sales Manager  2025-10-17   \n",
       "5           6     Suyama   Michael      Sales Representative  2025-10-17   \n",
       "6           7       King    Robert      Sales Representative  2026-01-02   \n",
       "7           8   Callahan     Laura  Inside Sales Coordinator  2026-03-05   \n",
       "8           9  Dodsworth      Anne      Sales Representative  2026-11-15   \n",
       "\n",
       "  Country  TotalOrders  \n",
       "0     USA          123  \n",
       "1     USA           96  \n",
       "2     USA          127  \n",
       "3     USA          156  \n",
       "4      UK           42  \n",
       "5      UK           67  \n",
       "6      UK           72  \n",
       "7     USA          104  \n",
       "8      UK           43  "
      ]
     },
     "execution_count": 289,
     "metadata": {},
     "output_type": "execute_result"
    }
   ],
   "source": [
    "c.execute(\"\"\"SELECT o.employeeid, e.lastname, e.firstname, e.title, e.hiredate, e.country, \n",
    "                    COUNT(o.id) as TotalOrders \n",
    "                    FROM employee e JOIN [order] o \n",
    "                    ON o.employeeid = e.id GROUP BY o.employeeid;\"\"\")\n",
    "emp_orders = pd.DataFrame(c.fetchall())\n",
    "emp_orders.columns = [x[0] for x in c.description]\n",
    "emp_orders"
   ]
  },
  {
   "cell_type": "code",
   "execution_count": 448,
   "metadata": {
    "ExecuteTime": {
     "end_time": "2019-11-08T14:48:41.309774Z",
     "start_time": "2019-11-08T14:48:40.904661Z"
    }
   },
   "outputs": [
    {
     "data": {
      "text/plain": [
       "Text(0.5, 1, 'Number of Orders by Employees in US and UK')"
      ]
     },
     "execution_count": 448,
     "metadata": {},
     "output_type": "execute_result"
    },
    {
     "data": {
      "image/png": "[encoded data removed]",
      "text/plain": [
       "<Figure size 416.375x360 with 1 Axes>"
      ]
     },
     "metadata": {},
     "output_type": "display_data"
    }
   ],
   "source": [
    "sns.catplot(x='EmployeeId', y='TotalOrders', kind='bar', hue='Country', data=emp_orders)\n",
    "plt.title('Number of Orders by Employees in US and UK')"
   ]
  },
  {
   "cell_type": "markdown",
   "metadata": {},
   "source": [
    "Now that we have the data we need on total orders for each employee, let's slice this dataframe between the two employee countries.  We can see quite a range between total orders by the 9 different employees."
   ]
  },
  {
   "cell_type": "code",
   "execution_count": 290,
   "metadata": {
    "ExecuteTime": {
     "end_time": "2019-11-06T12:28:24.257024Z",
     "start_time": "2019-11-06T12:28:24.234110Z"
    }
   },
   "outputs": [],
   "source": [
    "usa_emp_orders = emp_orders.loc[emp_orders['Country'] == 'USA'].copy()\n",
    "uk_emp_orders = emp_orders.loc[emp_orders['Country'] == 'UK'].copy()"
   ]
  },
  {
   "cell_type": "code",
   "execution_count": 298,
   "metadata": {
    "ExecuteTime": {
     "end_time": "2019-11-06T12:36:50.063137Z",
     "start_time": "2019-11-06T12:36:50.058012Z"
    }
   },
   "outputs": [
    {
     "name": "stdout",
     "output_type": "stream",
     "text": [
      "Reject the null hypothesis, the avg number of orders between US and UK employees is not the same.\n"
     ]
    }
   ],
   "source": [
    "#two sample t-test\n",
    "results = stats.ttest_ind(usa_emp_orders.TotalOrders, uk_emp_orders.TotalOrders, equal_var=True)\n",
    "#p-value set at 0.025\n",
    "alpha = .025\n",
    "if (results[0] > 0) & (results[1]/2 < alpha):\n",
    "    print(\"Reject the null hypothesis, the avg number of orders between US and UK employees is not the same.\")\n",
    "else:\n",
    "    print(\"Fail to Reject the Null Hypothesis\")"
   ]
  },
  {
   "cell_type": "code",
   "execution_count": 301,
   "metadata": {
    "ExecuteTime": {
     "end_time": "2019-11-06T12:40:11.546194Z",
     "start_time": "2019-11-06T12:40:11.542836Z"
    }
   },
   "outputs": [
    {
     "name": "stdout",
     "output_type": "stream",
     "text": [
      "Two-Sample T-Test p-value: 0.002063854331616113\n"
     ]
    }
   ],
   "source": [
    "print(\"Two-Sample T-Test p-value: {}\".format(results[1]))"
   ]
  },
  {
   "cell_type": "code",
   "execution_count": 295,
   "metadata": {
    "ExecuteTime": {
     "end_time": "2019-11-06T12:33:23.058891Z",
     "start_time": "2019-11-06T12:33:22.944069Z"
    }
   },
   "outputs": [
    {
     "name": "stdout",
     "output_type": "stream",
     "text": [
      "                 sum_sq   df          F    PR(>F)\n",
      "C(Country)  9446.755556  1.0  22.640129  0.002064\n",
      "Residual    2920.800000  7.0        NaN       NaN\n"
     ]
    }
   ],
   "source": [
    "# Let's perform an ANOVA test, treating Country as a category\n",
    "formula = 'TotalOrders ~ C(Country)'\n",
    "lm = ols(formula, emp_orders).fit()\n",
    "table = sm.stats.anova_lm(lm, typ=2)\n",
    "print(table)"
   ]
  },
  {
   "cell_type": "markdown",
   "metadata": {},
   "source": [
    "### Effect Size"
   ]
  },
  {
   "cell_type": "code",
   "execution_count": 303,
   "metadata": {
    "ExecuteTime": {
     "end_time": "2019-11-06T12:44:42.218515Z",
     "start_time": "2019-11-06T12:44:42.214621Z"
    }
   },
   "outputs": [
    {
     "name": "stdout",
     "output_type": "stream",
     "text": [
      "Cohen's d (effect size): 3.210081976551365\n"
     ]
    }
   ],
   "source": [
    "print(\"Cohen's d (effect size): {}\".format(Cohen_d(usa_emp_orders.TotalOrders, uk_emp_orders.TotalOrders)))"
   ]
  },
  {
   "cell_type": "markdown",
   "metadata": {},
   "source": [
    "### Interpretation of Results"
   ]
  },
  {
   "cell_type": "code",
   "execution_count": 305,
   "metadata": {
    "ExecuteTime": {
     "end_time": "2019-11-06T12:46:48.848154Z",
     "start_time": "2019-11-06T12:46:48.842605Z"
    },
    "scrolled": true
   },
   "outputs": [
    {
     "name": "stdout",
     "output_type": "stream",
     "text": [
      "US avg orders per employee: 121.2 \t UK avg orders per employee: 56.0\n"
     ]
    }
   ],
   "source": [
    "print(\"US avg orders per employee: {} \\t UK avg orders per employee: {}\".format(usa_emp_orders.TotalOrders.mean(), uk_emp_orders.TotalOrders.mean()))"
   ]
  },
  {
   "cell_type": "markdown",
   "metadata": {},
   "source": [
    "Above, we ran both a two-sample t-test and ANOVA to understand if the difference between the performance of US versus UK employees, via total number of orders, is statistically different. Given the fact that we only have two categories (US versus UK) the ANOVA p-value and the student's t-test p-value produced are the same, as expected. With a p-value of 0.002 we can Reject the Null Hypothesis.  The effect size is also quite large, indicated by the Cohen's d-stat of 3.2.  US employees have an average order total of 121.2 orders, compared to UK employees who average 56 orders."
   ]
  },
  {
   "cell_type": "markdown",
   "metadata": {},
   "source": [
    "## Q3: Is there a difference in order processing time (from OrderDate to ShipDate) across the 3 different Shipping companies?\n"
   ]
  },
  {
   "cell_type": "markdown",
   "metadata": {},
   "source": [
    "We will test this hypothesis out with the recognition that processing time may not be fully attributable to the Shipping company, meaning it might be the employee that acts as an intermediary between the order date and notifying the Shipping company. Given this, should there be a major difference in processing time for one or multiple shipping companies, we should dig deeper to understand the processes behind placing and order and when the shipping company is notified of the order details. We may also want to run this same processing-time-analysis against the employees responsible for each order."
   ]
  },
  {
   "cell_type": "markdown",
   "metadata": {},
   "source": [
    "### Formulated Hypotheses:"
   ]
  },
  {
   "cell_type": "markdown",
   "metadata": {},
   "source": [
    "- $H_0: \\mu_a = \\mu_b = \\mu_c$ - *The average time from order date to ship date between the three different shipping companies is the same.*\n",
    "- $H_1: \\mu_a \\neq \\mu_b \\neq \\mu_c$ - *The average time from order date to ship date between the three difference shipping companies is not the same.*\n",
    "\n",
    "- $\\alpha$: 0.05/3 = 0.01667 (see below)\n",
    "\n",
    "- Given the fact that we have three different shipping companies (3 samples) we must address the Multiple Comparisons Problem. We will use the Bonferroni Correction to correct for this, in an effort to minimize Type I errors."
   ]
  },
  {
   "cell_type": "code",
   "execution_count": 317,
   "metadata": {
    "ExecuteTime": {
     "end_time": "2019-11-06T16:02:52.721970Z",
     "start_time": "2019-11-06T16:02:52.704421Z"
    }
   },
   "outputs": [
    {
     "data": {
      "text/html": [
       "<div>\n",
       "<style scoped>\n",
       "    .dataframe tbody tr th:only-of-type {\n",
       "        vertical-align: middle;\n",
       "    }\n",
       "\n",
       "    .dataframe tbody tr th {\n",
       "        vertical-align: top;\n",
       "    }\n",
       "\n",
       "    .dataframe thead th {\n",
       "        text-align: right;\n",
       "    }\n",
       "</style>\n",
       "<table border=\"1\" class=\"dataframe\">\n",
       "  <thead>\n",
       "    <tr style=\"text-align: right;\">\n",
       "      <th></th>\n",
       "      <th>Id</th>\n",
       "      <th>EmployeeId</th>\n",
       "      <th>OrderDate</th>\n",
       "      <th>RequiredDate</th>\n",
       "      <th>ShippedDate</th>\n",
       "      <th>ShipVia</th>\n",
       "      <th>CompanyName</th>\n",
       "    </tr>\n",
       "  </thead>\n",
       "  <tbody>\n",
       "    <tr>\n",
       "      <td>0</td>\n",
       "      <td>10248</td>\n",
       "      <td>5</td>\n",
       "      <td>2012-07-04</td>\n",
       "      <td>2012-08-01</td>\n",
       "      <td>2012-07-16</td>\n",
       "      <td>3</td>\n",
       "      <td>Federal Shipping</td>\n",
       "    </tr>\n",
       "    <tr>\n",
       "      <td>1</td>\n",
       "      <td>10249</td>\n",
       "      <td>6</td>\n",
       "      <td>2012-07-05</td>\n",
       "      <td>2012-08-16</td>\n",
       "      <td>2012-07-10</td>\n",
       "      <td>1</td>\n",
       "      <td>Speedy Express</td>\n",
       "    </tr>\n",
       "    <tr>\n",
       "      <td>2</td>\n",
       "      <td>10250</td>\n",
       "      <td>4</td>\n",
       "      <td>2012-07-08</td>\n",
       "      <td>2012-08-05</td>\n",
       "      <td>2012-07-12</td>\n",
       "      <td>2</td>\n",
       "      <td>United Package</td>\n",
       "    </tr>\n",
       "    <tr>\n",
       "      <td>3</td>\n",
       "      <td>10251</td>\n",
       "      <td>3</td>\n",
       "      <td>2012-07-08</td>\n",
       "      <td>2012-08-05</td>\n",
       "      <td>2012-07-15</td>\n",
       "      <td>1</td>\n",
       "      <td>Speedy Express</td>\n",
       "    </tr>\n",
       "    <tr>\n",
       "      <td>4</td>\n",
       "      <td>10252</td>\n",
       "      <td>4</td>\n",
       "      <td>2012-07-09</td>\n",
       "      <td>2012-08-06</td>\n",
       "      <td>2012-07-11</td>\n",
       "      <td>2</td>\n",
       "      <td>United Package</td>\n",
       "    </tr>\n",
       "  </tbody>\n",
       "</table>\n",
       "</div>"
      ],
      "text/plain": [
       "      Id  EmployeeId   OrderDate RequiredDate ShippedDate  ShipVia  \\\n",
       "0  10248           5  2012-07-04   2012-08-01  2012-07-16        3   \n",
       "1  10249           6  2012-07-05   2012-08-16  2012-07-10        1   \n",
       "2  10250           4  2012-07-08   2012-08-05  2012-07-12        2   \n",
       "3  10251           3  2012-07-08   2012-08-05  2012-07-15        1   \n",
       "4  10252           4  2012-07-09   2012-08-06  2012-07-11        2   \n",
       "\n",
       "        CompanyName  \n",
       "0  Federal Shipping  \n",
       "1    Speedy Express  \n",
       "2    United Package  \n",
       "3    Speedy Express  \n",
       "4    United Package  "
      ]
     },
     "execution_count": 317,
     "metadata": {},
     "output_type": "execute_result"
    }
   ],
   "source": [
    "# extract most data from Order table plus shipping company name from Shipper table\n",
    "c.execute(\"\"\"SELECT o.id, o.employeeid, o.orderdate, o.requireddate, o.shippeddate, o.shipvia, s.companyname \n",
    "                FROM [order] o JOIN shipper s ON o.shipvia = s.id;\"\"\")\n",
    "order_ship = pd.DataFrame(c.fetchall())\n",
    "order_ship.columns = [x[0] for x in c.description]\n",
    "order_ship.head()"
   ]
  },
  {
   "cell_type": "code",
   "execution_count": 318,
   "metadata": {
    "ExecuteTime": {
     "end_time": "2019-11-06T16:02:59.709400Z",
     "start_time": "2019-11-06T16:02:59.703326Z"
    },
    "scrolled": true
   },
   "outputs": [
    {
     "data": {
      "text/plain": [
       "Id               0\n",
       "EmployeeId       0\n",
       "OrderDate        0\n",
       "RequiredDate     0\n",
       "ShippedDate     21\n",
       "ShipVia          0\n",
       "CompanyName      0\n",
       "dtype: int64"
      ]
     },
     "execution_count": 318,
     "metadata": {},
     "output_type": "execute_result"
    }
   ],
   "source": [
    "#Quick check on null values, as NaN in date columns means we cannot use those orders as observations for this test\n",
    "order_ship.isnull().sum()"
   ]
  },
  {
   "cell_type": "code",
   "execution_count": 319,
   "metadata": {
    "ExecuteTime": {
     "end_time": "2019-11-06T16:03:04.770150Z",
     "start_time": "2019-11-06T16:03:04.764847Z"
    }
   },
   "outputs": [],
   "source": [
    "# drop the 21 null values as we cannot use these to compute the processing time\n",
    "order_ship.dropna(inplace=True)"
   ]
  },
  {
   "cell_type": "code",
   "execution_count": 321,
   "metadata": {
    "ExecuteTime": {
     "end_time": "2019-11-06T16:03:16.358134Z",
     "start_time": "2019-11-06T16:03:16.337260Z"
    },
    "scrolled": true
   },
   "outputs": [
    {
     "data": {
      "text/html": [
       "<div>\n",
       "<style scoped>\n",
       "    .dataframe tbody tr th:only-of-type {\n",
       "        vertical-align: middle;\n",
       "    }\n",
       "\n",
       "    .dataframe tbody tr th {\n",
       "        vertical-align: top;\n",
       "    }\n",
       "\n",
       "    .dataframe thead th {\n",
       "        text-align: right;\n",
       "    }\n",
       "</style>\n",
       "<table border=\"1\" class=\"dataframe\">\n",
       "  <thead>\n",
       "    <tr style=\"text-align: right;\">\n",
       "      <th></th>\n",
       "      <th>Id</th>\n",
       "      <th>EmployeeId</th>\n",
       "      <th>OrderDate</th>\n",
       "      <th>RequiredDate</th>\n",
       "      <th>ShippedDate</th>\n",
       "      <th>ShipVia</th>\n",
       "      <th>CompanyName</th>\n",
       "      <th>ProcessingTime</th>\n",
       "    </tr>\n",
       "  </thead>\n",
       "  <tbody>\n",
       "    <tr>\n",
       "      <td>0</td>\n",
       "      <td>10248</td>\n",
       "      <td>5</td>\n",
       "      <td>2012-07-04</td>\n",
       "      <td>2012-08-01</td>\n",
       "      <td>2012-07-16</td>\n",
       "      <td>3</td>\n",
       "      <td>Federal Shipping</td>\n",
       "      <td>12</td>\n",
       "    </tr>\n",
       "    <tr>\n",
       "      <td>1</td>\n",
       "      <td>10249</td>\n",
       "      <td>6</td>\n",
       "      <td>2012-07-05</td>\n",
       "      <td>2012-08-16</td>\n",
       "      <td>2012-07-10</td>\n",
       "      <td>1</td>\n",
       "      <td>Speedy Express</td>\n",
       "      <td>5</td>\n",
       "    </tr>\n",
       "    <tr>\n",
       "      <td>2</td>\n",
       "      <td>10250</td>\n",
       "      <td>4</td>\n",
       "      <td>2012-07-08</td>\n",
       "      <td>2012-08-05</td>\n",
       "      <td>2012-07-12</td>\n",
       "      <td>2</td>\n",
       "      <td>United Package</td>\n",
       "      <td>4</td>\n",
       "    </tr>\n",
       "    <tr>\n",
       "      <td>3</td>\n",
       "      <td>10251</td>\n",
       "      <td>3</td>\n",
       "      <td>2012-07-08</td>\n",
       "      <td>2012-08-05</td>\n",
       "      <td>2012-07-15</td>\n",
       "      <td>1</td>\n",
       "      <td>Speedy Express</td>\n",
       "      <td>7</td>\n",
       "    </tr>\n",
       "    <tr>\n",
       "      <td>4</td>\n",
       "      <td>10252</td>\n",
       "      <td>4</td>\n",
       "      <td>2012-07-09</td>\n",
       "      <td>2012-08-06</td>\n",
       "      <td>2012-07-11</td>\n",
       "      <td>2</td>\n",
       "      <td>United Package</td>\n",
       "      <td>2</td>\n",
       "    </tr>\n",
       "  </tbody>\n",
       "</table>\n",
       "</div>"
      ],
      "text/plain": [
       "      Id  EmployeeId  OrderDate RequiredDate ShippedDate  ShipVia  \\\n",
       "0  10248           5 2012-07-04   2012-08-01  2012-07-16        3   \n",
       "1  10249           6 2012-07-05   2012-08-16  2012-07-10        1   \n",
       "2  10250           4 2012-07-08   2012-08-05  2012-07-12        2   \n",
       "3  10251           3 2012-07-08   2012-08-05  2012-07-15        1   \n",
       "4  10252           4 2012-07-09   2012-08-06  2012-07-11        2   \n",
       "\n",
       "        CompanyName  ProcessingTime  \n",
       "0  Federal Shipping              12  \n",
       "1    Speedy Express               5  \n",
       "2    United Package               4  \n",
       "3    Speedy Express               7  \n",
       "4    United Package               2  "
      ]
     },
     "execution_count": 321,
     "metadata": {},
     "output_type": "execute_result"
    }
   ],
   "source": [
    "# change column data types for datetime, then subtract order date from shipping date to provide processing time\n",
    "import datetime\n",
    "order_ship['OrderDate'] = pd.to_datetime(order_ship['OrderDate'])\n",
    "order_ship['ShippedDate'] = pd.to_datetime(order_ship['ShippedDate'])\n",
    "# add a column for the processing time\n",
    "order_ship['ProcessingTime'] = order_ship['ShippedDate'] - order_ship['OrderDate']\n",
    "order_ship['ProcessingTime'] = order_ship['ProcessingTime'].dt.days\n",
    "order_ship.head()"
   ]
  },
  {
   "cell_type": "code",
   "execution_count": 333,
   "metadata": {
    "ExecuteTime": {
     "end_time": "2019-11-06T16:19:35.630456Z",
     "start_time": "2019-11-06T16:19:35.595830Z"
    },
    "scrolled": true
   },
   "outputs": [
    {
     "data": {
      "text/html": [
       "<div>\n",
       "<style scoped>\n",
       "    .dataframe tbody tr th:only-of-type {\n",
       "        vertical-align: middle;\n",
       "    }\n",
       "\n",
       "    .dataframe tbody tr th {\n",
       "        vertical-align: top;\n",
       "    }\n",
       "\n",
       "    .dataframe thead th {\n",
       "        text-align: right;\n",
       "    }\n",
       "</style>\n",
       "<table border=\"1\" class=\"dataframe\">\n",
       "  <thead>\n",
       "    <tr style=\"text-align: right;\">\n",
       "      <th></th>\n",
       "      <th>count</th>\n",
       "      <th>mean</th>\n",
       "      <th>std</th>\n",
       "      <th>min</th>\n",
       "      <th>25%</th>\n",
       "      <th>50%</th>\n",
       "      <th>75%</th>\n",
       "      <th>max</th>\n",
       "    </tr>\n",
       "    <tr>\n",
       "      <th>CompanyName</th>\n",
       "      <th></th>\n",
       "      <th></th>\n",
       "      <th></th>\n",
       "      <th></th>\n",
       "      <th></th>\n",
       "      <th></th>\n",
       "      <th></th>\n",
       "      <th></th>\n",
       "    </tr>\n",
       "  </thead>\n",
       "  <tbody>\n",
       "    <tr>\n",
       "      <td>Federal Shipping</td>\n",
       "      <td>249.0</td>\n",
       "      <td>7.473896</td>\n",
       "      <td>5.680357</td>\n",
       "      <td>1.0</td>\n",
       "      <td>4.0</td>\n",
       "      <td>6.0</td>\n",
       "      <td>9.0</td>\n",
       "      <td>35.0</td>\n",
       "    </tr>\n",
       "    <tr>\n",
       "      <td>Speedy Express</td>\n",
       "      <td>245.0</td>\n",
       "      <td>8.571429</td>\n",
       "      <td>6.777494</td>\n",
       "      <td>1.0</td>\n",
       "      <td>5.0</td>\n",
       "      <td>7.0</td>\n",
       "      <td>9.0</td>\n",
       "      <td>37.0</td>\n",
       "    </tr>\n",
       "    <tr>\n",
       "      <td>United Package</td>\n",
       "      <td>315.0</td>\n",
       "      <td>9.234921</td>\n",
       "      <td>7.601671</td>\n",
       "      <td>1.0</td>\n",
       "      <td>4.0</td>\n",
       "      <td>7.0</td>\n",
       "      <td>10.0</td>\n",
       "      <td>37.0</td>\n",
       "    </tr>\n",
       "  </tbody>\n",
       "</table>\n",
       "</div>"
      ],
      "text/plain": [
       "                  count      mean       std  min  25%  50%   75%   max\n",
       "CompanyName                                                           \n",
       "Federal Shipping  249.0  7.473896  5.680357  1.0  4.0  6.0   9.0  35.0\n",
       "Speedy Express    245.0  8.571429  6.777494  1.0  5.0  7.0   9.0  37.0\n",
       "United Package    315.0  9.234921  7.601671  1.0  4.0  7.0  10.0  37.0"
      ]
     },
     "execution_count": 333,
     "metadata": {},
     "output_type": "execute_result"
    }
   ],
   "source": [
    "# descriptive stats on processing time per company\n",
    "order_ship['ProcessingTime'].groupby(order_ship['CompanyName']).describe()"
   ]
  },
  {
   "cell_type": "markdown",
   "metadata": {},
   "source": [
    "At first glance, the sample sizes are relatively similar and the means seem pretty close. Interestingly, as the means increase so do the standard deviations."
   ]
  },
  {
   "cell_type": "code",
   "execution_count": 330,
   "metadata": {
    "ExecuteTime": {
     "end_time": "2019-11-06T16:15:16.121184Z",
     "start_time": "2019-11-06T16:15:15.602846Z"
    }
   },
   "outputs": [
    {
     "data": {
      "text/plain": [
       "<matplotlib.legend.Legend at 0x1c21e4f2b0>"
      ]
     },
     "execution_count": 330,
     "metadata": {},
     "output_type": "execute_result"
    },
    {
     "data": {
      "image/png": "[encoded data removed]",
      "text/plain": [
       "<Figure size 864x576 with 1 Axes>"
      ]
     },
     "metadata": {},
     "output_type": "display_data"
    }
   ],
   "source": [
    "# plot each of the three processing time distributions\n",
    "FedShip = order_ship.loc[order_ship['CompanyName']=='Federal Shipping']['ProcessingTime']\n",
    "SpeedyExpress = order_ship.loc[order_ship['CompanyName']=='Speedy Express']['ProcessingTime']\n",
    "UnitedPack = order_ship.loc[order_ship['CompanyName']=='United Package']['ProcessingTime']\n",
    "\n",
    "plt.figure(figsize=(12, 8))\n",
    "sns.distplot(FedShip, label='Federal Shipping')\n",
    "sns.distplot(SpeedyExpress, label='Speedy Express')\n",
    "sns.distplot(UnitedPack, label='United Package')\n",
    "plt.axvline(x=FedShip.mean(), color='blue', linestyle='--')\n",
    "plt.axvline(x=SpeedyExpress.mean(), color='orange', linestyle='--')\n",
    "plt.axvline(x=UnitedPack.mean(), color='green', linestyle='--')\n",
    "plt.title('Distribution of Processing Times per Shipping Company', fontsize=16)\n",
    "plt.xlabel('Processing Time (days)', fontsize=14)\n",
    "\n",
    "plt.legend(frameon=False, fontsize=16, loc='best')"
   ]
  },
  {
   "cell_type": "markdown",
   "metadata": {},
   "source": [
    "We can see that all three of the distributions are right skewed, however each of the distributions resemble each other and have large sample sizes (all with n>200)."
   ]
  },
  {
   "cell_type": "code",
   "execution_count": 341,
   "metadata": {
    "ExecuteTime": {
     "end_time": "2019-11-07T08:07:50.597591Z",
     "start_time": "2019-11-07T08:07:50.593335Z"
    }
   },
   "outputs": [
    {
     "name": "stdout",
     "output_type": "stream",
     "text": [
      "Variances for each company's processing time:\n",
      "FedShip: 32.136868760181294 \tSpeedyExpress: 45.746938775510216 \tUnitedPack: 57.60195515243134\n"
     ]
    }
   ],
   "source": [
    "#look at variance for each distribution\n",
    "print(\"Variances for each company's processing time:\")\n",
    "print(\"FedShip: {} \\tSpeedyExpress: {} \\tUnitedPack: {}\".format(np.var(FedShip), np.var(SpeedyExpress), np.var(UnitedPack)))"
   ]
  },
  {
   "cell_type": "markdown",
   "metadata": {},
   "source": [
    "### Test"
   ]
  },
  {
   "cell_type": "markdown",
   "metadata": {},
   "source": [
    "We are running an ANOVA test to test if there are differences amongst the three shipping companies' average processing time. While the distributions are not normal and the variances are not equal, we have robust sampling distributions based on the sufficient sample sizes for each company's processing time. We can also assume independence amongst the response variables as well and proceed with the ANOVA test."
   ]
  },
  {
   "cell_type": "code",
   "execution_count": 335,
   "metadata": {
    "ExecuteTime": {
     "end_time": "2019-11-06T16:24:32.809719Z",
     "start_time": "2019-11-06T16:24:32.737677Z"
    },
    "scrolled": true
   },
   "outputs": [
    {
     "name": "stdout",
     "output_type": "stream",
     "text": [
      "                      sum_sq     df         F    PR(>F)\n",
      "C(CompanyName)    433.501581    2.0  4.676819  0.009563\n",
      "Residual        37354.696194  806.0       NaN       NaN\n"
     ]
    }
   ],
   "source": [
    "#run ANOVA test treating CompanyName as a categorical variable\n",
    "formula = 'ProcessingTime ~ C(CompanyName)'\n",
    "lm = ols(formula, order_ship).fit()\n",
    "table = sm.stats.anova_lm(lm, typ=2)\n",
    "print(table)"
   ]
  },
  {
   "cell_type": "markdown",
   "metadata": {},
   "source": [
    "While the ANOVA test allows us to determine whether there is a statistically significant difference between the company means, it doesn't provide insight as to which means are different.  In order to determine this, we need to perform a multiple comparisons analysis, which we will do using Tukey's HSD test to conduct all possible pairwise tests."
   ]
  },
  {
   "cell_type": "code",
   "execution_count": 336,
   "metadata": {
    "ExecuteTime": {
     "end_time": "2019-11-07T08:00:41.165752Z",
     "start_time": "2019-11-07T08:00:40.997132Z"
    }
   },
   "outputs": [
    {
     "name": "stdout",
     "output_type": "stream",
     "text": [
      "         Multiple Comparison of Means - Tukey HSD, FWER=0.05         \n",
      "=====================================================================\n",
      "     group1          group2     meandiff p-adj   lower  upper  reject\n",
      "---------------------------------------------------------------------\n",
      "Federal Shipping Speedy Express   1.0975 0.1733 -0.3409  2.536  False\n",
      "Federal Shipping United Package    1.761 0.0067  0.4055 3.1165   True\n",
      "  Speedy Express United Package   0.6635 0.4887 -0.6982 2.0252  False\n",
      "---------------------------------------------------------------------\n"
     ]
    }
   ],
   "source": [
    "mc = MultiComparison(order_ship['ProcessingTime'], order_ship['CompanyName'])\n",
    "mc_results = mc.tukeyhsd()\n",
    "print(mc_results)"
   ]
  },
  {
   "cell_type": "markdown",
   "metadata": {},
   "source": [
    "### Interpretation of Results"
   ]
  },
  {
   "cell_type": "markdown",
   "metadata": {},
   "source": [
    "We adjusted our alpha level according to the Bonferroni Correction to address the Multiple Comparison's Problem, meaning that our original intent of having an 0.05 alpha level was divided by 3 (for each of the shipping companies) leaving us with a more stringent alpha level of 0.01667.\n",
    "\n",
    "The results of the ANOVA test show that p-value of 0.00956 is less than our alpha level of 0.01667, so we can Reject the Null Hypothesis and state that there is a statistically significant difference between the average processing times for each of these shipping companies.\n",
    "\n",
    "After rejecting the null hypothesis given our ANOVA test results, we performed the Tukey's HSD test, and from there we can see that we're able to reject the null hypothesis only for comparing Federal Shipping and United Package. There is a statistically significant difference in average processing time between Federal Shipping and United Package, where the former has an average processing time of 7.5 days compared to United Package's average processing time of 9.2 days."
   ]
  },
  {
   "cell_type": "markdown",
   "metadata": {},
   "source": [
    "## Q4: Is there any interaction between Category and Customer Region in terms of total revenue per category?\n"
   ]
  },
  {
   "cell_type": "markdown",
   "metadata": {},
   "source": [
    "Let's explore how demand for categories in different customer regions interact by looking at total revenues."
   ]
  },
  {
   "cell_type": "markdown",
   "metadata": {},
   "source": [
    "### Formulated Hypotheses:"
   ]
  },
  {
   "cell_type": "markdown",
   "metadata": {},
   "source": [
    "- $H_0: \\mu_a = \\mu_b$ - *There is no interaction between category and customer region in regards to total revenues for a category in a region.*\n",
    "- $H_1: \\mu_a \\neq \\mu_b$ - *There is a statistically significant interaction between category and customer region in regards to total revenues for a category in a region.*\n",
    "\n",
    "- $\\alpha$: 0.05\n",
    "\n",
    "- We will use a two-way ANOVA test, as we are testing the interaction between two categorical variables, followed by a Tukey's HSD test to examine the results more closely."
   ]
  },
  {
   "cell_type": "code",
   "execution_count": 426,
   "metadata": {
    "ExecuteTime": {
     "end_time": "2019-11-08T12:54:20.759276Z",
     "start_time": "2019-11-08T12:54:20.698485Z"
    }
   },
   "outputs": [
    {
     "data": {
      "text/html": [
       "<div>\n",
       "<style scoped>\n",
       "    .dataframe tbody tr th:only-of-type {\n",
       "        vertical-align: middle;\n",
       "    }\n",
       "\n",
       "    .dataframe tbody tr th {\n",
       "        vertical-align: top;\n",
       "    }\n",
       "\n",
       "    .dataframe thead th {\n",
       "        text-align: right;\n",
       "    }\n",
       "</style>\n",
       "<table border=\"1\" class=\"dataframe\">\n",
       "  <thead>\n",
       "    <tr style=\"text-align: right;\">\n",
       "      <th></th>\n",
       "      <th>CustomerRegion</th>\n",
       "      <th>CategoryName</th>\n",
       "      <th>Revenue</th>\n",
       "    </tr>\n",
       "  </thead>\n",
       "  <tbody>\n",
       "    <tr>\n",
       "      <td>0</td>\n",
       "      <td>Western Europe</td>\n",
       "      <td>Dairy Products</td>\n",
       "      <td>168.0</td>\n",
       "    </tr>\n",
       "    <tr>\n",
       "      <td>1</td>\n",
       "      <td>Western Europe</td>\n",
       "      <td>Grains/Cereals</td>\n",
       "      <td>98.0</td>\n",
       "    </tr>\n",
       "    <tr>\n",
       "      <td>2</td>\n",
       "      <td>Western Europe</td>\n",
       "      <td>Dairy Products</td>\n",
       "      <td>174.0</td>\n",
       "    </tr>\n",
       "    <tr>\n",
       "      <td>3</td>\n",
       "      <td>Western Europe</td>\n",
       "      <td>Produce</td>\n",
       "      <td>167.4</td>\n",
       "    </tr>\n",
       "    <tr>\n",
       "      <td>4</td>\n",
       "      <td>Western Europe</td>\n",
       "      <td>Produce</td>\n",
       "      <td>1696.0</td>\n",
       "    </tr>\n",
       "  </tbody>\n",
       "</table>\n",
       "</div>"
      ],
      "text/plain": [
       "   CustomerRegion    CategoryName  Revenue\n",
       "0  Western Europe  Dairy Products    168.0\n",
       "1  Western Europe  Grains/Cereals     98.0\n",
       "2  Western Europe  Dairy Products    174.0\n",
       "3  Western Europe         Produce    167.4\n",
       "4  Western Europe         Produce   1696.0"
      ]
     },
     "execution_count": 426,
     "metadata": {},
     "output_type": "execute_result"
    }
   ],
   "source": [
    "# gather necessary data from order, orderdetail, product, and category tables\n",
    "q4_data = pd.merge(Order_df, OrderDetail_df, \n",
    "                  left_on='Id',\n",
    "                  right_on='OrderId', \n",
    "                  how='left')\n",
    "q4_data = pd.merge(q4_data, Customer_df, \n",
    "                  left_on='CustomerId', \n",
    "                  right_on='Id',\n",
    "                  how='left')\n",
    "q4_data = pd.merge(q4_data, Product_df, \n",
    "                  left_on='ProductId', \n",
    "                  right_on='Id', \n",
    "                  how='left')\n",
    "q4_data = pd.merge(q4_data, Category_df, \n",
    "                  left_on='CategoryId', \n",
    "                  right_on='Id', \n",
    "                  how='left')\n",
    "q4_data = q4_data.rename(index=str, columns={\"UnitPrice_x\": \"UnitPrice\"})\n",
    "q4_data = q4_data.rename(index=str, columns={\"Region\": \"CustomerRegion\"})\n",
    "q4_data['Revenue'] = q4_data['Quantity']*(q4_data['UnitPrice'])\n",
    "q4_data = q4_data[['CustomerRegion', 'CategoryName', 'Revenue']]\n",
    "q4_data.head()"
   ]
  },
  {
   "cell_type": "code",
   "execution_count": 427,
   "metadata": {
    "ExecuteTime": {
     "end_time": "2019-11-08T12:54:30.892341Z",
     "start_time": "2019-11-08T12:54:30.886792Z"
    }
   },
   "outputs": [
    {
     "name": "stdout",
     "output_type": "stream",
     "text": [
      "<class 'pandas.core.frame.DataFrame'>\n",
      "Index: 2155 entries, 0 to 2154\n",
      "Data columns (total 3 columns):\n",
      "CustomerRegion    2078 non-null object\n",
      "CategoryName      2155 non-null object\n",
      "Revenue           2155 non-null float64\n",
      "dtypes: float64(1), object(2)\n",
      "memory usage: 67.3+ KB\n"
     ]
    }
   ],
   "source": [
    "q4_data.info()"
   ]
  },
  {
   "cell_type": "code",
   "execution_count": 428,
   "metadata": {
    "ExecuteTime": {
     "end_time": "2019-11-08T12:54:40.443304Z",
     "start_time": "2019-11-08T12:54:40.437637Z"
    }
   },
   "outputs": [
    {
     "data": {
      "text/plain": [
       "CustomerRegion    77\n",
       "CategoryName       0\n",
       "Revenue            0\n",
       "dtype: int64"
      ]
     },
     "execution_count": 428,
     "metadata": {},
     "output_type": "execute_result"
    }
   ],
   "source": [
    "q4_data.isnull().sum()"
   ]
  },
  {
   "cell_type": "code",
   "execution_count": 429,
   "metadata": {
    "ExecuteTime": {
     "end_time": "2019-11-08T12:54:49.626782Z",
     "start_time": "2019-11-08T12:54:49.621650Z"
    }
   },
   "outputs": [],
   "source": [
    "#remove null values as we cannot determine interaction with customer region data\n",
    "q4_data.dropna(inplace=True)"
   ]
  },
  {
   "cell_type": "markdown",
   "metadata": {},
   "source": [
    "Given the fact that we have two categorical variables, Region and Category, we will employ a two-way ANOVA test, followed by a Tukey's HSD test."
   ]
  },
  {
   "cell_type": "code",
   "execution_count": 432,
   "metadata": {
    "ExecuteTime": {
     "end_time": "2019-11-08T12:56:08.907288Z",
     "start_time": "2019-11-08T12:56:08.374657Z"
    }
   },
   "outputs": [
    {
     "data": {
      "text/plain": [
       "Text(0, 0.5, 'Revenue')"
      ]
     },
     "execution_count": 432,
     "metadata": {},
     "output_type": "execute_result"
    },
    {
     "data": {
      "image/png": "[encoded data removed]",
      "text/plain": [
       "<Figure size 1080x576 with 1 Axes>"
      ]
     },
     "metadata": {},
     "output_type": "display_data"
    }
   ],
   "source": [
    "#visualize the table showing total revenues per category per region\n",
    "fig = q4_data.pivot_table(values='Revenue', index='CategoryName', columns='CustomerRegion').plot.bar(figsize=(15,8))\n",
    "plt.title('Revenue per Category per Customer Region', fontsize=18)\n",
    "plt.ylabel('Revenue')"
   ]
  },
  {
   "cell_type": "markdown",
   "metadata": {},
   "source": [
    "### Test"
   ]
  },
  {
   "cell_type": "code",
   "execution_count": 435,
   "metadata": {
    "ExecuteTime": {
     "end_time": "2019-11-08T14:05:15.842480Z",
     "start_time": "2019-11-08T14:05:15.761302Z"
    }
   },
   "outputs": [
    {
     "name": "stderr",
     "output_type": "stream",
     "text": [
      "/Users/serenaquiroga/opt/anaconda3/envs/learn-env/lib/python3.6/site-packages/statsmodels/base/model.py:1752: ValueWarning: covariance of constraints does not have full rank. The number of constraints is 8, but rank is 7\n",
      "  'rank is %d' % (J, J_), ValueWarning)\n",
      "/Users/serenaquiroga/opt/anaconda3/envs/learn-env/lib/python3.6/site-packages/statsmodels/base/model.py:1752: ValueWarning: covariance of constraints does not have full rank. The number of constraints is 7, but rank is 6\n",
      "  'rank is %d' % (J, J_), ValueWarning)\n",
      "/Users/serenaquiroga/opt/anaconda3/envs/learn-env/lib/python3.6/site-packages/statsmodels/base/model.py:1752: ValueWarning: covariance of constraints does not have full rank. The number of constraints is 56, but rank is 55\n",
      "  'rank is %d' % (J, J_), ValueWarning)\n"
     ]
    },
    {
     "data": {
      "text/html": [
       "<div>\n",
       "<style scoped>\n",
       "    .dataframe tbody tr th:only-of-type {\n",
       "        vertical-align: middle;\n",
       "    }\n",
       "\n",
       "    .dataframe tbody tr th {\n",
       "        vertical-align: top;\n",
       "    }\n",
       "\n",
       "    .dataframe thead th {\n",
       "        text-align: right;\n",
       "    }\n",
       "</style>\n",
       "<table border=\"1\" class=\"dataframe\">\n",
       "  <thead>\n",
       "    <tr style=\"text-align: right;\">\n",
       "      <th></th>\n",
       "      <th>sum_sq</th>\n",
       "      <th>df</th>\n",
       "      <th>F</th>\n",
       "      <th>PR(&gt;F)</th>\n",
       "    </tr>\n",
       "  </thead>\n",
       "  <tbody>\n",
       "    <tr>\n",
       "      <td>C(CustomerRegion)</td>\n",
       "      <td>4.943779e+07</td>\n",
       "      <td>8.0</td>\n",
       "      <td>5.925161</td>\n",
       "      <td>7.730724e-07</td>\n",
       "    </tr>\n",
       "    <tr>\n",
       "      <td>C(CategoryName)</td>\n",
       "      <td>5.150479e+07</td>\n",
       "      <td>7.0</td>\n",
       "      <td>7.054735</td>\n",
       "      <td>1.898329e-07</td>\n",
       "    </tr>\n",
       "    <tr>\n",
       "      <td>C(CustomerRegion):C(CategoryName)</td>\n",
       "      <td>4.377659e+07</td>\n",
       "      <td>56.0</td>\n",
       "      <td>0.749523</td>\n",
       "      <td>9.136929e-01</td>\n",
       "    </tr>\n",
       "    <tr>\n",
       "      <td>Residual</td>\n",
       "      <td>2.093227e+09</td>\n",
       "      <td>2007.0</td>\n",
       "      <td>NaN</td>\n",
       "      <td>NaN</td>\n",
       "    </tr>\n",
       "  </tbody>\n",
       "</table>\n",
       "</div>"
      ],
      "text/plain": [
       "                                         sum_sq      df         F  \\\n",
       "C(CustomerRegion)                  4.943779e+07     8.0  5.925161   \n",
       "C(CategoryName)                    5.150479e+07     7.0  7.054735   \n",
       "C(CustomerRegion):C(CategoryName)  4.377659e+07    56.0  0.749523   \n",
       "Residual                           2.093227e+09  2007.0       NaN   \n",
       "\n",
       "                                         PR(>F)  \n",
       "C(CustomerRegion)                  7.730724e-07  \n",
       "C(CategoryName)                    1.898329e-07  \n",
       "C(CustomerRegion):C(CategoryName)  9.136929e-01  \n",
       "Residual                                    NaN  "
      ]
     },
     "execution_count": 435,
     "metadata": {},
     "output_type": "execute_result"
    }
   ],
   "source": [
    "#run two way ANOVA test with C wrapped around both categorical variables\n",
    "formula = 'Revenue ~ C(CustomerRegion)*C(CategoryName)'\n",
    "lm = ols(formula, q4_data).fit()\n",
    "table = sm.stats.anova_lm(lm, typ=2)\n",
    "table"
   ]
  },
  {
   "cell_type": "markdown",
   "metadata": {},
   "source": [
    "We can see that the interaction between CustomerRegion and Category has a high p-value, and we fail to reject the null hypothesis.  There is no interaction between Category and Customer Region in regards to total revenues for each category.  Despite this result, we can still utilize the Tukey's HSD for each category to compare each region."
   ]
  },
  {
   "cell_type": "code",
   "execution_count": 433,
   "metadata": {
    "ExecuteTime": {
     "end_time": "2019-11-08T12:57:52.857684Z",
     "start_time": "2019-11-08T12:57:51.290599Z"
    }
   },
   "outputs": [
    {
     "name": "stdout",
     "output_type": "stream",
     "text": [
      "Dairy Products\n",
      "            Multiple Comparison of Means - Tukey HSD, FWER=0.05             \n",
      "============================================================================\n",
      "     group1          group2      meandiff p-adj    lower      upper   reject\n",
      "----------------------------------------------------------------------------\n",
      "  British Isles Central America -399.0452 0.7655 -1166.9483  368.8578  False\n",
      "  British Isles  Eastern Europe -205.6452    0.9 -1903.5428 1492.2523  False\n",
      "  British Isles   North America  137.9243    0.9  -321.2072  597.0558  False\n",
      "  British Isles Northern Europe  -61.3276    0.9  -735.7029  613.0478  False\n",
      "  British Isles     Scandinavia  -86.5068    0.9  -831.0841  658.0706  False\n",
      "  British Isles   South America   24.6323    0.9   -468.681  517.9456  False\n",
      "  British Isles Southern Europe -179.8738    0.9  -903.8598  544.1121  False\n",
      "  British Isles  Western Europe  216.6532 0.7624  -198.9585   632.265  False\n",
      "Central America  Eastern Europe     193.4    0.9 -1598.3738 1985.1738  False\n",
      "Central America   North America  536.9696 0.3553  -196.7872 1270.7264  False\n",
      "Central America Northern Europe  337.7176    0.9  -546.8045 1222.2398  False\n",
      "Central America     Scandinavia  312.5385    0.9  -626.6062 1251.6831  False\n",
      "Central America   South America  423.6776 0.6884  -331.9383 1179.2934  False\n",
      "Central America Southern Europe  219.1714    0.9  -703.7332 1142.0761  False\n",
      "Central America  Western Europe  615.6985 0.1454   -91.6419 1323.0389  False\n",
      " Eastern Europe   North America  343.5696    0.9 -1339.1604 2026.2995  False\n",
      " Eastern Europe Northern Europe  144.3176    0.9 -1609.4099 1898.0452  False\n",
      " Eastern Europe     Scandinavia  119.1385    0.9 -1662.7633 1901.0402  False\n",
      " Eastern Europe   South America  230.2776    0.9 -1462.0984 1922.6535  False\n",
      " Eastern Europe Southern Europe   25.7714    0.9 -1747.6247 1799.1676  False\n",
      " Eastern Europe  Western Europe  422.2985    0.9 -1249.0816 2093.6786  False\n",
      "  North America Northern Europe -199.2519    0.9  -834.4732  435.9693  False\n",
      "  North America     Scandinavia -224.4311    0.9  -933.7401  484.8779  False\n",
      "  North America   South America  -113.292    0.9  -551.5635  324.9795  False\n",
      "  North America Southern Europe -317.7981 0.8736 -1005.4605  369.8643  False\n",
      "  North America  Western Europe   78.7289    0.9  -269.7779  427.2358  False\n",
      "Northern Europe     Scandinavia  -25.1792    0.9  -889.5285  839.1701  False\n",
      "Northern Europe   South America   85.9599    0.9  -574.3902    746.31  False\n",
      "Northern Europe Southern Europe -118.5462    0.9   -965.222  728.1296  False\n",
      "Northern Europe  Western Europe  277.9808 0.8779  -326.5334   882.495  False\n",
      "    Scandinavia   South America  111.1391    0.9  -620.7595  843.0377  False\n",
      "    Scandinavia Southern Europe   -93.367    0.9  -996.9561  810.2221  False\n",
      "    Scandinavia  Western Europe    303.16    0.9  -378.7862  985.1063  False\n",
      "  South America Southern Europe -204.5061    0.9  -915.4462   506.434  False\n",
      "  South America  Western Europe  192.0209 0.8226  -200.4243  584.4662  False\n",
      "Southern Europe  Western Europe  396.5271  0.612  -262.8749  1055.929  False\n",
      "----------------------------------------------------------------------------\n",
      "Grains/Cereals\n",
      "            Multiple Comparison of Means - Tukey HSD, FWER=0.05             \n",
      "============================================================================\n",
      "     group1          group2      meandiff p-adj    lower      upper   reject\n",
      "----------------------------------------------------------------------------\n",
      "  British Isles Central America -225.0762    0.9 -1428.2014   978.049  False\n",
      "  British Isles   North America  292.6773 0.4386   -140.153  725.5076  False\n",
      "  British Isles Northern Europe  354.9238 0.8728  -454.1042 1163.9519  False\n",
      "  British Isles     Scandinavia  243.9238    0.9  -565.1042 1052.9519  False\n",
      "  British Isles   South America    80.117    0.9  -415.8866  576.1205  False\n",
      "  British Isles Southern Europe   20.1571    0.9  -502.0682  542.3825  False\n",
      "  British Isles  Western Europe  278.2164  0.407  -123.7668  680.1995  False\n",
      "Central America   North America  517.7535   0.87  -658.3041 1693.8111  False\n",
      "Central America Northern Europe     580.0 0.8951  -780.2557 1940.2557  False\n",
      "Central America     Scandinavia     469.0    0.9  -891.2557 1829.2557  False\n",
      "Central America   South America  305.1932    0.9  -895.5519 1505.9383  False\n",
      "Central America Southern Europe  245.2333    0.9  -966.5788 1457.0455  False\n",
      "Central America  Western Europe  503.2926  0.885  -661.7653 1668.3504  False\n",
      "  North America Northern Europe   62.2465    0.9  -705.9511  830.4441  False\n",
      "  North America     Scandinavia  -48.7535    0.9  -816.9511  719.4441  False\n",
      "  North America   South America -212.5603  0.764  -638.7301  213.6095  False\n",
      "  North America Southern Europe -272.5202  0.586  -728.9415  183.9012  False\n",
      "  North America  Western Europe  -14.4609    0.9  -326.2166  297.2948  False\n",
      "Northern Europe     Scandinavia    -111.0    0.9 -1139.2567  917.2567  False\n",
      "Northern Europe   South America -274.8068    0.9 -1080.2911  530.6775  False\n",
      "Northern Europe Southern Europe -334.7667    0.9 -1156.6576  487.1243  False\n",
      "Northern Europe  Western Europe  -76.7074    0.9   -827.957  674.5421  False\n",
      "    Scandinavia   South America -163.8068    0.9  -969.2911  641.6775  False\n",
      "    Scandinavia Southern Europe -223.7667    0.9 -1045.6576  598.1243  False\n",
      "    Scandinavia  Western Europe   34.2926    0.9   -716.957  785.5421  False\n",
      "  South America Southern Europe  -59.9598    0.9  -576.6783  456.7586  False\n",
      "  South America  Western Europe  198.0994 0.7586  -196.7032   592.902  False\n",
      "Southern Europe  Western Europe  258.0592 0.5736  -169.2215    685.34  False\n",
      "----------------------------------------------------------------------------\n",
      "Produce\n",
      "             Multiple Comparison of Means - Tukey HSD, FWER=0.05             \n",
      "=============================================================================\n",
      "     group1          group2      meandiff  p-adj    lower      upper   reject\n",
      "-----------------------------------------------------------------------------\n",
      "  British Isles Central America  -416.7962    0.9 -1753.7453   920.153  False\n",
      "  British Isles  Eastern Europe  -767.3462    0.9  -2697.066 1162.3737  False\n",
      "  British Isles   North America  -321.3985    0.9 -1217.9876  575.1905  False\n",
      "  British Isles Northern Europe   453.8538    0.9  -614.7766 1522.4843  False\n",
      "  British Isles     Scandinavia  -671.8533   0.67 -1862.9023  519.1957  False\n",
      "  British Isles   South America  -268.7895    0.9 -1231.5029  693.9239  False\n",
      "  British Isles Southern Europe  -191.7747    0.9 -1382.8237  999.2742  False\n",
      "  British Isles  Western Europe   -50.1375    0.9  -837.9423  737.6673  False\n",
      "Central America  Eastern Europe    -350.55    0.9 -2476.1637 1775.0637  False\n",
      "Central America   North America    95.3976    0.9  -1168.836 1359.6312  False\n",
      "Central America Northern Europe     870.65 0.5544  -520.8908 2262.1908  False\n",
      "Central America     Scandinavia  -255.0571    0.9 -1742.6768 1232.5625  False\n",
      "Central America   South America   148.0067    0.9 -1163.9506 1459.9639  False\n",
      "Central America Southern Europe   225.0214    0.9 -1262.5982 1712.6411  False\n",
      "Central America  Western Europe   366.6587    0.9  -822.9006 1556.2179  False\n",
      " Eastern Europe   North America   445.9476    0.9 -1434.1248 2326.0201  False\n",
      " Eastern Europe Northern Europe     1221.2  0.564  -746.7359 3189.1359  False\n",
      " Eastern Europe     Scandinavia    95.4929    0.9 -1941.5143    2132.5  False\n",
      " Eastern Europe   South America   498.5567    0.9 -1413.9332 2411.0465  False\n",
      " Eastern Europe Southern Europe   575.5714    0.9 -1461.4357 2612.5786  False\n",
      " Eastern Europe  Western Europe   717.2087    0.9 -1113.4844 2547.9017  False\n",
      "  North America Northern Europe   775.2524 0.2384   -200.875 1751.3798  False\n",
      "  North America     Scandinavia  -350.4548    0.9  -1459.261  758.3515  False\n",
      "  North America   South America     52.609    0.9  -806.2686  911.4867  False\n",
      "  North America Southern Europe   129.6238    0.9  -979.1824   1238.43  False\n",
      "  North America  Western Europe    271.261    0.9   -385.618  928.1401  False\n",
      "Northern Europe     Scandinavia -1125.7071  0.115 -2377.7257  126.3114  False\n",
      "Northern Europe   South America  -722.6433  0.415 -1759.8366  314.5499  False\n",
      "Northern Europe Southern Europe  -645.6286 0.7609 -1897.6471  606.3899  False\n",
      "Northern Europe  Western Europe  -503.9913 0.6505 -1381.2537   373.271  False\n",
      "    Scandinavia   South America   403.0638    0.9   -759.862 1565.9896  False\n",
      "    Scandinavia Southern Europe   480.0786    0.9  -877.9262 1838.0833  False\n",
      "    Scandinavia  Western Europe   621.7158 0.5879  -401.1311 1644.5627  False\n",
      "  South America Southern Europe    77.0148    0.9  -1085.911 1239.9406  False\n",
      "  South America  Western Europe    218.652    0.9  -525.9521  963.2561  False\n",
      "Southern Europe  Western Europe   141.6372    0.9  -881.2097 1164.4841  False\n",
      "-----------------------------------------------------------------------------\n"
     ]
    },
    {
     "name": "stdout",
     "output_type": "stream",
     "text": [
      "Seafood\n",
      "            Multiple Comparison of Means - Tukey HSD, FWER=0.05             \n",
      "============================================================================\n",
      "     group1          group2      meandiff p-adj    lower      upper   reject\n",
      "----------------------------------------------------------------------------\n",
      "  British Isles Central America -218.6597    0.9  -799.9568  362.6375  False\n",
      "  British Isles  Eastern Europe -268.5347    0.9 -1753.5545 1216.4852  False\n",
      "  British Isles   North America   63.8042    0.9  -261.9629  389.5713  False\n",
      "  British Isles Northern Europe  -12.9236    0.9   -400.455  374.6079  False\n",
      "  British Isles     Scandinavia -177.2124    0.9  -732.4291  378.0042  False\n",
      "  British Isles   South America  -44.3607    0.9  -372.8935  284.1721  False\n",
      "  British Isles Southern Europe -166.0235    0.9  -609.5054  277.4584  False\n",
      "  British Isles  Western Europe   77.8936    0.9  -223.6007  379.3878  False\n",
      "Central America  Eastern Europe   -49.875    0.9 -1599.3633 1499.6133  False\n",
      "Central America   North America  282.4639 0.7751  -266.8577  831.7854  False\n",
      "Central America Northern Europe  205.7361    0.9  -382.3206  793.7928  False\n",
      "Central America     Scandinavia   41.4472    0.9  -668.4088  751.3032  False\n",
      "Central America   South America   174.299    0.9  -376.6673  725.2652  False\n",
      "Central America Southern Europe   52.6362    0.9  -573.7073  678.9797  False\n",
      "Central America  Western Europe  296.5532 0.7002  -238.7306  831.8371  False\n",
      " Eastern Europe   North America  332.3389    0.9 -1140.4584 1805.1361  False\n",
      " Eastern Europe Northern Europe  255.6111    0.9 -1232.0677 1743.2899  False\n",
      " Eastern Europe     Scandinavia   91.3222    0.9 -1448.5716  1631.216  False\n",
      " Eastern Europe   South America   224.174    0.9 -1249.2375 1697.5854  False\n",
      " Eastern Europe Southern Europe  102.5112    0.9 -1400.7132 1605.7356  False\n",
      " Eastern Europe  Western Europe  346.4282    0.9  -1121.191 1814.0475  False\n",
      "  North America Northern Europe  -76.7277    0.9  -414.4087  260.9532  False\n",
      "  North America     Scandinavia -241.0166 0.8731  -762.6614  280.6282  False\n",
      "  North America   South America -108.1649    0.9  -376.0858   159.756  False\n",
      "  North America Southern Europe -229.8277 0.6634  -630.4821  170.8268  False\n",
      "  North America  Western Europe   14.0894    0.9  -219.8905  248.0693  False\n",
      "Northern Europe     Scandinavia -164.2889    0.9  -726.5786  398.0008  False\n",
      "Northern Europe   South America  -31.4371    0.9   -371.787  308.9127  False\n",
      "Northern Europe Southern Europe -153.0999    0.9  -605.4056  299.2057  False\n",
      "Northern Europe  Western Europe   90.8171    0.9  -223.5124  405.1466  False\n",
      "    Scandinavia   South America  132.8517    0.9  -390.5247  656.2282  False\n",
      "    Scandinavia Southern Europe    11.189    0.9   -591.028  613.4059  False\n",
      "    Scandinavia  Western Europe   255.106 0.7955  -251.7351  761.9471  False\n",
      "  South America Southern Europe -121.6628    0.9  -524.5692  281.2436  False\n",
      "  South America  Western Europe  122.2543 0.7753  -115.5612  360.0698  False\n",
      "Southern Europe  Western Europe  243.9171 0.5388  -137.2635  625.0976  False\n",
      "----------------------------------------------------------------------------\n",
      "Condiments\n",
      "            Multiple Comparison of Means - Tukey HSD, FWER=0.05             \n",
      "============================================================================\n",
      "     group1          group2      meandiff p-adj    lower      upper   reject\n",
      "----------------------------------------------------------------------------\n",
      "  British Isles Central America -313.4625    0.9 -1229.3584  602.4334  False\n",
      "  British Isles  Eastern Europe  -291.825    0.9 -1513.0195  929.3695  False\n",
      "  British Isles   North America   -57.268    0.9  -554.3672  439.8312  False\n",
      "  British Isles Northern Europe -109.2355    0.9  -678.2457  459.7746  False\n",
      "  British Isles     Scandinavia -254.1583    0.9  -1042.436  534.1193  False\n",
      "  British Isles   South America -216.3395    0.9  -736.5334  303.8544  False\n",
      "  British Isles Southern Europe -249.9675    0.9  -812.9103  312.9753  False\n",
      "  British Isles  Western Europe   53.4593    0.9  -419.5073  526.4259  False\n",
      "Central America  Eastern Europe   21.6375    0.9 -1377.4165 1420.6915  False\n",
      "Central America   North America  256.1945    0.9   -588.284 1100.6729  False\n",
      "Central America Northern Europe   204.227    0.9  -684.4849 1092.9388  False\n",
      "Central America     Scandinavia   59.3042    0.9  -983.4891 1102.0975  False\n",
      "Central America   South America    97.123    0.9  -761.1532  955.3991  False\n",
      "Central America Southern Europe    63.495    0.9  -821.3445  948.3345  False\n",
      "Central America  Western Europe  366.9218    0.9  -463.5803 1197.4238  False\n",
      " Eastern Europe   North America   234.557    0.9  -934.0296 1403.1435  False\n",
      " Eastern Europe Northern Europe  182.5895    0.9 -1018.3516 1383.5306  False\n",
      " Eastern Europe     Scandinavia   37.6667    0.9 -1281.3741 1356.7075  False\n",
      " Eastern Europe   South America   75.4855    0.9 -1103.1106 1254.0815  False\n",
      " Eastern Europe Southern Europe   41.8575    0.9 -1156.2208 1239.9358  False\n",
      " Eastern Europe  Western Europe  345.2843    0.9  -813.2425 1503.8111  False\n",
      "  North America Northern Europe  -51.9675    0.9  -496.9969  393.0619  False\n",
      "  North America     Scandinavia -196.8903    0.9  -900.9217  507.1411  False\n",
      "  North America   South America -159.0715    0.9  -539.7029  221.5599  False\n",
      "  North America Southern Europe -192.6995    0.9  -629.9445  244.5456  False\n",
      "  North America  Western Europe  110.7273    0.9  -202.2839  423.7385  False\n",
      "Northern Europe     Scandinavia -144.9228    0.9  -901.4446   611.599  False\n",
      "Northern Europe   South America  -107.104    0.9  -577.7899  363.5819  False\n",
      "Northern Europe Southern Europe  -140.732    0.9  -658.2725  376.8086  False\n",
      "Northern Europe  Western Europe  162.6948    0.9  -255.2058  580.5955  False\n",
      "    Scandinavia   South America   37.8188    0.9  -682.7048  758.3425  False\n",
      "    Scandinavia Southern Europe    4.1908    0.9  -747.7781  756.1598  False\n",
      "    Scandinavia  Western Europe  307.6176 0.8959  -379.5869  994.8221  False\n",
      "  South America Southern Europe   -33.628    0.9  -496.9608  429.7049  False\n",
      "  South America  Western Europe  269.7988  0.275   -78.7268  618.3244  False\n",
      "Southern Europe  Western Europe  303.4268 0.3335  -106.1743  713.0279  False\n",
      "----------------------------------------------------------------------------\n",
      "Confections\n",
      "            Multiple Comparison of Means - Tukey HSD, FWER=0.05             \n",
      "============================================================================\n",
      "     group1          group2      meandiff p-adj    lower      upper   reject\n",
      "----------------------------------------------------------------------------\n",
      "  British Isles Central America  -360.363    0.9 -1352.6784  631.9524  False\n",
      "  British Isles  Eastern Europe  -158.573    0.9 -1630.4145 1313.2685  False\n",
      "  British Isles   North America   76.6361    0.9  -421.4509  574.7231  False\n",
      "  British Isles Northern Europe -101.2309    0.9  -737.0304  534.5686  False\n",
      "  British Isles     Scandinavia -402.2119 0.7926 -1198.8158  394.3921  False\n",
      "  British Isles   South America -200.1659    0.9   -723.777  323.4451  False\n",
      "  British Isles Southern Europe  -319.353 0.7334  -914.7422  276.0362  False\n",
      "  British Isles  Western Europe   129.452    0.9  -351.9981  610.9022  False\n",
      "Central America  Eastern Europe    201.79    0.9 -1458.6712 1862.2512  False\n",
      "Central America   North America  436.9991 0.8448  -478.9182 1352.9164  False\n",
      "Central America Northern Europe  259.1321    0.9  -738.3923 1256.6565  False\n",
      "Central America     Scandinavia  -41.8489    0.9  -1148.823 1065.1252  False\n",
      "Central America   South America  160.1971    0.9  -769.8472 1090.2413  False\n",
      "Central America Southern Europe     41.01    0.9  -931.2565 1013.2765  False\n",
      "Central America  Western Europe   489.815 0.7265  -417.1624 1396.7925  False\n",
      " Eastern Europe   North America  235.2091    0.9 -1186.2452 1656.6634  False\n",
      " Eastern Europe Northern Europe   57.3421    0.9 -1418.0164 1532.7006  False\n",
      " Eastern Europe     Scandinavia -243.6389    0.9 -1795.0961 1307.8183  False\n",
      " Eastern Europe   South America  -41.5929    0.9 -1472.1907 1389.0049  False\n",
      " Eastern Europe Southern Europe   -160.78    0.9 -1619.1798 1297.6198  False\n",
      " Eastern Europe  Western Europe   288.025    0.9 -1127.6853 1703.7354  False\n",
      "  North America Northern Europe  -177.867    0.9  -686.2525  330.5185  False\n",
      "  North America     Scandinavia  -478.848 0.4512  -1177.985  220.2891  False\n",
      "  North America   South America  -276.802 0.2806  -635.1082   81.5041  False\n",
      "  North America Southern Europe -395.9891 0.1493  -852.8294   60.8512  False\n",
      "  North America  Western Europe    52.816    0.9  -240.4569  346.0888  False\n",
      "Northern Europe     Scandinavia  -300.981    0.9 -1104.0644  502.1024  False\n",
      "Northern Europe   South America   -98.935    0.9   -632.352  434.4819  False\n",
      "Northern Europe Southern Europe -218.1221    0.9  -822.1531  385.9089  False\n",
      "Northern Europe  Western Europe  230.6829 0.8605   -261.414  722.7799  False\n",
      "    Scandinavia   South America  202.0459    0.9  -515.4988  919.5907  False\n",
      "    Scandinavia Southern Europe   82.8589    0.9  -688.6269  854.3446  False\n",
      "    Scandinavia  Western Europe  531.6639 0.2791  -155.7196 1219.0475  False\n",
      "  South America Southern Europe -119.1871    0.9   -603.729  365.3549  False\n",
      "  South America  Western Europe   329.618 0.0575    -5.1757  664.4117  False\n",
      "Southern Europe  Western Europe   448.805 0.0405    10.1632  887.4469   True\n",
      "----------------------------------------------------------------------------\n",
      "Beverages\n",
      "            Multiple Comparison of Means - Tukey HSD, FWER=0.05             \n",
      "============================================================================\n",
      "     group1          group2      meandiff p-adj    lower      upper   reject\n",
      "----------------------------------------------------------------------------\n",
      "  British Isles Central America  132.9114    0.9 -1614.2898 1880.1126  False\n",
      "  British Isles  Eastern Europe -174.3624    0.9 -2615.6851 2266.9604  False\n",
      "  British Isles   North America  759.6494 0.4883  -378.8545 1898.1534  False\n",
      "  British Isles Northern Europe  482.3277    0.9  -869.0331 1833.6885  False\n",
      "  British Isles     Scandinavia   43.1257    0.9 -1704.0755 1790.3269  False\n",
      "  British Isles   South America  291.7476    0.9  -883.4072 1466.9024  False\n",
      "  British Isles Southern Europe  -143.873    0.9  -1647.136 1359.3901  False\n",
      "  British Isles  Western Europe  477.0659  0.888  -571.7515 1525.8832  False\n",
      "Central America  Eastern Europe -307.2738    0.9 -3003.2638 2388.7162  False\n",
      "Central America   North America   626.738    0.9  -987.1072 2240.5832  False\n",
      "Central America Northern Europe  349.4163    0.9 -1421.0303 2119.8629  False\n",
      "Central America     Scandinavia  -89.7857    0.9 -2178.0906 1998.5191  False\n",
      "Central America   South America  158.8362    0.9 -1481.0705 1798.7429  False\n",
      "Central America Southern Europe -276.7844    0.9 -2165.7272 1612.1584  False\n",
      "Central America  Western Europe  344.1544    0.9 -1207.7228 1896.0317  False\n",
      " Eastern Europe   North America  934.0118    0.9 -1413.7193 3281.7429  False\n",
      " Eastern Europe Northern Europe  656.6901    0.9 -1801.3225 3114.7027  False\n",
      " Eastern Europe     Scandinavia  217.4881    0.9 -2478.5019 2913.4781  False\n",
      " Eastern Europe   South America    466.11    0.9 -1899.6116 2831.8316  False\n",
      " Eastern Europe Southern Europe   30.4894    0.9 -2514.2011 2575.1799  False\n",
      " Eastern Europe  Western Europe  651.4282    0.9  -1654.145 2957.0014  False\n",
      "  North America Northern Europe -277.3217    0.9 -1451.1872  896.5438  False\n",
      "  North America     Scandinavia -716.5237    0.9 -2330.3689  897.3215  False\n",
      "  North America   South America -467.9018 0.8324 -1433.7036     497.9  False\n",
      "  North America Southern Europe -903.5224 0.4802 -2249.4734  442.4286  False\n",
      "  North America  Western Europe -282.5836    0.9 -1089.9262  524.7591  False\n",
      "Northern Europe     Scandinavia  -439.202    0.9 -2209.6486 1331.2446  False\n",
      "Northern Europe   South America -190.5801    0.9 -1400.0254 1018.8652  False\n",
      "Northern Europe Southern Europe -626.2007    0.9 -2156.4193  904.0179  False\n",
      "Northern Europe  Western Europe   -5.2619    0.9 -1092.3621 1081.8383  False\n",
      "    Scandinavia   South America  248.6219    0.9 -1391.2848 1888.5286  False\n",
      "    Scandinavia Southern Europe -186.9987    0.9 -2075.9415 1701.9441  False\n",
      "    Scandinavia  Western Europe  433.9401    0.9 -1117.9371 1985.8174  False\n",
      "  South America Southern Europe -435.6206    0.9 -1812.7124  941.4712  False\n",
      "  South America  Western Europe  185.3182    0.9  -672.9356 1043.5721  False\n",
      "Southern Europe  Western Europe  620.9388 0.8247  -650.0492 1891.9269  False\n",
      "----------------------------------------------------------------------------\n"
     ]
    },
    {
     "name": "stdout",
     "output_type": "stream",
     "text": [
      "Meat/Poultry\n",
      "             Multiple Comparison of Means - Tukey HSD, FWER=0.05             \n",
      "=============================================================================\n",
      "     group1          group2      meandiff  p-adj    lower      upper   reject\n",
      "-----------------------------------------------------------------------------\n",
      "  British Isles Central America -1771.0233 0.3045 -4114.8972  572.8505  False\n",
      "  British Isles  Eastern Europe -2010.0533    0.9  -6697.801 2677.6943  False\n",
      "  British Isles   North America  -821.1824 0.6076  -2190.822  548.4573  False\n",
      "  British Isles Northern Europe -1080.4998 0.5305 -2767.2051  606.2056  False\n",
      "  British Isles     Scandinavia -1531.0819 0.3382  -3608.704  546.5402  False\n",
      "  British Isles   South America -1348.0744 0.1667 -2934.8845  238.7356  False\n",
      "  British Isles Southern Europe -1286.5462 0.2921 -2973.2515  400.1591  False\n",
      "  British Isles  Western Europe -1002.5728 0.3051 -2330.0307  324.8851  False\n",
      "Central America  Eastern Europe    -239.03    0.9 -5211.1372 4733.0772  False\n",
      "Central America   North America    949.841    0.9 -1200.2253 3099.9073  False\n",
      "Central America Northern Europe   690.5236    0.9 -1674.1851 3055.2322  False\n",
      "Central America     Scandinavia   239.9414    0.9 -2417.7617 2897.6445  False\n",
      "Central America   South America   422.9489    0.9 -1871.5747 2717.4725  False\n",
      "Central America Southern Europe   484.4771    0.9 -1880.2315 2849.1858  False\n",
      "Central America  Western Europe   768.4506    0.9  -1354.994 2891.8951  False\n",
      " Eastern Europe   North America   1188.871    0.9 -3405.0401  5782.782  False\n",
      " Eastern Europe Northern Europe   929.5536    0.9 -3768.6462 5627.7533  False\n",
      " Eastern Europe     Scandinavia   478.9714    0.9 -4373.3084 5331.2512  False\n",
      " Eastern Europe   South America   661.9789    0.9 -4001.2895 5325.2473  False\n",
      " Eastern Europe Southern Europe   723.5071    0.9 -3974.6926 5421.7069  False\n",
      " Eastern Europe  Western Europe  1007.4806    0.9 -3574.0312 5588.9924  False\n",
      "  North America Northern Europe  -259.3174    0.9  -1664.314 1145.6792  False\n",
      "  North America     Scandinavia  -709.8995    0.9 -2566.1199 1146.3208  False\n",
      "  North America   South America  -526.8921    0.9 -1810.2497  756.4655  False\n",
      "  North America Southern Europe  -465.3638    0.9 -1870.3604  939.6327  False\n",
      "  North America  Western Europe  -181.3904    0.9 -1125.4163  762.6355  False\n",
      "Northern Europe     Scandinavia  -450.5821    0.9 -2551.6809 1650.5167  False\n",
      "Northern Europe   South America  -267.5747    0.9 -1885.0013 1349.8519  False\n",
      "Northern Europe Southern Europe  -206.0464    0.9 -1921.5864 1509.4936  False\n",
      "Northern Europe  Western Europe     77.927    0.9 -1285.9817 1441.8357  False\n",
      "    Scandinavia   South America   183.0075    0.9 -1838.7758 2204.7907  False\n",
      "    Scandinavia Southern Europe   244.5357    0.9 -1856.5631 2345.6345  False\n",
      "    Scandinavia  Western Europe   528.5091    0.9 -1296.8089 2353.8271  False\n",
      "  South America Southern Europe    61.5283    0.9 -1555.8984 1678.9549  False\n",
      "  South America  Western Europe   345.5017    0.9  -892.7384 1583.7417  False\n",
      "Southern Europe  Western Europe   283.9734    0.9 -1079.9353 1647.8822  False\n",
      "-----------------------------------------------------------------------------\n"
     ]
    }
   ],
   "source": [
    "# Run Tukey's HSD Test for each category and customer region interaction\n",
    "results = []\n",
    "for i in q4_data['CategoryName'].unique():\n",
    "    mc = MultiComparison(q4_data['Revenue'][q4_data['CategoryName'] == i], q4_data['CustomerRegion'][q4_data['CategoryName'] == i])\n",
    "    result = mc.tukeyhsd()\n",
    "    results.append(result)\n",
    "    print (i)\n",
    "    print(result)"
   ]
  },
  {
   "cell_type": "markdown",
   "metadata": {},
   "source": [
    "### Interpretation of Results"
   ]
  },
  {
   "cell_type": "markdown",
   "metadata": {},
   "source": [
    "The results of the ANOVA test show a high F-stat (9.136929e-01), meaning we Fail to Reject the Null Hypothesis.  Furthermore, the Tukey's HSD Test also confirms no statistically significant differences in the interactions between Category and Customer Region as it affects Total Revenue per category."
   ]
  },
  {
   "cell_type": "markdown",
   "metadata": {},
   "source": [
    "# Conclusion"
   ]
  },
  {
   "cell_type": "markdown",
   "metadata": {},
   "source": [
    "## Summary of Findings:"
   ]
  },
  {
   "cell_type": "markdown",
   "metadata": {},
   "source": [
    "- **Discounts increase the average quantity ordered of a product, although the effect size is considered small at 0.2.**\n",
    "    - Given the low p-value produced from the Welch's T-Test, we are able to Reject the Null Hypothesis in favor of the Alternate Hypothesis, meaning that the average quantity ordered when a discount is available is higher than occasions where no discount is provided. \n",
    "    - Specifically, the average quantity ordered of a product is 27 under a discount, compared to ~22 on average for no discounts; this difference is statistically significant. That being said, our effect size (reflected in the standardized score provided by the Cohen's d measure) shows that the effect size is considered small at 0.286.\n",
    "- **There is a statistically significant difference between the mean number of orders managed by US versus UK employees.**\n",
    "    - US employees have an average order total of 121.2 orders, compared to UK employees who average 56 orders.\n",
    "    - we ran both a two-sample t-test and ANOVA to understand if the difference between the performance of US versus UK employees, via total number of orders, is statistically different. Given the fact that we only have two categories (US versus UK) the ANOVA p-value and the student's t-test p-value produced are the same, as expected. \n",
    "    - With a p-value of 0.002 we were able to Reject the Null Hypothesis. The effect size is also quite large, indicated by the Cohen's d-stat of 3.2. \n",
    "- **Across the 3 Shipping Companies, United Package has the lengthiest processing time of 9.2 days on average, compared to Federal Shipping’s average of 7.5 days.**\n",
    "    - The results of the ANOVA test show that p-value of 0.00956 was less than our alpha level of 0.01667, so we were able to Reject the Null Hypothesis and state that there is a statistically significant difference between the average processing times for each of these shipping companies.\n",
    "    - After rejecting the null hypothesis given our ANOVA test results, we performed the Tukey's HSD test, and from there we saw that we're able to reject the null hypothesis only for comparing Federal Shipping and United Package. \n",
    "        - There is a statistically significant difference in average processing time between Federal Shipping and United Package, where the former has an average processing time of 7.5 days compared to United Package's average processing time of 9.2 days.\n",
    "- There is no statistically significant interaction between Category and Customer Region in terms of the effect on Total Revenue per category. \n",
    "    - The results of the ANOVA test show a high F-stat (9.136929e-01), meaning we Fail to Reject the Null Hypothesis. Furthermore, the Tukey's HSD Test also confirms no statistically significant differences in the interactions between Category and Customer Region as it affects Total Revenue per category."
   ]
  },
  {
   "cell_type": "markdown",
   "metadata": {},
   "source": [
    "## Further Considerations"
   ]
  },
  {
   "cell_type": "markdown",
   "metadata": {},
   "source": [
    "- Additional analysis should be conducted to understand **for which categories and/or products providing a discount will likely generate increases to quantity ordered.**\n",
    "- Before devising a strategy to address the **discrepancies in employee performance** (as indicated through order load), additional investigation is required to determine:\n",
    "    - what the optimal level of orders per employee should be, with consideration of maintaining client satisfaction, avoiding overload, variations in processes for processing different order types (perhaps dealing with certain regions, suppliers, categories, is more or less time-consuming)\n",
    "    - evaluate any existing sales incentives\n",
    "    - define other metrics for employee performance, to be considered in conjunction with the order load metric.\n",
    "- Refine analysis of shipping companies' to consider **costs and expediency of certain orders.**\n",
    "- We noted earlier that of the 8 discontinued products, 4 of them were from the meat/poultry category (CategoryId 6). We can see that these 4 meat/poultry products that have been discontinued came from 4 separate suppliers, indicating that the cause of their being discontinued isn't tied to a single supplier's actions. We also know that meat/poultry is a significant source of revenue for the company, as such sudden disruption in product offerings could have notable effects on company revenue."
   ]
  }
 ],
 "metadata": {
  "kernelspec": {
   "display_name": "learn-env",
   "language": "python",
   "name": "learn-env"
  },
  "language_info": {
   "codemirror_mode": {
    "name": "ipython",
    "version": 3
   },
   "file_extension": ".py",
   "mimetype": "text/x-python",
   "name": "python",
   "nbconvert_exporter": "python",
   "pygments_lexer": "ipython3",
   "version": "3.6.9"
  },
  "toc": {
   "base_numbering": 1,
   "nav_menu": {},
   "number_sections": true,
   "sideBar": true,
   "skip_h1_title": false,
   "title_cell": "Table of Contents",
   "title_sidebar": "Contents",
   "toc_cell": false,
   "toc_position": {
    "height": "calc(100% - 180px)",
    "left": "10px",
    "top": "150px",
    "width": "250px"
   },
   "toc_section_display": true,
   "toc_window_display": true
  },
  "varInspector": {
   "cols": {
    "lenName": 16,
    "lenType": 16,
    "lenVar": 40
   },
   "kernels_config": {
    "python": {
     "delete_cmd_postfix": "",
     "delete_cmd_prefix": "del ",
     "library": "var_list.py",
     "varRefreshCmd": "print(var_dic_list())"
    },
    "r": {
     "delete_cmd_postfix": ") ",
     "delete_cmd_prefix": "rm(",
     "library": "var_list.r",
     "varRefreshCmd": "cat(var_dic_list()) "
    }
   },
   "types_to_exclude": [
    "module",
    "function",
    "builtin_function_or_method",
    "instance",
    "_Feature"
   ],
   "window_display": false
  }
 },
 "nbformat": 4,
 "nbformat_minor": 2
}
